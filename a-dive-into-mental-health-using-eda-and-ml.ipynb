{
 "cells": [
  {
   "cell_type": "markdown",
   "id": "ef6ee29a",
   "metadata": {
    "papermill": {
     "duration": 0.022674,
     "end_time": "2024-11-28T14:09:01.085456",
     "exception": false,
     "start_time": "2024-11-28T14:09:01.062782",
     "status": "completed"
    },
    "tags": []
   },
   "source": [
    "# **Exploring Mental Health - Beginner's Guide**"
   ]
  },
  {
   "cell_type": "markdown",
   "id": "30a17f2d",
   "metadata": {
    "papermill": {
     "duration": 0.018729,
     "end_time": "2024-11-28T14:09:01.123290",
     "exception": false,
     "start_time": "2024-11-28T14:09:01.104561",
     "status": "completed"
    },
    "tags": []
   },
   "source": [
    "## [1] Introduction\n",
    "\n",
    "Mental health plays a crucial role in people’s well-being, yet the factors that lead to depression are complex. In this competition, our goal is to explore data from a mental health survey to find patterns or factors that might contribute to depression.\n",
    "\n",
    "The dataset includes responses on various demographic and psychological factors. By analyzing these, we aim to build a model that can help identify trends linked to depression, potentially supporting early detection and intervention efforts.\n",
    "\n",
    "![Alt Text](/kaggle/input/images/mental-health.webp)\n",
    "\n",
    "\n",
    "## [2] What we have to do?\n",
    "1. **Exploratory Data Analysis (EDA)**: \n",
    "   - Understanding the data, visualizing relationships, and uncovering patterns. Investigating features distribution and visualize relationships. \n",
    " ##\n",
    "3. **Modeling**:\n",
    "   - Apply machine learning techniques to build predictive models."
   ]
  },
  {
   "cell_type": "markdown",
   "id": "5c4d78ea",
   "metadata": {
    "papermill": {
     "duration": 0.018421,
     "end_time": "2024-11-28T14:09:01.160543",
     "exception": false,
     "start_time": "2024-11-28T14:09:01.142122",
     "status": "completed"
    },
    "tags": []
   },
   "source": [
    "## [3] Data Overview"
   ]
  },
  {
   "cell_type": "markdown",
   "id": "120a496d",
   "metadata": {
    "papermill": {
     "duration": 0.018437,
     "end_time": "2024-11-28T14:09:01.197554",
     "exception": false,
     "start_time": "2024-11-28T14:09:01.179117",
     "status": "completed"
    },
    "tags": []
   },
   "source": [
    "| Column                             | Description                                                                                   |\n",
    "|------------------------------------|-----------------------------------------------------------------------------------------------|\n",
    "| `id`                               | Unique identifier for each survey response.                                                   |\n",
    "| `Name`                             | Respondent's name.                                                               |\n",
    "| `Gender`                           | Gender of the respondent.                                         |\n",
    "| `Age`                              | Age of the respondent in years.                                                               |\n",
    "| `City`                             | City where the respondent lives.                                                              |\n",
    "| `Working Professional or Student`  | Whether the respondent is a working professional or a student.                                |\n",
    "| `Profession`                       | Profession or field of work for working professionals.                                        |\n",
    "| `Academic Pressure`                | Level of academic stress experienced.                               |\n",
    "| `Work Pressure`                    | Level of work-related stress experienced.                           |\n",
    "| `CGPA`                             | Cumulative Grade Point Average for students.                                                  |\n",
    "| `Study Satisfaction`               | Respondent’s satisfaction with their studies.                       |\n",
    "| `Job Satisfaction`                 | Respondent’s satisfaction with their job.                           |\n",
    "| `Sleep Duration`                   | Average hours of sleep per night.                                                             |\n",
    "| `Dietary Habits`                   | Information about eating habits.                                 |\n",
    "| `Degree`                           | Highest degree or level of education achieved.                                                |\n",
    "| `Have you ever had suicidal thoughts?` | Whether the respondent has experienced suicidal thoughts.                    |\n",
    "| `Work/Study Hours`                 | Average hours spent working or studying per day.                                              |\n",
    "| `Financial Stress`                 | Level of financial stress experienced.                              |\n",
    "| `Family History of Mental Illness` | Whether there is a family history of mental health issues.                           |\n",
    "| `Depression`                       | Whether the respondent shows signs of depression (target variable).                           |"
   ]
  },
  {
   "cell_type": "code",
   "execution_count": 1,
   "id": "8b863fda",
   "metadata": {
    "execution": {
     "iopub.execute_input": "2024-11-28T14:09:01.236538Z",
     "iopub.status.busy": "2024-11-28T14:09:01.236111Z",
     "iopub.status.idle": "2024-11-28T14:09:04.149818Z",
     "shell.execute_reply": "2024-11-28T14:09:04.148527Z"
    },
    "papermill": {
     "duration": 2.936084,
     "end_time": "2024-11-28T14:09:04.152362",
     "exception": false,
     "start_time": "2024-11-28T14:09:01.216278",
     "status": "completed"
    },
    "tags": []
   },
   "outputs": [],
   "source": [
    "import pandas as pd\n",
    "import numpy as np\n",
    "import matplotlib.pyplot as plt\n",
    "import seaborn as sns\n",
    "import folium"
   ]
  },
  {
   "cell_type": "code",
   "execution_count": 2,
   "id": "d046d240",
   "metadata": {
    "execution": {
     "iopub.execute_input": "2024-11-28T14:09:04.191549Z",
     "iopub.status.busy": "2024-11-28T14:09:04.190958Z",
     "iopub.status.idle": "2024-11-28T14:09:04.782166Z",
     "shell.execute_reply": "2024-11-28T14:09:04.781128Z"
    },
    "papermill": {
     "duration": 0.613591,
     "end_time": "2024-11-28T14:09:04.784689",
     "exception": false,
     "start_time": "2024-11-28T14:09:04.171098",
     "status": "completed"
    },
    "tags": []
   },
   "outputs": [],
   "source": [
    "train_data = pd.read_csv('/kaggle/input/playground-series-s4e11/train.csv')"
   ]
  },
  {
   "cell_type": "code",
   "execution_count": 3,
   "id": "0d3d5a15",
   "metadata": {
    "execution": {
     "iopub.execute_input": "2024-11-28T14:09:04.825029Z",
     "iopub.status.busy": "2024-11-28T14:09:04.824623Z",
     "iopub.status.idle": "2024-11-28T14:09:04.859405Z",
     "shell.execute_reply": "2024-11-28T14:09:04.858211Z"
    },
    "papermill": {
     "duration": 0.057236,
     "end_time": "2024-11-28T14:09:04.861854",
     "exception": false,
     "start_time": "2024-11-28T14:09:04.804618",
     "status": "completed"
    },
    "tags": []
   },
   "outputs": [
    {
     "data": {
      "text/html": [
       "<div>\n",
       "<style scoped>\n",
       "    .dataframe tbody tr th:only-of-type {\n",
       "        vertical-align: middle;\n",
       "    }\n",
       "\n",
       "    .dataframe tbody tr th {\n",
       "        vertical-align: top;\n",
       "    }\n",
       "\n",
       "    .dataframe thead th {\n",
       "        text-align: right;\n",
       "    }\n",
       "</style>\n",
       "<table border=\"1\" class=\"dataframe\">\n",
       "  <thead>\n",
       "    <tr style=\"text-align: right;\">\n",
       "      <th></th>\n",
       "      <th>id</th>\n",
       "      <th>Name</th>\n",
       "      <th>Gender</th>\n",
       "      <th>Age</th>\n",
       "      <th>City</th>\n",
       "      <th>Working Professional or Student</th>\n",
       "      <th>Profession</th>\n",
       "      <th>Academic Pressure</th>\n",
       "      <th>Work Pressure</th>\n",
       "      <th>CGPA</th>\n",
       "      <th>Study Satisfaction</th>\n",
       "      <th>Job Satisfaction</th>\n",
       "      <th>Sleep Duration</th>\n",
       "      <th>Dietary Habits</th>\n",
       "      <th>Degree</th>\n",
       "      <th>Have you ever had suicidal thoughts ?</th>\n",
       "      <th>Work/Study Hours</th>\n",
       "      <th>Financial Stress</th>\n",
       "      <th>Family History of Mental Illness</th>\n",
       "      <th>Depression</th>\n",
       "    </tr>\n",
       "  </thead>\n",
       "  <tbody>\n",
       "    <tr>\n",
       "      <th>0</th>\n",
       "      <td>0</td>\n",
       "      <td>Aaradhya</td>\n",
       "      <td>Female</td>\n",
       "      <td>49.0</td>\n",
       "      <td>Ludhiana</td>\n",
       "      <td>Working Professional</td>\n",
       "      <td>Chef</td>\n",
       "      <td>NaN</td>\n",
       "      <td>5.0</td>\n",
       "      <td>NaN</td>\n",
       "      <td>NaN</td>\n",
       "      <td>2.0</td>\n",
       "      <td>More than 8 hours</td>\n",
       "      <td>Healthy</td>\n",
       "      <td>BHM</td>\n",
       "      <td>No</td>\n",
       "      <td>1.0</td>\n",
       "      <td>2.0</td>\n",
       "      <td>No</td>\n",
       "      <td>0</td>\n",
       "    </tr>\n",
       "    <tr>\n",
       "      <th>1</th>\n",
       "      <td>1</td>\n",
       "      <td>Vivan</td>\n",
       "      <td>Male</td>\n",
       "      <td>26.0</td>\n",
       "      <td>Varanasi</td>\n",
       "      <td>Working Professional</td>\n",
       "      <td>Teacher</td>\n",
       "      <td>NaN</td>\n",
       "      <td>4.0</td>\n",
       "      <td>NaN</td>\n",
       "      <td>NaN</td>\n",
       "      <td>3.0</td>\n",
       "      <td>Less than 5 hours</td>\n",
       "      <td>Unhealthy</td>\n",
       "      <td>LLB</td>\n",
       "      <td>Yes</td>\n",
       "      <td>7.0</td>\n",
       "      <td>3.0</td>\n",
       "      <td>No</td>\n",
       "      <td>1</td>\n",
       "    </tr>\n",
       "    <tr>\n",
       "      <th>2</th>\n",
       "      <td>2</td>\n",
       "      <td>Yuvraj</td>\n",
       "      <td>Male</td>\n",
       "      <td>33.0</td>\n",
       "      <td>Visakhapatnam</td>\n",
       "      <td>Student</td>\n",
       "      <td>NaN</td>\n",
       "      <td>5.0</td>\n",
       "      <td>NaN</td>\n",
       "      <td>8.97</td>\n",
       "      <td>2.0</td>\n",
       "      <td>NaN</td>\n",
       "      <td>5-6 hours</td>\n",
       "      <td>Healthy</td>\n",
       "      <td>B.Pharm</td>\n",
       "      <td>Yes</td>\n",
       "      <td>3.0</td>\n",
       "      <td>1.0</td>\n",
       "      <td>No</td>\n",
       "      <td>1</td>\n",
       "    </tr>\n",
       "    <tr>\n",
       "      <th>3</th>\n",
       "      <td>3</td>\n",
       "      <td>Yuvraj</td>\n",
       "      <td>Male</td>\n",
       "      <td>22.0</td>\n",
       "      <td>Mumbai</td>\n",
       "      <td>Working Professional</td>\n",
       "      <td>Teacher</td>\n",
       "      <td>NaN</td>\n",
       "      <td>5.0</td>\n",
       "      <td>NaN</td>\n",
       "      <td>NaN</td>\n",
       "      <td>1.0</td>\n",
       "      <td>Less than 5 hours</td>\n",
       "      <td>Moderate</td>\n",
       "      <td>BBA</td>\n",
       "      <td>Yes</td>\n",
       "      <td>10.0</td>\n",
       "      <td>1.0</td>\n",
       "      <td>Yes</td>\n",
       "      <td>1</td>\n",
       "    </tr>\n",
       "    <tr>\n",
       "      <th>4</th>\n",
       "      <td>4</td>\n",
       "      <td>Rhea</td>\n",
       "      <td>Female</td>\n",
       "      <td>30.0</td>\n",
       "      <td>Kanpur</td>\n",
       "      <td>Working Professional</td>\n",
       "      <td>Business Analyst</td>\n",
       "      <td>NaN</td>\n",
       "      <td>1.0</td>\n",
       "      <td>NaN</td>\n",
       "      <td>NaN</td>\n",
       "      <td>1.0</td>\n",
       "      <td>5-6 hours</td>\n",
       "      <td>Unhealthy</td>\n",
       "      <td>BBA</td>\n",
       "      <td>Yes</td>\n",
       "      <td>9.0</td>\n",
       "      <td>4.0</td>\n",
       "      <td>Yes</td>\n",
       "      <td>0</td>\n",
       "    </tr>\n",
       "  </tbody>\n",
       "</table>\n",
       "</div>"
      ],
      "text/plain": [
       "   id      Name  Gender   Age           City Working Professional or Student  \\\n",
       "0   0  Aaradhya  Female  49.0       Ludhiana            Working Professional   \n",
       "1   1     Vivan    Male  26.0       Varanasi            Working Professional   \n",
       "2   2    Yuvraj    Male  33.0  Visakhapatnam                         Student   \n",
       "3   3    Yuvraj    Male  22.0         Mumbai            Working Professional   \n",
       "4   4      Rhea  Female  30.0         Kanpur            Working Professional   \n",
       "\n",
       "         Profession  Academic Pressure  Work Pressure  CGPA  \\\n",
       "0              Chef                NaN            5.0   NaN   \n",
       "1           Teacher                NaN            4.0   NaN   \n",
       "2               NaN                5.0            NaN  8.97   \n",
       "3           Teacher                NaN            5.0   NaN   \n",
       "4  Business Analyst                NaN            1.0   NaN   \n",
       "\n",
       "   Study Satisfaction  Job Satisfaction     Sleep Duration Dietary Habits  \\\n",
       "0                 NaN               2.0  More than 8 hours        Healthy   \n",
       "1                 NaN               3.0  Less than 5 hours      Unhealthy   \n",
       "2                 2.0               NaN          5-6 hours        Healthy   \n",
       "3                 NaN               1.0  Less than 5 hours       Moderate   \n",
       "4                 NaN               1.0          5-6 hours      Unhealthy   \n",
       "\n",
       "    Degree Have you ever had suicidal thoughts ?  Work/Study Hours  \\\n",
       "0      BHM                                    No               1.0   \n",
       "1      LLB                                   Yes               7.0   \n",
       "2  B.Pharm                                   Yes               3.0   \n",
       "3      BBA                                   Yes              10.0   \n",
       "4      BBA                                   Yes               9.0   \n",
       "\n",
       "   Financial Stress Family History of Mental Illness  Depression  \n",
       "0               2.0                               No           0  \n",
       "1               3.0                               No           1  \n",
       "2               1.0                               No           1  \n",
       "3               1.0                              Yes           1  \n",
       "4               4.0                              Yes           0  "
      ]
     },
     "execution_count": 3,
     "metadata": {},
     "output_type": "execute_result"
    }
   ],
   "source": [
    "train_data.head(5)"
   ]
  },
  {
   "cell_type": "code",
   "execution_count": 4,
   "id": "41f0bc3d",
   "metadata": {
    "execution": {
     "iopub.execute_input": "2024-11-28T14:09:04.903376Z",
     "iopub.status.busy": "2024-11-28T14:09:04.902955Z",
     "iopub.status.idle": "2024-11-28T14:09:04.909549Z",
     "shell.execute_reply": "2024-11-28T14:09:04.908124Z"
    },
    "papermill": {
     "duration": 0.030953,
     "end_time": "2024-11-28T14:09:04.912077",
     "exception": false,
     "start_time": "2024-11-28T14:09:04.881124",
     "status": "completed"
    },
    "tags": []
   },
   "outputs": [
    {
     "name": "stdout",
     "output_type": "stream",
     "text": [
      "The training dataset contains 140700 examples (rows) and 20 features (columns).\n"
     ]
    }
   ],
   "source": [
    "print(f\"The training dataset contains {train_data.shape[0]} examples (rows) and {train_data.shape[1]} features (columns).\")"
   ]
  },
  {
   "cell_type": "code",
   "execution_count": 5,
   "id": "10598c35",
   "metadata": {
    "execution": {
     "iopub.execute_input": "2024-11-28T14:09:04.954220Z",
     "iopub.status.busy": "2024-11-28T14:09:04.953040Z",
     "iopub.status.idle": "2024-11-28T14:09:04.974909Z",
     "shell.execute_reply": "2024-11-28T14:09:04.973772Z"
    },
    "papermill": {
     "duration": 0.046078,
     "end_time": "2024-11-28T14:09:04.977520",
     "exception": false,
     "start_time": "2024-11-28T14:09:04.931442",
     "status": "completed"
    },
    "tags": []
   },
   "outputs": [
    {
     "data": {
      "text/plain": [
       "422"
      ]
     },
     "execution_count": 5,
     "metadata": {},
     "output_type": "execute_result"
    }
   ],
   "source": [
    "train_data.Name.nunique()"
   ]
  },
  {
   "cell_type": "markdown",
   "id": "b28583c5",
   "metadata": {
    "papermill": {
     "duration": 0.018986,
     "end_time": "2024-11-28T14:09:05.016904",
     "exception": false,
     "start_time": "2024-11-28T14:09:04.997918",
     "status": "completed"
    },
    "tags": []
   },
   "source": [
    "- We observe that the *Name* attribute is not unique across all rows, which suggests it might represent family names or shared identifiers rather than unique individual names."
   ]
  },
  {
   "cell_type": "code",
   "execution_count": 6,
   "id": "40e0a46a",
   "metadata": {
    "execution": {
     "iopub.execute_input": "2024-11-28T14:09:05.057370Z",
     "iopub.status.busy": "2024-11-28T14:09:05.056962Z",
     "iopub.status.idle": "2024-11-28T14:09:05.081347Z",
     "shell.execute_reply": "2024-11-28T14:09:05.080296Z"
    },
    "papermill": {
     "duration": 0.047307,
     "end_time": "2024-11-28T14:09:05.083503",
     "exception": false,
     "start_time": "2024-11-28T14:09:05.036196",
     "status": "completed"
    },
    "tags": []
   },
   "outputs": [
    {
     "data": {
      "text/plain": [
       "Gender\n",
       "Male      77464\n",
       "Female    63236\n",
       "Name: count, dtype: int64"
      ]
     },
     "execution_count": 6,
     "metadata": {},
     "output_type": "execute_result"
    }
   ],
   "source": [
    "train_data.Gender.value_counts()"
   ]
  },
  {
   "cell_type": "code",
   "execution_count": 7,
   "id": "d47e388f",
   "metadata": {
    "execution": {
     "iopub.execute_input": "2024-11-28T14:09:05.124669Z",
     "iopub.status.busy": "2024-11-28T14:09:05.124282Z",
     "iopub.status.idle": "2024-11-28T14:09:05.214085Z",
     "shell.execute_reply": "2024-11-28T14:09:05.212602Z"
    },
    "papermill": {
     "duration": 0.113693,
     "end_time": "2024-11-28T14:09:05.216600",
     "exception": false,
     "start_time": "2024-11-28T14:09:05.102907",
     "status": "completed"
    },
    "tags": []
   },
   "outputs": [
    {
     "name": "stdout",
     "output_type": "stream",
     "text": [
      "<class 'pandas.core.frame.DataFrame'>\n",
      "RangeIndex: 140700 entries, 0 to 140699\n",
      "Data columns (total 20 columns):\n",
      " #   Column                                 Non-Null Count   Dtype  \n",
      "---  ------                                 --------------   -----  \n",
      " 0   id                                     140700 non-null  int64  \n",
      " 1   Name                                   140700 non-null  object \n",
      " 2   Gender                                 140700 non-null  object \n",
      " 3   Age                                    140700 non-null  float64\n",
      " 4   City                                   140700 non-null  object \n",
      " 5   Working Professional or Student        140700 non-null  object \n",
      " 6   Profession                             104070 non-null  object \n",
      " 7   Academic Pressure                      27897 non-null   float64\n",
      " 8   Work Pressure                          112782 non-null  float64\n",
      " 9   CGPA                                   27898 non-null   float64\n",
      " 10  Study Satisfaction                     27897 non-null   float64\n",
      " 11  Job Satisfaction                       112790 non-null  float64\n",
      " 12  Sleep Duration                         140700 non-null  object \n",
      " 13  Dietary Habits                         140696 non-null  object \n",
      " 14  Degree                                 140698 non-null  object \n",
      " 15  Have you ever had suicidal thoughts ?  140700 non-null  object \n",
      " 16  Work/Study Hours                       140700 non-null  float64\n",
      " 17  Financial Stress                       140696 non-null  float64\n",
      " 18  Family History of Mental Illness       140700 non-null  object \n",
      " 19  Depression                             140700 non-null  int64  \n",
      "dtypes: float64(8), int64(2), object(10)\n",
      "memory usage: 21.5+ MB\n"
     ]
    }
   ],
   "source": [
    "train_data.info()"
   ]
  },
  {
   "cell_type": "code",
   "execution_count": 8,
   "id": "82a937f5",
   "metadata": {
    "execution": {
     "iopub.execute_input": "2024-11-28T14:09:05.257544Z",
     "iopub.status.busy": "2024-11-28T14:09:05.257095Z",
     "iopub.status.idle": "2024-11-28T14:09:05.263919Z",
     "shell.execute_reply": "2024-11-28T14:09:05.262800Z"
    },
    "papermill": {
     "duration": 0.030249,
     "end_time": "2024-11-28T14:09:05.266325",
     "exception": false,
     "start_time": "2024-11-28T14:09:05.236076",
     "status": "completed"
    },
    "tags": []
   },
   "outputs": [],
   "source": [
    "train_data['Age'] = train_data['Age'].astype('int64')"
   ]
  },
  {
   "cell_type": "markdown",
   "id": "8504d356",
   "metadata": {
    "papermill": {
     "duration": 0.019364,
     "end_time": "2024-11-28T14:09:05.305630",
     "exception": false,
     "start_time": "2024-11-28T14:09:05.286266",
     "status": "completed"
    },
    "tags": []
   },
   "source": [
    "We can see that the dataset contains missing values in several columns. We'll review each column individually to determine the best approach for handling these missing values, ensuring we maintain data integrity and maximize the usefulness of our dataset for analysis."
   ]
  },
  {
   "cell_type": "markdown",
   "id": "f113a5a2",
   "metadata": {
    "papermill": {
     "duration": 0.019492,
     "end_time": "2024-11-28T14:09:05.344750",
     "exception": false,
     "start_time": "2024-11-28T14:09:05.325258",
     "status": "completed"
    },
    "tags": []
   },
   "source": [
    "## [4] Missing Values"
   ]
  },
  {
   "cell_type": "markdown",
   "id": "f45e732b",
   "metadata": {
    "papermill": {
     "duration": 0.02023,
     "end_time": "2024-11-28T14:09:05.384463",
     "exception": false,
     "start_time": "2024-11-28T14:09:05.364233",
     "status": "completed"
    },
    "tags": []
   },
   "source": [
    "- We will start with `Profession` column"
   ]
  },
  {
   "cell_type": "code",
   "execution_count": 9,
   "id": "cc4d4575",
   "metadata": {
    "execution": {
     "iopub.execute_input": "2024-11-28T14:09:05.427231Z",
     "iopub.status.busy": "2024-11-28T14:09:05.426827Z",
     "iopub.status.idle": "2024-11-28T14:09:05.446231Z",
     "shell.execute_reply": "2024-11-28T14:09:05.445057Z"
    },
    "papermill": {
     "duration": 0.043015,
     "end_time": "2024-11-28T14:09:05.448235",
     "exception": false,
     "start_time": "2024-11-28T14:09:05.405220",
     "status": "completed"
    },
    "tags": []
   },
   "outputs": [
    {
     "data": {
      "text/plain": [
       "Profession\n",
       "Teacher           24906\n",
       "Content Writer     7814\n",
       "Architect          4370\n",
       "Consultant         4229\n",
       "HR Manager         4022\n",
       "                  ...  \n",
       "BBA                   1\n",
       "City Manager          1\n",
       "FamilyVirar           1\n",
       "B.Com                 1\n",
       "Yuvraj                1\n",
       "Name: count, Length: 64, dtype: int64"
      ]
     },
     "execution_count": 9,
     "metadata": {},
     "output_type": "execute_result"
    }
   ],
   "source": [
    "train_data['Profession'].value_counts()"
   ]
  },
  {
   "cell_type": "code",
   "execution_count": 10,
   "id": "94e1fed5",
   "metadata": {
    "execution": {
     "iopub.execute_input": "2024-11-28T14:09:05.489840Z",
     "iopub.status.busy": "2024-11-28T14:09:05.488800Z",
     "iopub.status.idle": "2024-11-28T14:09:05.502691Z",
     "shell.execute_reply": "2024-11-28T14:09:05.501448Z"
    },
    "papermill": {
     "duration": 0.036364,
     "end_time": "2024-11-28T14:09:05.504638",
     "exception": false,
     "start_time": "2024-11-28T14:09:05.468274",
     "status": "completed"
    },
    "tags": []
   },
   "outputs": [
    {
     "data": {
      "text/plain": [
       "array(['Chef', 'Teacher', nan, 'Business Analyst', 'Finanancial Analyst',\n",
       "       'Chemist', 'Electrician', 'Software Engineer', 'Data Scientist',\n",
       "       'Plumber', 'Marketing Manager', 'Accountant', 'Entrepreneur',\n",
       "       'HR Manager', 'UX/UI Designer', 'Content Writer',\n",
       "       'Educational Consultant', 'Civil Engineer', 'Manager',\n",
       "       'Pharmacist', 'Financial Analyst', 'Architect',\n",
       "       'Mechanical Engineer', 'Customer Support', 'Consultant', 'Judge',\n",
       "       'Researcher', 'Pilot', 'Graphic Designer', 'Travel Consultant',\n",
       "       'Digital Marketer', 'Lawyer', 'Research Analyst',\n",
       "       'Sales Executive', 'Doctor', 'Unemployed', 'Investment Banker',\n",
       "       'Family Consultant', 'B.Com', 'BE', 'Student', 'Yogesh', 'Dev',\n",
       "       'MBA', 'LLM', 'BCA', 'Academic', 'Profession', 'FamilyVirar',\n",
       "       'City Manager', 'BBA', 'Medical Doctor', 'Working Professional',\n",
       "       'MBBS', 'Patna', 'Unveil', 'B.Ed', 'Nagpur', 'Moderate', 'M.Ed',\n",
       "       'Analyst', 'Pranav', 'Visakhapatnam', 'PhD', 'Yuvraj'],\n",
       "      dtype=object)"
      ]
     },
     "execution_count": 10,
     "metadata": {},
     "output_type": "execute_result"
    }
   ],
   "source": [
    "train_data['Profession'].unique()"
   ]
  },
  {
   "cell_type": "markdown",
   "id": "3024ba57",
   "metadata": {
    "papermill": {
     "duration": 0.019264,
     "end_time": "2024-11-28T14:09:05.543304",
     "exception": false,
     "start_time": "2024-11-28T14:09:05.524040",
     "status": "completed"
    },
    "tags": []
   },
   "source": [
    "#### Unique Values in the `Profession` Column\n",
    "\n",
    "The unique values in the `Profession` column contain a mixture of valid job titles, academic degrees, and other inconsistent or non-professional entries.\n",
    "\n",
    "#### 1. **Job Titles:**\n",
    "These entries refer to actual occupations or roles individuals may have:\n",
    "- `Chef`, `Teacher`, `Business Analyst`, `Software Engineer`, `Data Scientist`, `Marketing Manager`, `Accountant`, `Pharmacist`, `Architect`, `Doctor`, `Investment Banker`, `HR Manager`, `Graphic Designer`, `Sales Executive`, etc.\n",
    "\n",
    "#### 2. **Academic Degrees or Educational Backgrounds:**\n",
    "These entries refer to educational qualifications rather than current professions:\n",
    "- `B.Com` – Bachelor of Commerce\n",
    "- `MBA` – Master of Business Administration\n",
    "- `LLM` – Master of Laws\n",
    "- `BCA` – Bachelor of Computer Applications\n",
    "- `BBA` – Bachelor of Business Administration\n",
    "- `MBBS` – Bachelor of Medicine, Bachelor of Surgery\n",
    "- `PhD` – Doctor of Philosophy\n",
    "- `B.Ed` – Bachelor of Education\n",
    "- `M.Ed` – Master of Education\n",
    "- `BE` – Bachelor of Engineering\n",
    "\n",
    "#### 3. **Potential Errors or Inconsistent Data:**\n",
    "Some entries appear to be incorrect or irrelevant in a `Profession` column:\n",
    "- `Yogesh`, `Dev`, `Pranav`, `Yuvraj` – Likely names, not professions.\n",
    "- `Patna`, `Visakhapatnam`, `Nagpur` – City names, which don’t fit the context of profession.\n",
    "- `FamilyVirar`, `City Manager`, `Unveil` – These do not correspond to standard professions and may be data entry errors.\n",
    "\n",
    "#### 4. **Descriptors:**\n",
    "These entries describe employment status or professional activity levels rather than specific job titles:\n",
    "- `Student`, `Unemployed`, `Moderate`, `Working Professional` – These suggest employment status or career stage rather than an occupation.\n"
   ]
  },
  {
   "cell_type": "code",
   "execution_count": 11,
   "id": "43b2f1aa",
   "metadata": {
    "execution": {
     "iopub.execute_input": "2024-11-28T14:09:05.584292Z",
     "iopub.status.busy": "2024-11-28T14:09:05.583919Z",
     "iopub.status.idle": "2024-11-28T14:09:05.597735Z",
     "shell.execute_reply": "2024-11-28T14:09:05.596580Z"
    },
    "papermill": {
     "duration": 0.036469,
     "end_time": "2024-11-28T14:09:05.599979",
     "exception": false,
     "start_time": "2024-11-28T14:09:05.563510",
     "status": "completed"
    },
    "tags": []
   },
   "outputs": [
    {
     "data": {
      "text/plain": [
       "36630"
      ]
     },
     "execution_count": 11,
     "metadata": {},
     "output_type": "execute_result"
    }
   ],
   "source": [
    "train_data['Profession'].isna().sum()"
   ]
  },
  {
   "cell_type": "code",
   "execution_count": 12,
   "id": "6e134df2",
   "metadata": {
    "execution": {
     "iopub.execute_input": "2024-11-28T14:09:05.641087Z",
     "iopub.status.busy": "2024-11-28T14:09:05.640712Z",
     "iopub.status.idle": "2024-11-28T14:09:05.679412Z",
     "shell.execute_reply": "2024-11-28T14:09:05.678363Z"
    },
    "papermill": {
     "duration": 0.06194,
     "end_time": "2024-11-28T14:09:05.681744",
     "exception": false,
     "start_time": "2024-11-28T14:09:05.619804",
     "status": "completed"
    },
    "tags": []
   },
   "outputs": [
    {
     "data": {
      "text/html": [
       "<div>\n",
       "<style scoped>\n",
       "    .dataframe tbody tr th:only-of-type {\n",
       "        vertical-align: middle;\n",
       "    }\n",
       "\n",
       "    .dataframe tbody tr th {\n",
       "        vertical-align: top;\n",
       "    }\n",
       "\n",
       "    .dataframe thead th {\n",
       "        text-align: right;\n",
       "    }\n",
       "</style>\n",
       "<table border=\"1\" class=\"dataframe\">\n",
       "  <thead>\n",
       "    <tr style=\"text-align: right;\">\n",
       "      <th></th>\n",
       "      <th>id</th>\n",
       "      <th>Name</th>\n",
       "      <th>Gender</th>\n",
       "      <th>Age</th>\n",
       "      <th>City</th>\n",
       "      <th>Working Professional or Student</th>\n",
       "      <th>Profession</th>\n",
       "      <th>Academic Pressure</th>\n",
       "      <th>Work Pressure</th>\n",
       "      <th>CGPA</th>\n",
       "      <th>Study Satisfaction</th>\n",
       "      <th>Job Satisfaction</th>\n",
       "      <th>Sleep Duration</th>\n",
       "      <th>Dietary Habits</th>\n",
       "      <th>Degree</th>\n",
       "      <th>Have you ever had suicidal thoughts ?</th>\n",
       "      <th>Work/Study Hours</th>\n",
       "      <th>Financial Stress</th>\n",
       "      <th>Family History of Mental Illness</th>\n",
       "      <th>Depression</th>\n",
       "    </tr>\n",
       "  </thead>\n",
       "  <tbody>\n",
       "    <tr>\n",
       "      <th>2</th>\n",
       "      <td>2</td>\n",
       "      <td>Yuvraj</td>\n",
       "      <td>Male</td>\n",
       "      <td>33</td>\n",
       "      <td>Visakhapatnam</td>\n",
       "      <td>Student</td>\n",
       "      <td>NaN</td>\n",
       "      <td>5.0</td>\n",
       "      <td>NaN</td>\n",
       "      <td>8.97</td>\n",
       "      <td>2.0</td>\n",
       "      <td>NaN</td>\n",
       "      <td>5-6 hours</td>\n",
       "      <td>Healthy</td>\n",
       "      <td>B.Pharm</td>\n",
       "      <td>Yes</td>\n",
       "      <td>3.0</td>\n",
       "      <td>1.0</td>\n",
       "      <td>No</td>\n",
       "      <td>1</td>\n",
       "    </tr>\n",
       "    <tr>\n",
       "      <th>8</th>\n",
       "      <td>8</td>\n",
       "      <td>Aishwarya</td>\n",
       "      <td>Female</td>\n",
       "      <td>24</td>\n",
       "      <td>Bangalore</td>\n",
       "      <td>Student</td>\n",
       "      <td>NaN</td>\n",
       "      <td>2.0</td>\n",
       "      <td>NaN</td>\n",
       "      <td>5.90</td>\n",
       "      <td>5.0</td>\n",
       "      <td>NaN</td>\n",
       "      <td>5-6 hours</td>\n",
       "      <td>Moderate</td>\n",
       "      <td>BSc</td>\n",
       "      <td>No</td>\n",
       "      <td>3.0</td>\n",
       "      <td>2.0</td>\n",
       "      <td>Yes</td>\n",
       "      <td>0</td>\n",
       "    </tr>\n",
       "    <tr>\n",
       "      <th>26</th>\n",
       "      <td>26</td>\n",
       "      <td>Aditya</td>\n",
       "      <td>Male</td>\n",
       "      <td>31</td>\n",
       "      <td>Srinagar</td>\n",
       "      <td>Student</td>\n",
       "      <td>NaN</td>\n",
       "      <td>3.0</td>\n",
       "      <td>NaN</td>\n",
       "      <td>7.03</td>\n",
       "      <td>5.0</td>\n",
       "      <td>NaN</td>\n",
       "      <td>Less than 5 hours</td>\n",
       "      <td>Healthy</td>\n",
       "      <td>BA</td>\n",
       "      <td>No</td>\n",
       "      <td>9.0</td>\n",
       "      <td>1.0</td>\n",
       "      <td>Yes</td>\n",
       "      <td>0</td>\n",
       "    </tr>\n",
       "    <tr>\n",
       "      <th>29</th>\n",
       "      <td>29</td>\n",
       "      <td>Kashish</td>\n",
       "      <td>Female</td>\n",
       "      <td>19</td>\n",
       "      <td>Agra</td>\n",
       "      <td>Working Professional</td>\n",
       "      <td>NaN</td>\n",
       "      <td>NaN</td>\n",
       "      <td>1.0</td>\n",
       "      <td>NaN</td>\n",
       "      <td>NaN</td>\n",
       "      <td>5.0</td>\n",
       "      <td>More than 8 hours</td>\n",
       "      <td>Healthy</td>\n",
       "      <td>Class 12</td>\n",
       "      <td>No</td>\n",
       "      <td>5.0</td>\n",
       "      <td>2.0</td>\n",
       "      <td>No</td>\n",
       "      <td>0</td>\n",
       "    </tr>\n",
       "    <tr>\n",
       "      <th>30</th>\n",
       "      <td>30</td>\n",
       "      <td>Prisha</td>\n",
       "      <td>Female</td>\n",
       "      <td>28</td>\n",
       "      <td>Varanasi</td>\n",
       "      <td>Student</td>\n",
       "      <td>NaN</td>\n",
       "      <td>3.0</td>\n",
       "      <td>NaN</td>\n",
       "      <td>5.59</td>\n",
       "      <td>2.0</td>\n",
       "      <td>NaN</td>\n",
       "      <td>7-8 hours</td>\n",
       "      <td>Moderate</td>\n",
       "      <td>BCA</td>\n",
       "      <td>Yes</td>\n",
       "      <td>4.0</td>\n",
       "      <td>5.0</td>\n",
       "      <td>Yes</td>\n",
       "      <td>1</td>\n",
       "    </tr>\n",
       "    <tr>\n",
       "      <th>...</th>\n",
       "      <td>...</td>\n",
       "      <td>...</td>\n",
       "      <td>...</td>\n",
       "      <td>...</td>\n",
       "      <td>...</td>\n",
       "      <td>...</td>\n",
       "      <td>...</td>\n",
       "      <td>...</td>\n",
       "      <td>...</td>\n",
       "      <td>...</td>\n",
       "      <td>...</td>\n",
       "      <td>...</td>\n",
       "      <td>...</td>\n",
       "      <td>...</td>\n",
       "      <td>...</td>\n",
       "      <td>...</td>\n",
       "      <td>...</td>\n",
       "      <td>...</td>\n",
       "      <td>...</td>\n",
       "      <td>...</td>\n",
       "    </tr>\n",
       "    <tr>\n",
       "      <th>140686</th>\n",
       "      <td>140686</td>\n",
       "      <td>Rohan</td>\n",
       "      <td>Male</td>\n",
       "      <td>27</td>\n",
       "      <td>Ludhiana</td>\n",
       "      <td>Student</td>\n",
       "      <td>NaN</td>\n",
       "      <td>2.0</td>\n",
       "      <td>NaN</td>\n",
       "      <td>9.40</td>\n",
       "      <td>3.0</td>\n",
       "      <td>NaN</td>\n",
       "      <td>Less than 5 hours</td>\n",
       "      <td>Healthy</td>\n",
       "      <td>MSc</td>\n",
       "      <td>No</td>\n",
       "      <td>0.0</td>\n",
       "      <td>3.0</td>\n",
       "      <td>Yes</td>\n",
       "      <td>0</td>\n",
       "    </tr>\n",
       "    <tr>\n",
       "      <th>140689</th>\n",
       "      <td>140689</td>\n",
       "      <td>Ayaan</td>\n",
       "      <td>Male</td>\n",
       "      <td>31</td>\n",
       "      <td>Faridabad</td>\n",
       "      <td>Student</td>\n",
       "      <td>NaN</td>\n",
       "      <td>3.0</td>\n",
       "      <td>NaN</td>\n",
       "      <td>6.61</td>\n",
       "      <td>4.0</td>\n",
       "      <td>NaN</td>\n",
       "      <td>5-6 hours</td>\n",
       "      <td>Unhealthy</td>\n",
       "      <td>MD</td>\n",
       "      <td>No</td>\n",
       "      <td>12.0</td>\n",
       "      <td>2.0</td>\n",
       "      <td>No</td>\n",
       "      <td>0</td>\n",
       "    </tr>\n",
       "    <tr>\n",
       "      <th>140690</th>\n",
       "      <td>140690</td>\n",
       "      <td>Rashi</td>\n",
       "      <td>Female</td>\n",
       "      <td>18</td>\n",
       "      <td>Ludhiana</td>\n",
       "      <td>Student</td>\n",
       "      <td>NaN</td>\n",
       "      <td>5.0</td>\n",
       "      <td>NaN</td>\n",
       "      <td>6.88</td>\n",
       "      <td>2.0</td>\n",
       "      <td>NaN</td>\n",
       "      <td>Less than 5 hours</td>\n",
       "      <td>Healthy</td>\n",
       "      <td>Class 12</td>\n",
       "      <td>Yes</td>\n",
       "      <td>10.0</td>\n",
       "      <td>5.0</td>\n",
       "      <td>No</td>\n",
       "      <td>1</td>\n",
       "    </tr>\n",
       "    <tr>\n",
       "      <th>140695</th>\n",
       "      <td>140695</td>\n",
       "      <td>Vidya</td>\n",
       "      <td>Female</td>\n",
       "      <td>18</td>\n",
       "      <td>Ahmedabad</td>\n",
       "      <td>Working Professional</td>\n",
       "      <td>NaN</td>\n",
       "      <td>NaN</td>\n",
       "      <td>5.0</td>\n",
       "      <td>NaN</td>\n",
       "      <td>NaN</td>\n",
       "      <td>4.0</td>\n",
       "      <td>5-6 hours</td>\n",
       "      <td>Unhealthy</td>\n",
       "      <td>Class 12</td>\n",
       "      <td>No</td>\n",
       "      <td>2.0</td>\n",
       "      <td>4.0</td>\n",
       "      <td>Yes</td>\n",
       "      <td>1</td>\n",
       "    </tr>\n",
       "    <tr>\n",
       "      <th>140699</th>\n",
       "      <td>140699</td>\n",
       "      <td>Sai</td>\n",
       "      <td>Male</td>\n",
       "      <td>27</td>\n",
       "      <td>Patna</td>\n",
       "      <td>Student</td>\n",
       "      <td>NaN</td>\n",
       "      <td>4.0</td>\n",
       "      <td>NaN</td>\n",
       "      <td>9.24</td>\n",
       "      <td>1.0</td>\n",
       "      <td>NaN</td>\n",
       "      <td>Less than 5 hours</td>\n",
       "      <td>Healthy</td>\n",
       "      <td>BCA</td>\n",
       "      <td>Yes</td>\n",
       "      <td>2.0</td>\n",
       "      <td>3.0</td>\n",
       "      <td>Yes</td>\n",
       "      <td>1</td>\n",
       "    </tr>\n",
       "  </tbody>\n",
       "</table>\n",
       "<p>36630 rows × 20 columns</p>\n",
       "</div>"
      ],
      "text/plain": [
       "            id       Name  Gender  Age           City  \\\n",
       "2            2     Yuvraj    Male   33  Visakhapatnam   \n",
       "8            8  Aishwarya  Female   24      Bangalore   \n",
       "26          26     Aditya    Male   31       Srinagar   \n",
       "29          29    Kashish  Female   19           Agra   \n",
       "30          30     Prisha  Female   28       Varanasi   \n",
       "...        ...        ...     ...  ...            ...   \n",
       "140686  140686      Rohan    Male   27       Ludhiana   \n",
       "140689  140689      Ayaan    Male   31      Faridabad   \n",
       "140690  140690      Rashi  Female   18       Ludhiana   \n",
       "140695  140695      Vidya  Female   18      Ahmedabad   \n",
       "140699  140699        Sai    Male   27          Patna   \n",
       "\n",
       "       Working Professional or Student Profession  Academic Pressure  \\\n",
       "2                              Student        NaN                5.0   \n",
       "8                              Student        NaN                2.0   \n",
       "26                             Student        NaN                3.0   \n",
       "29                Working Professional        NaN                NaN   \n",
       "30                             Student        NaN                3.0   \n",
       "...                                ...        ...                ...   \n",
       "140686                         Student        NaN                2.0   \n",
       "140689                         Student        NaN                3.0   \n",
       "140690                         Student        NaN                5.0   \n",
       "140695            Working Professional        NaN                NaN   \n",
       "140699                         Student        NaN                4.0   \n",
       "\n",
       "        Work Pressure  CGPA  Study Satisfaction  Job Satisfaction  \\\n",
       "2                 NaN  8.97                 2.0               NaN   \n",
       "8                 NaN  5.90                 5.0               NaN   \n",
       "26                NaN  7.03                 5.0               NaN   \n",
       "29                1.0   NaN                 NaN               5.0   \n",
       "30                NaN  5.59                 2.0               NaN   \n",
       "...               ...   ...                 ...               ...   \n",
       "140686            NaN  9.40                 3.0               NaN   \n",
       "140689            NaN  6.61                 4.0               NaN   \n",
       "140690            NaN  6.88                 2.0               NaN   \n",
       "140695            5.0   NaN                 NaN               4.0   \n",
       "140699            NaN  9.24                 1.0               NaN   \n",
       "\n",
       "           Sleep Duration Dietary Habits    Degree  \\\n",
       "2               5-6 hours        Healthy   B.Pharm   \n",
       "8               5-6 hours       Moderate       BSc   \n",
       "26      Less than 5 hours        Healthy        BA   \n",
       "29      More than 8 hours        Healthy  Class 12   \n",
       "30              7-8 hours       Moderate       BCA   \n",
       "...                   ...            ...       ...   \n",
       "140686  Less than 5 hours        Healthy       MSc   \n",
       "140689          5-6 hours      Unhealthy        MD   \n",
       "140690  Less than 5 hours        Healthy  Class 12   \n",
       "140695          5-6 hours      Unhealthy  Class 12   \n",
       "140699  Less than 5 hours        Healthy       BCA   \n",
       "\n",
       "       Have you ever had suicidal thoughts ?  Work/Study Hours  \\\n",
       "2                                        Yes               3.0   \n",
       "8                                         No               3.0   \n",
       "26                                        No               9.0   \n",
       "29                                        No               5.0   \n",
       "30                                       Yes               4.0   \n",
       "...                                      ...               ...   \n",
       "140686                                    No               0.0   \n",
       "140689                                    No              12.0   \n",
       "140690                                   Yes              10.0   \n",
       "140695                                    No               2.0   \n",
       "140699                                   Yes               2.0   \n",
       "\n",
       "        Financial Stress Family History of Mental Illness  Depression  \n",
       "2                    1.0                               No           1  \n",
       "8                    2.0                              Yes           0  \n",
       "26                   1.0                              Yes           0  \n",
       "29                   2.0                               No           0  \n",
       "30                   5.0                              Yes           1  \n",
       "...                  ...                              ...         ...  \n",
       "140686               3.0                              Yes           0  \n",
       "140689               2.0                               No           0  \n",
       "140690               5.0                               No           1  \n",
       "140695               4.0                              Yes           1  \n",
       "140699               3.0                              Yes           1  \n",
       "\n",
       "[36630 rows x 20 columns]"
      ]
     },
     "execution_count": 12,
     "metadata": {},
     "output_type": "execute_result"
    }
   ],
   "source": [
    "train_data[train_data['Profession'].isna()]"
   ]
  },
  {
   "cell_type": "markdown",
   "id": "c9afc6e6",
   "metadata": {
    "papermill": {
     "duration": 0.01959,
     "end_time": "2024-11-28T14:09:05.721345",
     "exception": false,
     "start_time": "2024-11-28T14:09:05.701755",
     "status": "completed"
    },
    "tags": []
   },
   "source": [
    "It is clear that we would expect missing values in the `Profession` column for records related to students, as they may not yet have a profession. However, The table above shows that some missing values in `Profession` are not associated with students. To investigate further, we’ll look at the value counts of the `Working Professional or Student` column where `Profession` is null"
   ]
  },
  {
   "cell_type": "code",
   "execution_count": 13,
   "id": "86effdd3",
   "metadata": {
    "execution": {
     "iopub.execute_input": "2024-11-28T14:09:05.763764Z",
     "iopub.status.busy": "2024-11-28T14:09:05.763387Z",
     "iopub.status.idle": "2024-11-28T14:09:05.780488Z",
     "shell.execute_reply": "2024-11-28T14:09:05.779606Z"
    },
    "papermill": {
     "duration": 0.04146,
     "end_time": "2024-11-28T14:09:05.782831",
     "exception": false,
     "start_time": "2024-11-28T14:09:05.741371",
     "status": "completed"
    },
    "tags": []
   },
   "outputs": [],
   "source": [
    "missing_profession = train_data[train_data['Profession'].isna()]"
   ]
  },
  {
   "cell_type": "code",
   "execution_count": 14,
   "id": "29d6bdaf",
   "metadata": {
    "execution": {
     "iopub.execute_input": "2024-11-28T14:09:05.827063Z",
     "iopub.status.busy": "2024-11-28T14:09:05.825994Z",
     "iopub.status.idle": "2024-11-28T14:09:05.837624Z",
     "shell.execute_reply": "2024-11-28T14:09:05.836444Z"
    },
    "papermill": {
     "duration": 0.03496,
     "end_time": "2024-11-28T14:09:05.839563",
     "exception": false,
     "start_time": "2024-11-28T14:09:05.804603",
     "status": "completed"
    },
    "tags": []
   },
   "outputs": [
    {
     "data": {
      "text/plain": [
       "Working Professional or Student\n",
       "Student                 27867\n",
       "Working Professional     8763\n",
       "Name: count, dtype: int64"
      ]
     },
     "execution_count": 14,
     "metadata": {},
     "output_type": "execute_result"
    }
   ],
   "source": [
    "missing_profession['Working Professional or Student'].value_counts()"
   ]
  },
  {
   "cell_type": "markdown",
   "id": "93e2f749",
   "metadata": {
    "papermill": {
     "duration": 0.019724,
     "end_time": "2024-11-28T14:09:05.879459",
     "exception": false,
     "start_time": "2024-11-28T14:09:05.859735",
     "status": "completed"
    },
    "tags": []
   },
   "source": [
    "To understand why some `Working Professional` entries have missing `Profession` values, we looked at the `Degree` column for these cases. "
   ]
  },
  {
   "cell_type": "code",
   "execution_count": 15,
   "id": "9ea35b7e",
   "metadata": {
    "execution": {
     "iopub.execute_input": "2024-11-28T14:09:05.922020Z",
     "iopub.status.busy": "2024-11-28T14:09:05.921651Z",
     "iopub.status.idle": "2024-11-28T14:09:05.936293Z",
     "shell.execute_reply": "2024-11-28T14:09:05.935187Z"
    },
    "papermill": {
     "duration": 0.038141,
     "end_time": "2024-11-28T14:09:05.938460",
     "exception": false,
     "start_time": "2024-11-28T14:09:05.900319",
     "status": "completed"
    },
    "tags": []
   },
   "outputs": [
    {
     "data": {
      "text/plain": [
       "Degree\n",
       "Class 12    8590\n",
       "B.Arch        13\n",
       "B.Ed          11\n",
       "MD            11\n",
       "BHM           10\n",
       "BCA           10\n",
       "M.Com          8\n",
       "MBA            8\n",
       "MCA            8\n",
       "BE             8\n",
       "MA             7\n",
       "LLB            7\n",
       "BSc            7\n",
       "B.Com          6\n",
       "B.Tech         5\n",
       "B.Pharm        5\n",
       "MBBS           5\n",
       "M.Ed           5\n",
       "M.Pharm        5\n",
       "MSc            5\n",
       "ME             4\n",
       "M.Tech         4\n",
       "BBA            3\n",
       "LLM            3\n",
       "PhD            3\n",
       "BA             2\n",
       "MHM            2\n",
       "LLBA           1\n",
       "5.56           1\n",
       "Degree         1\n",
       "5.88           1\n",
       "Navya          1\n",
       "M              1\n",
       "Name: count, dtype: int64"
      ]
     },
     "execution_count": 15,
     "metadata": {},
     "output_type": "execute_result"
    }
   ],
   "source": [
    "missing_profession[missing_profession['Working Professional or Student'] == 'Working Professional'].Degree.value_counts()"
   ]
  },
  {
   "cell_type": "markdown",
   "id": "5adad0f2",
   "metadata": {
    "papermill": {
     "duration": 0.022508,
     "end_time": "2024-11-28T14:09:05.981635",
     "exception": false,
     "start_time": "2024-11-28T14:09:05.959127",
     "status": "completed"
    },
    "tags": []
   },
   "source": [
    "- **High Frequency of \"Class 12\":** The majority of missing `Profession` entries are associated with \"Class 12\" (8,590 records), suggesting many working professionals without a specified profession may not have higher education or formal job titles.\n",
    "\n",
    "- **Wide Range of Degrees:** Other degrees, like B.Arch, B.Ed, MBA, and MBBS, appear in lower numbers. This diversity indicates individuals from various educational backgrounds but with undefined professions in the dataset.\n",
    "\n",
    "- **Unusual Entries:** Some values, like \"5.56\" and \"Navya,\" don't match typical degrees, suggesting data entry errors or anomalies that may need cleaning.\n",
    "\n",
    "- **Potential Imputation Approach:** For \"Class 12\" entries, it may be best to leave `Profession` missing or assign a general title. For higher degrees, missing values could be filled with generic roles based on the degree (e.g., \"Engineer\" for B.Tech).\n",
    "\n",
    "These insights help us decide how to address missing `Profession` values among working professionals."
   ]
  },
  {
   "cell_type": "code",
   "execution_count": 16,
   "id": "69f28ed6",
   "metadata": {
    "execution": {
     "iopub.execute_input": "2024-11-28T14:09:06.024071Z",
     "iopub.status.busy": "2024-11-28T14:09:06.023728Z",
     "iopub.status.idle": "2024-11-28T14:09:07.378604Z",
     "shell.execute_reply": "2024-11-28T14:09:07.377482Z"
    },
    "papermill": {
     "duration": 1.379321,
     "end_time": "2024-11-28T14:09:07.381263",
     "exception": false,
     "start_time": "2024-11-28T14:09:06.001942",
     "status": "completed"
    },
    "tags": []
   },
   "outputs": [],
   "source": [
    "\n",
    "degree_to_profession = {\n",
    "    'B.Tech': 'IT',\n",
    "    'BE': 'Engineer',\n",
    "    'MBA': 'Business Analyst',\n",
    "    'MPA': 'Government Official',\n",
    "    'BBA': 'Business Assistant',\n",
    "    'MBBS': 'Doctor',\n",
    "    'B.Com': 'Accountant',\n",
    "    'B.Arch': 'Architect',\n",
    "    'BArch': 'Architect',\n",
    "    'BPA': 'Artist',\n",
    "    'BH': 'Artist',\n",
    "    'B.B.Arch': 'Architect',\n",
    "    'M.Arch' : 'Architect',\n",
    "    'BCA': 'IT',\n",
    "    'E.Tech' : 'IT',\n",
    "    'S.Tech' : 'IT',\n",
    "    'MCA': 'IT',\n",
    "    'LLB': 'Lawyer',\n",
    "    'PhD': 'Researcher',\n",
    "    'Class 12': 'Unspecified',\n",
    "    'Class 11': 'Unspecified',\n",
    "    'CGPA' : 'Unspecified',\n",
    "    'M.Ed': 'Teacher',\n",
    "    'B.Ed': 'Teacher',\n",
    "    'A.Ed': 'Teacher',\n",
    "    'L.Ed' : 'Teacher',\n",
    "    'LLEd' : 'Teacher',\n",
    "    'LL B.Ed' : 'Teacher',\n",
    "    'MD': 'Doctor',\n",
    "    'M.Com': 'Economist',\n",
    "    'P.Com': 'Economist', \n",
    "    'BHM': 'Hospitality Manager',\n",
    "    'MA': 'Educator',\n",
    "    'BSc': 'Scientist',\n",
    "    'B.Sc': 'Scientist',\n",
    "    'B.Pharm': 'Pharmacist',\n",
    "    'BPharm': 'Pharmacist',\n",
    "    'M.Pharm': 'Pharmacist',\n",
    "    'MPharm' : 'Pharmacist',\n",
    "    'S.Pharm' : \t'Pharmacist',\n",
    "    'M.Tech': 'Engineer',\n",
    "    'MSc': 'Scientist',\n",
    "    'ME': 'Engineer',\n",
    "    'BA': 'Educator',\n",
    "    'MHM': 'Hospitality Manager',\n",
    "    'LLM': 'Lawyer',\n",
    "    'LLBA': 'Lawyer',\n",
    "    'BCA': 'IT Specialist',\n",
    "    'Brit' : 'Radiology Technician',\n",
    "    'LHM': 'Humanitarian',\n",
    "}\n",
    "\n",
    "# Step 2: Apply the mappings to fill missing values in Profession\n",
    "train_data['Profession'] = train_data.apply(\n",
    "    lambda row: degree_to_profession.get(row['Degree'], row['Profession']),\n",
    "    axis=1\n",
    ")\n",
    "\n",
    "train_data.fillna({'Profession': 'Unknown'}, inplace = True)"
   ]
  },
  {
   "cell_type": "code",
   "execution_count": 17,
   "id": "775c0e0f",
   "metadata": {
    "execution": {
     "iopub.execute_input": "2024-11-28T14:09:07.432003Z",
     "iopub.status.busy": "2024-11-28T14:09:07.431649Z",
     "iopub.status.idle": "2024-11-28T14:09:07.447555Z",
     "shell.execute_reply": "2024-11-28T14:09:07.446578Z"
    },
    "papermill": {
     "duration": 0.045295,
     "end_time": "2024-11-28T14:09:07.449797",
     "exception": false,
     "start_time": "2024-11-28T14:09:07.404502",
     "status": "completed"
    },
    "tags": []
   },
   "outputs": [
    {
     "data": {
      "text/plain": [
       "array(['Hospitality Manager', 'Lawyer', 'Pharmacist',\n",
       "       'Business Assistant', 'IT', 'Doctor', 'Scientist', 'Engineer',\n",
       "       'Architect', 'IT Specialist', 'Educator', 'Teacher', 'Accountant',\n",
       "       'Business Analyst', 'Economist', 'Unspecified', 'Researcher',\n",
       "       'HR Manager', 'Government Official', 'Artist', 'Content Writer',\n",
       "       'Chemist', 'Unknown', 'Consultant', 'Civil Engineer',\n",
       "       'Educational Consultant', 'Manager', 'Plumber',\n",
       "       'Radiology Technician', 'Customer Support', 'Sales Executive',\n",
       "       'Graphic Designer', 'Pilot', 'Financial Analyst', 'UX/UI Designer',\n",
       "       'Entrepreneur', 'Humanitarian', 'Digital Marketer'], dtype=object)"
      ]
     },
     "execution_count": 17,
     "metadata": {},
     "output_type": "execute_result"
    }
   ],
   "source": [
    "train_data['Profession'].unique()"
   ]
  },
  {
   "cell_type": "code",
   "execution_count": 18,
   "id": "730e4131",
   "metadata": {
    "execution": {
     "iopub.execute_input": "2024-11-28T14:09:07.492681Z",
     "iopub.status.busy": "2024-11-28T14:09:07.492311Z",
     "iopub.status.idle": "2024-11-28T14:09:07.508531Z",
     "shell.execute_reply": "2024-11-28T14:09:07.507534Z"
    },
    "papermill": {
     "duration": 0.040229,
     "end_time": "2024-11-28T14:09:07.510535",
     "exception": false,
     "start_time": "2024-11-28T14:09:07.470306",
     "status": "completed"
    },
    "tags": []
   },
   "outputs": [
    {
     "data": {
      "text/plain": [
       "Profession\n",
       "Teacher                   17373\n",
       "Unspecified               14731\n",
       "Engineer                  11211\n",
       "Pharmacist                10398\n",
       "Scientist                  9909\n",
       "IT                         9661\n",
       "Lawyer                     8998\n",
       "Architect                  8750\n",
       "Accountant                 8113\n",
       "Hospitality Manager        7591\n",
       "Educator                   6637\n",
       "Doctor                     6467\n",
       "IT Specialist              5739\n",
       "Business Assistant         5030\n",
       "Business Analyst           3822\n",
       "Researcher                 3106\n",
       "Economist                  3096\n",
       "Unknown                      26\n",
       "Consultant                    5\n",
       "Plumber                       5\n",
       "Educational Consultant        4\n",
       "HR Manager                    4\n",
       "Content Writer                4\n",
       "UX/UI Designer                3\n",
       "Graphic Designer              2\n",
       "Artist                        2\n",
       "Chemist                       2\n",
       "Manager                       1\n",
       "Civil Engineer                1\n",
       "Radiology Technician          1\n",
       "Customer Support              1\n",
       "Sales Executive               1\n",
       "Pilot                         1\n",
       "Financial Analyst             1\n",
       "Government Official           1\n",
       "Entrepreneur                  1\n",
       "Humanitarian                  1\n",
       "Digital Marketer              1\n",
       "Name: count, dtype: int64"
      ]
     },
     "execution_count": 18,
     "metadata": {},
     "output_type": "execute_result"
    }
   ],
   "source": [
    "train_data['Profession'].value_counts()"
   ]
  },
  {
   "cell_type": "markdown",
   "id": "d120e0a0",
   "metadata": {
    "papermill": {
     "duration": 0.020468,
     "end_time": "2024-11-28T14:09:07.551468",
     "exception": false,
     "start_time": "2024-11-28T14:09:07.531000",
     "status": "completed"
    },
    "tags": []
   },
   "source": [
    "We can group professions into relevant categories based on their nature or industry:"
   ]
  },
  {
   "cell_type": "code",
   "execution_count": 19,
   "id": "c3396e96",
   "metadata": {
    "execution": {
     "iopub.execute_input": "2024-11-28T14:09:07.594444Z",
     "iopub.status.busy": "2024-11-28T14:09:07.593988Z",
     "iopub.status.idle": "2024-11-28T14:09:07.955867Z",
     "shell.execute_reply": "2024-11-28T14:09:07.954683Z"
    },
    "papermill": {
     "duration": 0.387461,
     "end_time": "2024-11-28T14:09:07.959503",
     "exception": false,
     "start_time": "2024-11-28T14:09:07.572042",
     "status": "completed"
    },
    "tags": []
   },
   "outputs": [],
   "source": [
    "def categorize_profession(profession):\n",
    "    categories = {\n",
    "        'Education': ['Teacher', 'Educator', 'Educational Consultant'],\n",
    "        'Engineering': ['Engineer', 'Civil Engineer', 'IT Specialist', 'Radiology Technician'],\n",
    "        'Healthcare': ['Pharmacist', 'Doctor', 'Medical Doctor'],\n",
    "        'IT': ['IT Specialist', 'Software Developer', 'UX/UI Designer', 'Graphic Designer'],\n",
    "        'Legal': ['Lawyer', 'Judge'],\n",
    "        'Architecture': ['Architect'],\n",
    "        'Finance': ['Accountant', 'Financial Analyst', 'Economist'],\n",
    "        'Business': ['Business Assistant', 'Business Analyst', 'Manager', 'Entrepreneur', 'Consultant', 'HR Manager'],\n",
    "        'Hospitality': ['Hospitality Manager'],\n",
    "        'Science': ['Scientist', 'Researcher', 'Chemist'],\n",
    "        'Arts': ['Content Writer', 'Artist', 'Digital Marketer'],\n",
    "        'Trades': ['Plumber'],\n",
    "        'Public Service': ['Government Official', 'Humanitarian'],\n",
    "        'Customer Service': ['Customer Support', 'Sales Executive'],\n",
    "        'Aviation': ['Pilot'],\n",
    "        'Unspecified': ['Unspecified'],\n",
    "        'Unknown': ['Unknown']\n",
    "    }\n",
    "    \n",
    "    for category, professions in categories.items():\n",
    "        if profession in professions:\n",
    "            return category\n",
    "    return 'Other'\n",
    "\n",
    "train_data['Profession Category'] = train_data['Profession'].apply(categorize_profession)"
   ]
  },
  {
   "cell_type": "code",
   "execution_count": 20,
   "id": "df6825ab",
   "metadata": {
    "execution": {
     "iopub.execute_input": "2024-11-28T14:09:08.013679Z",
     "iopub.status.busy": "2024-11-28T14:09:08.013316Z",
     "iopub.status.idle": "2024-11-28T14:09:08.030302Z",
     "shell.execute_reply": "2024-11-28T14:09:08.029052Z"
    },
    "papermill": {
     "duration": 0.042622,
     "end_time": "2024-11-28T14:09:08.032435",
     "exception": false,
     "start_time": "2024-11-28T14:09:07.989813",
     "status": "completed"
    },
    "tags": []
   },
   "outputs": [
    {
     "data": {
      "text/plain": [
       "Profession Category\n",
       "Education           24014\n",
       "Engineering         16952\n",
       "Healthcare          16865\n",
       "Unspecified         14731\n",
       "Science             13017\n",
       "Finance             11210\n",
       "Other                9661\n",
       "Legal                8998\n",
       "Business             8863\n",
       "Architecture         8750\n",
       "Hospitality          7591\n",
       "Unknown                26\n",
       "Arts                    7\n",
       "Trades                  5\n",
       "IT                      5\n",
       "Public Service          2\n",
       "Customer Service        2\n",
       "Aviation                1\n",
       "Name: count, dtype: int64"
      ]
     },
     "execution_count": 20,
     "metadata": {},
     "output_type": "execute_result"
    }
   ],
   "source": [
    "train_data['Profession Category'].value_counts()"
   ]
  },
  {
   "cell_type": "markdown",
   "id": "ad102c66",
   "metadata": {
    "papermill": {
     "duration": 0.038352,
     "end_time": "2024-11-28T14:09:08.102348",
     "exception": false,
     "start_time": "2024-11-28T14:09:08.063996",
     "status": "completed"
    },
    "tags": []
   },
   "source": [
    "- Let's take a look at the `Academic Pressure` column"
   ]
  },
  {
   "cell_type": "code",
   "execution_count": 21,
   "id": "3c17def3",
   "metadata": {
    "execution": {
     "iopub.execute_input": "2024-11-28T14:09:08.171386Z",
     "iopub.status.busy": "2024-11-28T14:09:08.170965Z",
     "iopub.status.idle": "2024-11-28T14:09:08.182502Z",
     "shell.execute_reply": "2024-11-28T14:09:08.181244Z"
    },
    "papermill": {
     "duration": 0.043371,
     "end_time": "2024-11-28T14:09:08.184667",
     "exception": false,
     "start_time": "2024-11-28T14:09:08.141296",
     "status": "completed"
    },
    "tags": []
   },
   "outputs": [
    {
     "data": {
      "text/plain": [
       "Academic Pressure\n",
       "3.0    7463\n",
       "5.0    6296\n",
       "4.0    5158\n",
       "1.0    4801\n",
       "2.0    4179\n",
       "Name: count, dtype: int64"
      ]
     },
     "execution_count": 21,
     "metadata": {},
     "output_type": "execute_result"
    }
   ],
   "source": [
    "train_data['Academic Pressure'].value_counts()"
   ]
  },
  {
   "cell_type": "code",
   "execution_count": 22,
   "id": "a905a0dd",
   "metadata": {
    "execution": {
     "iopub.execute_input": "2024-11-28T14:09:08.229676Z",
     "iopub.status.busy": "2024-11-28T14:09:08.229292Z",
     "iopub.status.idle": "2024-11-28T14:09:08.237000Z",
     "shell.execute_reply": "2024-11-28T14:09:08.235808Z"
    },
    "papermill": {
     "duration": 0.032625,
     "end_time": "2024-11-28T14:09:08.239027",
     "exception": false,
     "start_time": "2024-11-28T14:09:08.206402",
     "status": "completed"
    },
    "tags": []
   },
   "outputs": [
    {
     "data": {
      "text/plain": [
       "112803"
      ]
     },
     "execution_count": 22,
     "metadata": {},
     "output_type": "execute_result"
    }
   ],
   "source": [
    "train_data['Academic Pressure'].isna().sum()"
   ]
  },
  {
   "cell_type": "code",
   "execution_count": 23,
   "id": "a753b9d3",
   "metadata": {
    "execution": {
     "iopub.execute_input": "2024-11-28T14:09:08.291291Z",
     "iopub.status.busy": "2024-11-28T14:09:08.290883Z",
     "iopub.status.idle": "2024-11-28T14:09:08.313513Z",
     "shell.execute_reply": "2024-11-28T14:09:08.312014Z"
    },
    "papermill": {
     "duration": 0.051995,
     "end_time": "2024-11-28T14:09:08.316712",
     "exception": false,
     "start_time": "2024-11-28T14:09:08.264717",
     "status": "completed"
    },
    "tags": []
   },
   "outputs": [
    {
     "data": {
      "text/plain": [
       "Working Professional or Student\n",
       "Working Professional    112799\n",
       "Student                  27901\n",
       "Name: count, dtype: int64"
      ]
     },
     "execution_count": 23,
     "metadata": {},
     "output_type": "execute_result"
    }
   ],
   "source": [
    "train_data['Working Professional or Student'].value_counts()"
   ]
  },
  {
   "cell_type": "markdown",
   "id": "06cc2656",
   "metadata": {
    "papermill": {
     "duration": 0.025578,
     "end_time": "2024-11-28T14:09:08.373014",
     "exception": false,
     "start_time": "2024-11-28T14:09:08.347436",
     "status": "completed"
    },
    "tags": []
   },
   "source": [
    "We observe that the number of missing values in the `Academic Pressure` column closely matches the missing values in the following columns:\n",
    "\n",
    "`CGPA`\n",
    "<br>\n",
    "`Study Satisfaction`\n",
    "<br>\n",
    "<br>\n",
    "\n",
    "When we look at the `Working Professional or Student` column, we find 112,799 entries for **Working Professional** and 27,901 entries for **Student**.\n",
    "\n",
    "This suggests that the missing values in Academic Pressure likely correspond to individuals who were not students at the time the dataset was collected, as academic pressure would be irrelevant to them. Therefore, the null values in this column likely indicate respondents who were working professionals rather than students."
   ]
  },
  {
   "cell_type": "markdown",
   "id": "01558bf4",
   "metadata": {
    "papermill": {
     "duration": 0.02125,
     "end_time": "2024-11-28T14:09:08.415872",
     "exception": false,
     "start_time": "2024-11-28T14:09:08.394622",
     "status": "completed"
    },
    "tags": []
   },
   "source": [
    "\n",
    "**Handling Missing Values in the Academic Pressure Column**\n",
    "<br>\n",
    "<br>"
   ]
  },
  {
   "cell_type": "code",
   "execution_count": 24,
   "id": "c907956d",
   "metadata": {
    "execution": {
     "iopub.execute_input": "2024-11-28T14:09:08.461915Z",
     "iopub.status.busy": "2024-11-28T14:09:08.460820Z",
     "iopub.status.idle": "2024-11-28T14:09:08.692976Z",
     "shell.execute_reply": "2024-11-28T14:09:08.691834Z"
    },
    "papermill": {
     "duration": 0.258878,
     "end_time": "2024-11-28T14:09:08.696156",
     "exception": false,
     "start_time": "2024-11-28T14:09:08.437278",
     "status": "completed"
    },
    "tags": []
   },
   "outputs": [
    {
     "data": {
      "text/html": [
       "<div>\n",
       "<style scoped>\n",
       "    .dataframe tbody tr th:only-of-type {\n",
       "        vertical-align: middle;\n",
       "    }\n",
       "\n",
       "    .dataframe tbody tr th {\n",
       "        vertical-align: top;\n",
       "    }\n",
       "\n",
       "    .dataframe thead th {\n",
       "        text-align: right;\n",
       "    }\n",
       "</style>\n",
       "<table border=\"1\" class=\"dataframe\">\n",
       "  <thead>\n",
       "    <tr style=\"text-align: right;\">\n",
       "      <th></th>\n",
       "      <th>id</th>\n",
       "      <th>Name</th>\n",
       "      <th>Gender</th>\n",
       "      <th>Age</th>\n",
       "      <th>City</th>\n",
       "      <th>Working Professional or Student</th>\n",
       "      <th>Profession</th>\n",
       "      <th>Academic Pressure</th>\n",
       "      <th>Work Pressure</th>\n",
       "      <th>CGPA</th>\n",
       "      <th>...</th>\n",
       "      <th>Job Satisfaction</th>\n",
       "      <th>Sleep Duration</th>\n",
       "      <th>Dietary Habits</th>\n",
       "      <th>Degree</th>\n",
       "      <th>Have you ever had suicidal thoughts ?</th>\n",
       "      <th>Work/Study Hours</th>\n",
       "      <th>Financial Stress</th>\n",
       "      <th>Family History of Mental Illness</th>\n",
       "      <th>Depression</th>\n",
       "      <th>Profession Category</th>\n",
       "    </tr>\n",
       "  </thead>\n",
       "  <tbody>\n",
       "    <tr>\n",
       "      <th>0</th>\n",
       "      <td>0</td>\n",
       "      <td>Aaradhya</td>\n",
       "      <td>Female</td>\n",
       "      <td>49</td>\n",
       "      <td>Ludhiana</td>\n",
       "      <td>Working Professional</td>\n",
       "      <td>Hospitality Manager</td>\n",
       "      <td>NaN</td>\n",
       "      <td>5.0</td>\n",
       "      <td>NaN</td>\n",
       "      <td>...</td>\n",
       "      <td>2.0</td>\n",
       "      <td>More than 8 hours</td>\n",
       "      <td>Healthy</td>\n",
       "      <td>BHM</td>\n",
       "      <td>No</td>\n",
       "      <td>1.0</td>\n",
       "      <td>2.0</td>\n",
       "      <td>No</td>\n",
       "      <td>0</td>\n",
       "      <td>Hospitality</td>\n",
       "    </tr>\n",
       "    <tr>\n",
       "      <th>1</th>\n",
       "      <td>1</td>\n",
       "      <td>Vivan</td>\n",
       "      <td>Male</td>\n",
       "      <td>26</td>\n",
       "      <td>Varanasi</td>\n",
       "      <td>Working Professional</td>\n",
       "      <td>Lawyer</td>\n",
       "      <td>NaN</td>\n",
       "      <td>4.0</td>\n",
       "      <td>NaN</td>\n",
       "      <td>...</td>\n",
       "      <td>3.0</td>\n",
       "      <td>Less than 5 hours</td>\n",
       "      <td>Unhealthy</td>\n",
       "      <td>LLB</td>\n",
       "      <td>Yes</td>\n",
       "      <td>7.0</td>\n",
       "      <td>3.0</td>\n",
       "      <td>No</td>\n",
       "      <td>1</td>\n",
       "      <td>Legal</td>\n",
       "    </tr>\n",
       "    <tr>\n",
       "      <th>3</th>\n",
       "      <td>3</td>\n",
       "      <td>Yuvraj</td>\n",
       "      <td>Male</td>\n",
       "      <td>22</td>\n",
       "      <td>Mumbai</td>\n",
       "      <td>Working Professional</td>\n",
       "      <td>Business Assistant</td>\n",
       "      <td>NaN</td>\n",
       "      <td>5.0</td>\n",
       "      <td>NaN</td>\n",
       "      <td>...</td>\n",
       "      <td>1.0</td>\n",
       "      <td>Less than 5 hours</td>\n",
       "      <td>Moderate</td>\n",
       "      <td>BBA</td>\n",
       "      <td>Yes</td>\n",
       "      <td>10.0</td>\n",
       "      <td>1.0</td>\n",
       "      <td>Yes</td>\n",
       "      <td>1</td>\n",
       "      <td>Business</td>\n",
       "    </tr>\n",
       "    <tr>\n",
       "      <th>4</th>\n",
       "      <td>4</td>\n",
       "      <td>Rhea</td>\n",
       "      <td>Female</td>\n",
       "      <td>30</td>\n",
       "      <td>Kanpur</td>\n",
       "      <td>Working Professional</td>\n",
       "      <td>Business Assistant</td>\n",
       "      <td>NaN</td>\n",
       "      <td>1.0</td>\n",
       "      <td>NaN</td>\n",
       "      <td>...</td>\n",
       "      <td>1.0</td>\n",
       "      <td>5-6 hours</td>\n",
       "      <td>Unhealthy</td>\n",
       "      <td>BBA</td>\n",
       "      <td>Yes</td>\n",
       "      <td>9.0</td>\n",
       "      <td>4.0</td>\n",
       "      <td>Yes</td>\n",
       "      <td>0</td>\n",
       "      <td>Business</td>\n",
       "    </tr>\n",
       "    <tr>\n",
       "      <th>5</th>\n",
       "      <td>5</td>\n",
       "      <td>Vani</td>\n",
       "      <td>Female</td>\n",
       "      <td>59</td>\n",
       "      <td>Ahmedabad</td>\n",
       "      <td>Working Professional</td>\n",
       "      <td>IT</td>\n",
       "      <td>NaN</td>\n",
       "      <td>2.0</td>\n",
       "      <td>NaN</td>\n",
       "      <td>...</td>\n",
       "      <td>5.0</td>\n",
       "      <td>5-6 hours</td>\n",
       "      <td>Healthy</td>\n",
       "      <td>MCA</td>\n",
       "      <td>No</td>\n",
       "      <td>7.0</td>\n",
       "      <td>5.0</td>\n",
       "      <td>No</td>\n",
       "      <td>0</td>\n",
       "      <td>Other</td>\n",
       "    </tr>\n",
       "    <tr>\n",
       "      <th>...</th>\n",
       "      <td>...</td>\n",
       "      <td>...</td>\n",
       "      <td>...</td>\n",
       "      <td>...</td>\n",
       "      <td>...</td>\n",
       "      <td>...</td>\n",
       "      <td>...</td>\n",
       "      <td>...</td>\n",
       "      <td>...</td>\n",
       "      <td>...</td>\n",
       "      <td>...</td>\n",
       "      <td>...</td>\n",
       "      <td>...</td>\n",
       "      <td>...</td>\n",
       "      <td>...</td>\n",
       "      <td>...</td>\n",
       "      <td>...</td>\n",
       "      <td>...</td>\n",
       "      <td>...</td>\n",
       "      <td>...</td>\n",
       "      <td>...</td>\n",
       "    </tr>\n",
       "    <tr>\n",
       "      <th>140694</th>\n",
       "      <td>140694</td>\n",
       "      <td>Ishaani</td>\n",
       "      <td>Female</td>\n",
       "      <td>45</td>\n",
       "      <td>Ahmedabad</td>\n",
       "      <td>Working Professional</td>\n",
       "      <td>Teacher</td>\n",
       "      <td>NaN</td>\n",
       "      <td>2.0</td>\n",
       "      <td>NaN</td>\n",
       "      <td>...</td>\n",
       "      <td>5.0</td>\n",
       "      <td>Less than 5 hours</td>\n",
       "      <td>Moderate</td>\n",
       "      <td>B.Ed</td>\n",
       "      <td>Yes</td>\n",
       "      <td>1.0</td>\n",
       "      <td>5.0</td>\n",
       "      <td>No</td>\n",
       "      <td>0</td>\n",
       "      <td>Education</td>\n",
       "    </tr>\n",
       "    <tr>\n",
       "      <th>140695</th>\n",
       "      <td>140695</td>\n",
       "      <td>Vidya</td>\n",
       "      <td>Female</td>\n",
       "      <td>18</td>\n",
       "      <td>Ahmedabad</td>\n",
       "      <td>Working Professional</td>\n",
       "      <td>Unspecified</td>\n",
       "      <td>NaN</td>\n",
       "      <td>5.0</td>\n",
       "      <td>NaN</td>\n",
       "      <td>...</td>\n",
       "      <td>4.0</td>\n",
       "      <td>5-6 hours</td>\n",
       "      <td>Unhealthy</td>\n",
       "      <td>Class 12</td>\n",
       "      <td>No</td>\n",
       "      <td>2.0</td>\n",
       "      <td>4.0</td>\n",
       "      <td>Yes</td>\n",
       "      <td>1</td>\n",
       "      <td>Unspecified</td>\n",
       "    </tr>\n",
       "    <tr>\n",
       "      <th>140696</th>\n",
       "      <td>140696</td>\n",
       "      <td>Lata</td>\n",
       "      <td>Female</td>\n",
       "      <td>41</td>\n",
       "      <td>Hyderabad</td>\n",
       "      <td>Working Professional</td>\n",
       "      <td>IT</td>\n",
       "      <td>NaN</td>\n",
       "      <td>5.0</td>\n",
       "      <td>NaN</td>\n",
       "      <td>...</td>\n",
       "      <td>4.0</td>\n",
       "      <td>7-8 hours</td>\n",
       "      <td>Moderate</td>\n",
       "      <td>B.Tech</td>\n",
       "      <td>Yes</td>\n",
       "      <td>6.0</td>\n",
       "      <td>5.0</td>\n",
       "      <td>Yes</td>\n",
       "      <td>0</td>\n",
       "      <td>Other</td>\n",
       "    </tr>\n",
       "    <tr>\n",
       "      <th>140697</th>\n",
       "      <td>140697</td>\n",
       "      <td>Aanchal</td>\n",
       "      <td>Female</td>\n",
       "      <td>24</td>\n",
       "      <td>Kolkata</td>\n",
       "      <td>Working Professional</td>\n",
       "      <td>Accountant</td>\n",
       "      <td>NaN</td>\n",
       "      <td>3.0</td>\n",
       "      <td>NaN</td>\n",
       "      <td>...</td>\n",
       "      <td>1.0</td>\n",
       "      <td>More than 8 hours</td>\n",
       "      <td>Moderate</td>\n",
       "      <td>B.Com</td>\n",
       "      <td>No</td>\n",
       "      <td>4.0</td>\n",
       "      <td>4.0</td>\n",
       "      <td>No</td>\n",
       "      <td>0</td>\n",
       "      <td>Finance</td>\n",
       "    </tr>\n",
       "    <tr>\n",
       "      <th>140698</th>\n",
       "      <td>140698</td>\n",
       "      <td>Prachi</td>\n",
       "      <td>Female</td>\n",
       "      <td>49</td>\n",
       "      <td>Srinagar</td>\n",
       "      <td>Working Professional</td>\n",
       "      <td>Engineer</td>\n",
       "      <td>NaN</td>\n",
       "      <td>5.0</td>\n",
       "      <td>NaN</td>\n",
       "      <td>...</td>\n",
       "      <td>2.0</td>\n",
       "      <td>5-6 hours</td>\n",
       "      <td>Moderate</td>\n",
       "      <td>ME</td>\n",
       "      <td>Yes</td>\n",
       "      <td>10.0</td>\n",
       "      <td>1.0</td>\n",
       "      <td>No</td>\n",
       "      <td>0</td>\n",
       "      <td>Engineering</td>\n",
       "    </tr>\n",
       "  </tbody>\n",
       "</table>\n",
       "<p>112803 rows × 21 columns</p>\n",
       "</div>"
      ],
      "text/plain": [
       "            id      Name  Gender  Age       City  \\\n",
       "0            0  Aaradhya  Female   49   Ludhiana   \n",
       "1            1     Vivan    Male   26   Varanasi   \n",
       "3            3    Yuvraj    Male   22     Mumbai   \n",
       "4            4      Rhea  Female   30     Kanpur   \n",
       "5            5      Vani  Female   59  Ahmedabad   \n",
       "...        ...       ...     ...  ...        ...   \n",
       "140694  140694   Ishaani  Female   45  Ahmedabad   \n",
       "140695  140695     Vidya  Female   18  Ahmedabad   \n",
       "140696  140696      Lata  Female   41  Hyderabad   \n",
       "140697  140697   Aanchal  Female   24    Kolkata   \n",
       "140698  140698    Prachi  Female   49   Srinagar   \n",
       "\n",
       "       Working Professional or Student           Profession  \\\n",
       "0                 Working Professional  Hospitality Manager   \n",
       "1                 Working Professional               Lawyer   \n",
       "3                 Working Professional   Business Assistant   \n",
       "4                 Working Professional   Business Assistant   \n",
       "5                 Working Professional                   IT   \n",
       "...                                ...                  ...   \n",
       "140694            Working Professional              Teacher   \n",
       "140695            Working Professional          Unspecified   \n",
       "140696            Working Professional                   IT   \n",
       "140697            Working Professional           Accountant   \n",
       "140698            Working Professional             Engineer   \n",
       "\n",
       "        Academic Pressure  Work Pressure  CGPA  ...  Job Satisfaction  \\\n",
       "0                     NaN            5.0   NaN  ...               2.0   \n",
       "1                     NaN            4.0   NaN  ...               3.0   \n",
       "3                     NaN            5.0   NaN  ...               1.0   \n",
       "4                     NaN            1.0   NaN  ...               1.0   \n",
       "5                     NaN            2.0   NaN  ...               5.0   \n",
       "...                   ...            ...   ...  ...               ...   \n",
       "140694                NaN            2.0   NaN  ...               5.0   \n",
       "140695                NaN            5.0   NaN  ...               4.0   \n",
       "140696                NaN            5.0   NaN  ...               4.0   \n",
       "140697                NaN            3.0   NaN  ...               1.0   \n",
       "140698                NaN            5.0   NaN  ...               2.0   \n",
       "\n",
       "           Sleep Duration Dietary Habits    Degree  \\\n",
       "0       More than 8 hours        Healthy       BHM   \n",
       "1       Less than 5 hours      Unhealthy       LLB   \n",
       "3       Less than 5 hours       Moderate       BBA   \n",
       "4               5-6 hours      Unhealthy       BBA   \n",
       "5               5-6 hours        Healthy       MCA   \n",
       "...                   ...            ...       ...   \n",
       "140694  Less than 5 hours       Moderate      B.Ed   \n",
       "140695          5-6 hours      Unhealthy  Class 12   \n",
       "140696          7-8 hours       Moderate    B.Tech   \n",
       "140697  More than 8 hours       Moderate     B.Com   \n",
       "140698          5-6 hours       Moderate        ME   \n",
       "\n",
       "       Have you ever had suicidal thoughts ? Work/Study Hours  \\\n",
       "0                                         No              1.0   \n",
       "1                                        Yes              7.0   \n",
       "3                                        Yes             10.0   \n",
       "4                                        Yes              9.0   \n",
       "5                                         No              7.0   \n",
       "...                                      ...              ...   \n",
       "140694                                   Yes              1.0   \n",
       "140695                                    No              2.0   \n",
       "140696                                   Yes              6.0   \n",
       "140697                                    No              4.0   \n",
       "140698                                   Yes             10.0   \n",
       "\n",
       "        Financial Stress  Family History of Mental Illness Depression  \\\n",
       "0                    2.0                                No          0   \n",
       "1                    3.0                                No          1   \n",
       "3                    1.0                               Yes          1   \n",
       "4                    4.0                               Yes          0   \n",
       "5                    5.0                                No          0   \n",
       "...                  ...                               ...        ...   \n",
       "140694               5.0                                No          0   \n",
       "140695               4.0                               Yes          1   \n",
       "140696               5.0                               Yes          0   \n",
       "140697               4.0                                No          0   \n",
       "140698               1.0                                No          0   \n",
       "\n",
       "        Profession Category  \n",
       "0               Hospitality  \n",
       "1                     Legal  \n",
       "3                  Business  \n",
       "4                  Business  \n",
       "5                     Other  \n",
       "...                     ...  \n",
       "140694            Education  \n",
       "140695          Unspecified  \n",
       "140696                Other  \n",
       "140697              Finance  \n",
       "140698          Engineering  \n",
       "\n",
       "[112803 rows x 21 columns]"
      ]
     },
     "execution_count": 24,
     "metadata": {},
     "output_type": "execute_result"
    }
   ],
   "source": [
    "train_data[train_data['Academic Pressure'].isna()]"
   ]
  },
  {
   "cell_type": "markdown",
   "id": "171ba0d0",
   "metadata": {
    "papermill": {
     "duration": 0.021658,
     "end_time": "2024-11-28T14:09:08.747668",
     "exception": false,
     "start_time": "2024-11-28T14:09:08.726010",
     "status": "completed"
    },
    "tags": []
   },
   "source": [
    "- Conclusion:\n",
    "<br>\n",
    "<br>\n",
    "There are huge amount of missing values in the `Academic Pressure`, `CGPA`, and `Study Satisfaction` columns. Filling these missing values is a challenge, as using simple strategies like the median may introduce bias.\n",
    "<br>\n",
    "<br>\n",
    "For example, if we fill missing values in `Academic Pressure` (measured on a scale from 1 to 5) with the most frequent value, it could skew this feature toward a particular value, reducing the natural variability in responses. To address this, more advanced methods may be needed, or we may need to evaluate whether to exclude this feature in certain analyses to avoid potential bias."
   ]
  },
  {
   "cell_type": "markdown",
   "id": "5d52ba33",
   "metadata": {
    "papermill": {
     "duration": 0.021632,
     "end_time": "2024-11-28T14:09:08.791357",
     "exception": false,
     "start_time": "2024-11-28T14:09:08.769725",
     "status": "completed"
    },
    "tags": []
   },
   "source": [
    "<br>"
   ]
  },
  {
   "cell_type": "markdown",
   "id": "44bb437e",
   "metadata": {
    "papermill": {
     "duration": 0.024471,
     "end_time": "2024-11-28T14:09:08.839281",
     "exception": false,
     "start_time": "2024-11-28T14:09:08.814810",
     "status": "completed"
    },
    "tags": []
   },
   "source": [
    "\n",
    "**Handling Missing Values in the Work Pressure Column**"
   ]
  },
  {
   "cell_type": "code",
   "execution_count": 25,
   "id": "5f1df4d1",
   "metadata": {
    "execution": {
     "iopub.execute_input": "2024-11-28T14:09:08.886068Z",
     "iopub.status.busy": "2024-11-28T14:09:08.885526Z",
     "iopub.status.idle": "2024-11-28T14:09:08.900575Z",
     "shell.execute_reply": "2024-11-28T14:09:08.899200Z"
    },
    "papermill": {
     "duration": 0.04181,
     "end_time": "2024-11-28T14:09:08.903373",
     "exception": false,
     "start_time": "2024-11-28T14:09:08.861563",
     "status": "completed"
    },
    "tags": []
   },
   "outputs": [
    {
     "data": {
      "text/plain": [
       "Work Pressure\n",
       "2.0    24373\n",
       "4.0    22512\n",
       "5.0    22436\n",
       "3.0    21899\n",
       "1.0    21562\n",
       "Name: count, dtype: int64"
      ]
     },
     "execution_count": 25,
     "metadata": {},
     "output_type": "execute_result"
    }
   ],
   "source": [
    "train_data['Work Pressure'].value_counts()"
   ]
  },
  {
   "cell_type": "code",
   "execution_count": 26,
   "id": "2c399d1e",
   "metadata": {
    "execution": {
     "iopub.execute_input": "2024-11-28T14:09:09.006979Z",
     "iopub.status.busy": "2024-11-28T14:09:09.006593Z",
     "iopub.status.idle": "2024-11-28T14:09:09.016336Z",
     "shell.execute_reply": "2024-11-28T14:09:09.014834Z"
    },
    "papermill": {
     "duration": 0.093606,
     "end_time": "2024-11-28T14:09:09.018927",
     "exception": false,
     "start_time": "2024-11-28T14:09:08.925321",
     "status": "completed"
    },
    "tags": []
   },
   "outputs": [
    {
     "data": {
      "text/plain": [
       "27918"
      ]
     },
     "execution_count": 26,
     "metadata": {},
     "output_type": "execute_result"
    }
   ],
   "source": [
    "train_data['Work Pressure'].isna().sum()"
   ]
  },
  {
   "cell_type": "markdown",
   "id": "f01beec7",
   "metadata": {
    "papermill": {
     "duration": 0.022912,
     "end_time": "2024-11-28T14:09:09.064245",
     "exception": false,
     "start_time": "2024-11-28T14:09:09.041333",
     "status": "completed"
    },
    "tags": []
   },
   "source": [
    "We notice that the missing values in the `Work Pressure` and `Job Satisfaction` columns likely correspond to students who do not have jobs and, therefore, have no work pressure to report.\n",
    "<br>\n",
    "<br>\n",
    "So we will fill these missing values with `0`"
   ]
  },
  {
   "cell_type": "code",
   "execution_count": 27,
   "id": "2bdc6a3f",
   "metadata": {
    "execution": {
     "iopub.execute_input": "2024-11-28T14:09:09.110912Z",
     "iopub.status.busy": "2024-11-28T14:09:09.110407Z",
     "iopub.status.idle": "2024-11-28T14:09:09.122270Z",
     "shell.execute_reply": "2024-11-28T14:09:09.121184Z"
    },
    "papermill": {
     "duration": 0.038288,
     "end_time": "2024-11-28T14:09:09.124887",
     "exception": false,
     "start_time": "2024-11-28T14:09:09.086599",
     "status": "completed"
    },
    "tags": []
   },
   "outputs": [],
   "source": [
    "train_data.fillna({'Work Pressure' : 0}, inplace=True)\n",
    "train_data.fillna({'Job Satisfaction': 0}, inplace=True)"
   ]
  },
  {
   "cell_type": "markdown",
   "id": "1c83e9b9",
   "metadata": {
    "papermill": {
     "duration": 0.021986,
     "end_time": "2024-11-28T14:09:09.169084",
     "exception": false,
     "start_time": "2024-11-28T14:09:09.147098",
     "status": "completed"
    },
    "tags": []
   },
   "source": [
    "<br>"
   ]
  },
  {
   "cell_type": "markdown",
   "id": "a7e59229",
   "metadata": {
    "papermill": {
     "duration": 0.021947,
     "end_time": "2024-11-28T14:09:09.213102",
     "exception": false,
     "start_time": "2024-11-28T14:09:09.191155",
     "status": "completed"
    },
    "tags": []
   },
   "source": [
    "**Cleaning the `Dietary Habits` Column**\n",
    "\n",
    "when reviewing the `Dietary Habits` column, it was observed that:\n",
    "\n",
    "- Some individuals mistakenly entered **degree values** (e.g., `BSc`, `M.Tech`) into this column instead of dietary habits.\n",
    "- There are **numerical entries** (e.g., `1.0`, `3`, `2`) which may reflect attempts to measure dietary habits on a numerical scale.\n",
    "- Certain entries (e.g., `Male`, `Gender`, `Indoor`) are unrelated and were likely misentered.\n",
    "\n",
    "To address these issues:\n",
    "1. **Unification**: Obvious entries related to dietary habits (e.g., `More Healthy`, `Less Healthy`) were mapped into one of the three main categories: `Healthy`, `Moderate`, or `Unhealthy`.\n",
    "2. **Dropping Invalid Entries**: Ambiguous or unrelated values (e.g., `BSc`, `Mihir`) were standardized or dropped based on their context.\n",
    "<br>\n",
    "<br>"
   ]
  },
  {
   "cell_type": "code",
   "execution_count": 28,
   "id": "a9a86ae4",
   "metadata": {
    "execution": {
     "iopub.execute_input": "2024-11-28T14:09:09.259829Z",
     "iopub.status.busy": "2024-11-28T14:09:09.258735Z",
     "iopub.status.idle": "2024-11-28T14:09:09.284734Z",
     "shell.execute_reply": "2024-11-28T14:09:09.283670Z"
    },
    "papermill": {
     "duration": 0.052101,
     "end_time": "2024-11-28T14:09:09.287261",
     "exception": false,
     "start_time": "2024-11-28T14:09:09.235160",
     "status": "completed"
    },
    "tags": []
   },
   "outputs": [
    {
     "data": {
      "text/plain": [
       "Dietary Habits\n",
       "Moderate             49705\n",
       "Unhealthy            46227\n",
       "Healthy              44741\n",
       "Yes                      2\n",
       "No                       2\n",
       "More Healthy             2\n",
       "No Healthy               1\n",
       "Class 12                 1\n",
       "Indoor                   1\n",
       "Male                     1\n",
       "Vegas                    1\n",
       "M.Tech                   1\n",
       "Less Healthy             1\n",
       "1.0                      1\n",
       "Electrician              1\n",
       "Hormonal                 1\n",
       "Mihir                    1\n",
       "Less than Healthy        1\n",
       "3                        1\n",
       "Gender                   1\n",
       "BSc                      1\n",
       "Pratham                  1\n",
       "2                        1\n",
       "Name: count, dtype: int64"
      ]
     },
     "execution_count": 28,
     "metadata": {},
     "output_type": "execute_result"
    }
   ],
   "source": [
    "train_data['Dietary Habits'].value_counts()"
   ]
  },
  {
   "cell_type": "code",
   "execution_count": 29,
   "id": "b40fb5a3",
   "metadata": {
    "execution": {
     "iopub.execute_input": "2024-11-28T14:09:09.339376Z",
     "iopub.status.busy": "2024-11-28T14:09:09.338459Z",
     "iopub.status.idle": "2024-11-28T14:09:09.346451Z",
     "shell.execute_reply": "2024-11-28T14:09:09.345237Z"
    },
    "papermill": {
     "duration": 0.034593,
     "end_time": "2024-11-28T14:09:09.348642",
     "exception": false,
     "start_time": "2024-11-28T14:09:09.314049",
     "status": "completed"
    },
    "tags": []
   },
   "outputs": [],
   "source": [
    "def clean_dietary_habits(dataframe, drop=True):\n",
    "    # Unify the column values\n",
    "    dietary_habits_mapping = {\n",
    "        'Moderate': 'Moderate',\n",
    "        'Healthy': 'Healthy',\n",
    "        'Unhealthy': 'Unhealthy',\n",
    "        'More Healthy': 'Healthy',\n",
    "        'Less Healthy': 'Unhealthy',\n",
    "        'Less than Healthy': 'Unhealthy',\n",
    "        'No Healthy': 'Unhealthy'\n",
    "    }\n",
    "    \n",
    "    dataframe['Dietary Habits'] = dataframe['Dietary Habits'].replace(dietary_habits_mapping)\n",
    "    \n",
    "    # List of invalid values to handle\n",
    "    invalid_values = [\n",
    "        'Yes', 'No', 'Class 12', 'Indoor', 'Male', 'Vegas', \n",
    "        'M.Tech', '1.0', 'Electrician', 'Hormonal', 'Mihir', \n",
    "        'Pratham', '2', '3', 'Gender', 'BSc'\n",
    "    ]\n",
    "    \n",
    "    if drop:\n",
    "        # Drop rows containing invalid values\n",
    "        dataframe = dataframe[~dataframe['Dietary Habits'].isin(invalid_values)]\n",
    "    else:\n",
    "        # Replace invalid values with NaN\n",
    "        dataframe['Dietary Habits'] = dataframe['Dietary Habits'].apply(\n",
    "            lambda x: x if x not in invalid_values else None\n",
    "        )\n",
    "        # Fill NaN values with the most frequent value\n",
    "    most_frequent = dataframe['Dietary Habits'].mode()[0]\n",
    "    dataframe['Dietary Habits'] = dataframe['Dietary Habits'].fillna(most_frequent)\n",
    "    \n",
    "    return dataframe"
   ]
  },
  {
   "cell_type": "code",
   "execution_count": 30,
   "id": "75da5253",
   "metadata": {
    "execution": {
     "iopub.execute_input": "2024-11-28T14:09:09.397044Z",
     "iopub.status.busy": "2024-11-28T14:09:09.396635Z",
     "iopub.status.idle": "2024-11-28T14:09:09.506005Z",
     "shell.execute_reply": "2024-11-28T14:09:09.504782Z"
    },
    "papermill": {
     "duration": 0.134733,
     "end_time": "2024-11-28T14:09:09.508180",
     "exception": false,
     "start_time": "2024-11-28T14:09:09.373447",
     "status": "completed"
    },
    "tags": []
   },
   "outputs": [
    {
     "name": "stderr",
     "output_type": "stream",
     "text": [
      "/tmp/ipykernel_17/1478261073.py:32: SettingWithCopyWarning: \n",
      "A value is trying to be set on a copy of a slice from a DataFrame.\n",
      "Try using .loc[row_indexer,col_indexer] = value instead\n",
      "\n",
      "See the caveats in the documentation: https://pandas.pydata.org/pandas-docs/stable/user_guide/indexing.html#returning-a-view-versus-a-copy\n",
      "  dataframe['Dietary Habits'] = dataframe['Dietary Habits'].fillna(most_frequent)\n"
     ]
    }
   ],
   "source": [
    "train_data = clean_dietary_habits(train_data)"
   ]
  },
  {
   "cell_type": "code",
   "execution_count": 31,
   "id": "e582a51d",
   "metadata": {
    "execution": {
     "iopub.execute_input": "2024-11-28T14:09:09.554474Z",
     "iopub.status.busy": "2024-11-28T14:09:09.554039Z",
     "iopub.status.idle": "2024-11-28T14:09:09.570387Z",
     "shell.execute_reply": "2024-11-28T14:09:09.569282Z"
    },
    "papermill": {
     "duration": 0.042242,
     "end_time": "2024-11-28T14:09:09.572648",
     "exception": false,
     "start_time": "2024-11-28T14:09:09.530406",
     "status": "completed"
    },
    "tags": []
   },
   "outputs": [
    {
     "data": {
      "text/plain": [
       "Dietary Habits\n",
       "Moderate     49709\n",
       "Unhealthy    46230\n",
       "Healthy      44743\n",
       "Name: count, dtype: int64"
      ]
     },
     "execution_count": 31,
     "metadata": {},
     "output_type": "execute_result"
    }
   ],
   "source": [
    "train_data['Dietary Habits'].value_counts()"
   ]
  },
  {
   "cell_type": "code",
   "execution_count": 32,
   "id": "3f8dfcd1",
   "metadata": {
    "execution": {
     "iopub.execute_input": "2024-11-28T14:09:09.619010Z",
     "iopub.status.busy": "2024-11-28T14:09:09.618604Z",
     "iopub.status.idle": "2024-11-28T14:09:09.633056Z",
     "shell.execute_reply": "2024-11-28T14:09:09.631926Z"
    },
    "papermill": {
     "duration": 0.040443,
     "end_time": "2024-11-28T14:09:09.635251",
     "exception": false,
     "start_time": "2024-11-28T14:09:09.594808",
     "status": "completed"
    },
    "tags": []
   },
   "outputs": [
    {
     "data": {
      "text/plain": [
       "0"
      ]
     },
     "execution_count": 32,
     "metadata": {},
     "output_type": "execute_result"
    }
   ],
   "source": [
    "train_data['Dietary Habits'].isna().sum()"
   ]
  },
  {
   "cell_type": "markdown",
   "id": "4396d37d",
   "metadata": {
    "papermill": {
     "duration": 0.022151,
     "end_time": "2024-11-28T14:09:09.679742",
     "exception": false,
     "start_time": "2024-11-28T14:09:09.657591",
     "status": "completed"
    },
    "tags": []
   },
   "source": [
    "<br>"
   ]
  },
  {
   "cell_type": "markdown",
   "id": "675a65ad",
   "metadata": {
    "papermill": {
     "duration": 0.021899,
     "end_time": "2024-11-28T14:09:09.723720",
     "exception": false,
     "start_time": "2024-11-28T14:09:09.701821",
     "status": "completed"
    },
    "tags": []
   },
   "source": [
    "**Handling Missing Values in the Degree Column**"
   ]
  },
  {
   "cell_type": "code",
   "execution_count": 33,
   "id": "cd0ab854",
   "metadata": {
    "execution": {
     "iopub.execute_input": "2024-11-28T14:09:09.769900Z",
     "iopub.status.busy": "2024-11-28T14:09:09.769514Z",
     "iopub.status.idle": "2024-11-28T14:09:09.798480Z",
     "shell.execute_reply": "2024-11-28T14:09:09.797257Z"
    },
    "papermill": {
     "duration": 0.05482,
     "end_time": "2024-11-28T14:09:09.800854",
     "exception": false,
     "start_time": "2024-11-28T14:09:09.746034",
     "status": "completed"
    },
    "tags": []
   },
   "outputs": [
    {
     "data": {
      "text/html": [
       "<div>\n",
       "<style scoped>\n",
       "    .dataframe tbody tr th:only-of-type {\n",
       "        vertical-align: middle;\n",
       "    }\n",
       "\n",
       "    .dataframe tbody tr th {\n",
       "        vertical-align: top;\n",
       "    }\n",
       "\n",
       "    .dataframe thead th {\n",
       "        text-align: right;\n",
       "    }\n",
       "</style>\n",
       "<table border=\"1\" class=\"dataframe\">\n",
       "  <thead>\n",
       "    <tr style=\"text-align: right;\">\n",
       "      <th></th>\n",
       "      <th>id</th>\n",
       "      <th>Name</th>\n",
       "      <th>Gender</th>\n",
       "      <th>Age</th>\n",
       "      <th>City</th>\n",
       "      <th>Working Professional or Student</th>\n",
       "      <th>Profession</th>\n",
       "      <th>Academic Pressure</th>\n",
       "      <th>Work Pressure</th>\n",
       "      <th>CGPA</th>\n",
       "      <th>...</th>\n",
       "      <th>Job Satisfaction</th>\n",
       "      <th>Sleep Duration</th>\n",
       "      <th>Dietary Habits</th>\n",
       "      <th>Degree</th>\n",
       "      <th>Have you ever had suicidal thoughts ?</th>\n",
       "      <th>Work/Study Hours</th>\n",
       "      <th>Financial Stress</th>\n",
       "      <th>Family History of Mental Illness</th>\n",
       "      <th>Depression</th>\n",
       "      <th>Profession Category</th>\n",
       "    </tr>\n",
       "  </thead>\n",
       "  <tbody>\n",
       "    <tr>\n",
       "      <th>110064</th>\n",
       "      <td>110064</td>\n",
       "      <td>Riya</td>\n",
       "      <td>Female</td>\n",
       "      <td>28</td>\n",
       "      <td>Srinagar</td>\n",
       "      <td>Working Professional</td>\n",
       "      <td>Unknown</td>\n",
       "      <td>NaN</td>\n",
       "      <td>3.0</td>\n",
       "      <td>NaN</td>\n",
       "      <td>...</td>\n",
       "      <td>3.0</td>\n",
       "      <td>5-6 hours</td>\n",
       "      <td>Unhealthy</td>\n",
       "      <td>NaN</td>\n",
       "      <td>Yes</td>\n",
       "      <td>4.0</td>\n",
       "      <td>2.0</td>\n",
       "      <td>Yes</td>\n",
       "      <td>1</td>\n",
       "      <td>Unknown</td>\n",
       "    </tr>\n",
       "    <tr>\n",
       "      <th>128934</th>\n",
       "      <td>128934</td>\n",
       "      <td>Anaya</td>\n",
       "      <td>Female</td>\n",
       "      <td>28</td>\n",
       "      <td>Srinagar</td>\n",
       "      <td>Working Professional</td>\n",
       "      <td>Unknown</td>\n",
       "      <td>NaN</td>\n",
       "      <td>5.0</td>\n",
       "      <td>NaN</td>\n",
       "      <td>...</td>\n",
       "      <td>4.0</td>\n",
       "      <td>Less than 5 hours</td>\n",
       "      <td>Unhealthy</td>\n",
       "      <td>NaN</td>\n",
       "      <td>Yes</td>\n",
       "      <td>3.0</td>\n",
       "      <td>3.0</td>\n",
       "      <td>Yes</td>\n",
       "      <td>0</td>\n",
       "      <td>Unknown</td>\n",
       "    </tr>\n",
       "  </tbody>\n",
       "</table>\n",
       "<p>2 rows × 21 columns</p>\n",
       "</div>"
      ],
      "text/plain": [
       "            id   Name  Gender  Age      City Working Professional or Student  \\\n",
       "110064  110064   Riya  Female   28  Srinagar            Working Professional   \n",
       "128934  128934  Anaya  Female   28  Srinagar            Working Professional   \n",
       "\n",
       "       Profession  Academic Pressure  Work Pressure  CGPA  ...  \\\n",
       "110064    Unknown                NaN            3.0   NaN  ...   \n",
       "128934    Unknown                NaN            5.0   NaN  ...   \n",
       "\n",
       "        Job Satisfaction     Sleep Duration Dietary Habits Degree  \\\n",
       "110064               3.0          5-6 hours      Unhealthy    NaN   \n",
       "128934               4.0  Less than 5 hours      Unhealthy    NaN   \n",
       "\n",
       "       Have you ever had suicidal thoughts ? Work/Study Hours  \\\n",
       "110064                                   Yes              4.0   \n",
       "128934                                   Yes              3.0   \n",
       "\n",
       "        Financial Stress  Family History of Mental Illness Depression  \\\n",
       "110064               2.0                               Yes          1   \n",
       "128934               3.0                               Yes          0   \n",
       "\n",
       "        Profession Category  \n",
       "110064              Unknown  \n",
       "128934              Unknown  \n",
       "\n",
       "[2 rows x 21 columns]"
      ]
     },
     "execution_count": 33,
     "metadata": {},
     "output_type": "execute_result"
    }
   ],
   "source": [
    "train_data[train_data['Degree'].isna()]"
   ]
  },
  {
   "cell_type": "markdown",
   "id": "05ab2979",
   "metadata": {
    "papermill": {
     "duration": 0.022334,
     "end_time": "2024-11-28T14:09:09.846454",
     "exception": false,
     "start_time": "2024-11-28T14:09:09.824120",
     "status": "completed"
    },
    "tags": []
   },
   "source": [
    "When analyzing the `Degree` column, we found two missing values. Unfortunately, these rows lack any additional information in related columns. Since we cannot accurately impute these missing values, we will drop these rows to maintain the integrity of the dataset."
   ]
  },
  {
   "cell_type": "code",
   "execution_count": 34,
   "id": "809842e0",
   "metadata": {
    "execution": {
     "iopub.execute_input": "2024-11-28T14:09:09.892988Z",
     "iopub.status.busy": "2024-11-28T14:09:09.892628Z",
     "iopub.status.idle": "2024-11-28T14:09:10.029304Z",
     "shell.execute_reply": "2024-11-28T14:09:10.028402Z"
    },
    "papermill": {
     "duration": 0.162838,
     "end_time": "2024-11-28T14:09:10.031789",
     "exception": false,
     "start_time": "2024-11-28T14:09:09.868951",
     "status": "completed"
    },
    "tags": []
   },
   "outputs": [],
   "source": [
    "train_data = train_data.dropna(subset=['Degree']).reset_index(drop=True)"
   ]
  },
  {
   "cell_type": "markdown",
   "id": "11ad048a",
   "metadata": {
    "papermill": {
     "duration": 0.02224,
     "end_time": "2024-11-28T14:09:10.077227",
     "exception": false,
     "start_time": "2024-11-28T14:09:10.054987",
     "status": "completed"
    },
    "tags": []
   },
   "source": [
    "<br>"
   ]
  },
  {
   "cell_type": "markdown",
   "id": "d4415baf",
   "metadata": {
    "papermill": {
     "duration": 0.022103,
     "end_time": "2024-11-28T14:09:10.121519",
     "exception": false,
     "start_time": "2024-11-28T14:09:10.099416",
     "status": "completed"
    },
    "tags": []
   },
   "source": [
    "**Handling Missing Values in the Financial Stress Column**\n",
    "<br>\n",
    "<br>"
   ]
  },
  {
   "cell_type": "code",
   "execution_count": 35,
   "id": "eef49c46",
   "metadata": {
    "execution": {
     "iopub.execute_input": "2024-11-28T14:09:10.168993Z",
     "iopub.status.busy": "2024-11-28T14:09:10.168644Z",
     "iopub.status.idle": "2024-11-28T14:09:10.179028Z",
     "shell.execute_reply": "2024-11-28T14:09:10.177939Z"
    },
    "papermill": {
     "duration": 0.036581,
     "end_time": "2024-11-28T14:09:10.181131",
     "exception": false,
     "start_time": "2024-11-28T14:09:10.144550",
     "status": "completed"
    },
    "tags": []
   },
   "outputs": [
    {
     "data": {
      "text/plain": [
       "Financial Stress\n",
       "2.0    31447\n",
       "5.0    28274\n",
       "4.0    27762\n",
       "1.0    27206\n",
       "3.0    25987\n",
       "Name: count, dtype: int64"
      ]
     },
     "execution_count": 35,
     "metadata": {},
     "output_type": "execute_result"
    }
   ],
   "source": [
    "train_data['Financial Stress'].value_counts()"
   ]
  },
  {
   "cell_type": "code",
   "execution_count": 36,
   "id": "ecd4f7a0",
   "metadata": {
    "execution": {
     "iopub.execute_input": "2024-11-28T14:09:10.227908Z",
     "iopub.status.busy": "2024-11-28T14:09:10.227544Z",
     "iopub.status.idle": "2024-11-28T14:09:10.252447Z",
     "shell.execute_reply": "2024-11-28T14:09:10.251220Z"
    },
    "papermill": {
     "duration": 0.051266,
     "end_time": "2024-11-28T14:09:10.254833",
     "exception": false,
     "start_time": "2024-11-28T14:09:10.203567",
     "status": "completed"
    },
    "tags": []
   },
   "outputs": [
    {
     "data": {
      "text/html": [
       "<div>\n",
       "<style scoped>\n",
       "    .dataframe tbody tr th:only-of-type {\n",
       "        vertical-align: middle;\n",
       "    }\n",
       "\n",
       "    .dataframe tbody tr th {\n",
       "        vertical-align: top;\n",
       "    }\n",
       "\n",
       "    .dataframe thead th {\n",
       "        text-align: right;\n",
       "    }\n",
       "</style>\n",
       "<table border=\"1\" class=\"dataframe\">\n",
       "  <thead>\n",
       "    <tr style=\"text-align: right;\">\n",
       "      <th></th>\n",
       "      <th>id</th>\n",
       "      <th>Name</th>\n",
       "      <th>Gender</th>\n",
       "      <th>Age</th>\n",
       "      <th>City</th>\n",
       "      <th>Working Professional or Student</th>\n",
       "      <th>Profession</th>\n",
       "      <th>Academic Pressure</th>\n",
       "      <th>Work Pressure</th>\n",
       "      <th>CGPA</th>\n",
       "      <th>...</th>\n",
       "      <th>Job Satisfaction</th>\n",
       "      <th>Sleep Duration</th>\n",
       "      <th>Dietary Habits</th>\n",
       "      <th>Degree</th>\n",
       "      <th>Have you ever had suicidal thoughts ?</th>\n",
       "      <th>Work/Study Hours</th>\n",
       "      <th>Financial Stress</th>\n",
       "      <th>Family History of Mental Illness</th>\n",
       "      <th>Depression</th>\n",
       "      <th>Profession Category</th>\n",
       "    </tr>\n",
       "  </thead>\n",
       "  <tbody>\n",
       "    <tr>\n",
       "      <th>22373</th>\n",
       "      <td>22377</td>\n",
       "      <td>Manvi</td>\n",
       "      <td>Female</td>\n",
       "      <td>32</td>\n",
       "      <td>Varanasi</td>\n",
       "      <td>Student</td>\n",
       "      <td>IT Specialist</td>\n",
       "      <td>3.0</td>\n",
       "      <td>0.0</td>\n",
       "      <td>5.64</td>\n",
       "      <td>...</td>\n",
       "      <td>0.0</td>\n",
       "      <td>5-6 hours</td>\n",
       "      <td>Healthy</td>\n",
       "      <td>BCA</td>\n",
       "      <td>No</td>\n",
       "      <td>12.0</td>\n",
       "      <td>NaN</td>\n",
       "      <td>No</td>\n",
       "      <td>1</td>\n",
       "      <td>Engineering</td>\n",
       "    </tr>\n",
       "    <tr>\n",
       "      <th>51478</th>\n",
       "      <td>51485</td>\n",
       "      <td>Ishwar</td>\n",
       "      <td>Male</td>\n",
       "      <td>37</td>\n",
       "      <td>Hyderabad</td>\n",
       "      <td>Working Professional</td>\n",
       "      <td>Unspecified</td>\n",
       "      <td>NaN</td>\n",
       "      <td>4.0</td>\n",
       "      <td>NaN</td>\n",
       "      <td>...</td>\n",
       "      <td>2.0</td>\n",
       "      <td>More than 8 hours</td>\n",
       "      <td>Moderate</td>\n",
       "      <td>Class 12</td>\n",
       "      <td>Yes</td>\n",
       "      <td>9.0</td>\n",
       "      <td>NaN</td>\n",
       "      <td>No</td>\n",
       "      <td>0</td>\n",
       "      <td>Unspecified</td>\n",
       "    </tr>\n",
       "    <tr>\n",
       "      <th>68901</th>\n",
       "      <td>68910</td>\n",
       "      <td>Arav</td>\n",
       "      <td>Male</td>\n",
       "      <td>29</td>\n",
       "      <td>Hyderabad</td>\n",
       "      <td>Student</td>\n",
       "      <td>Teacher</td>\n",
       "      <td>2.0</td>\n",
       "      <td>0.0</td>\n",
       "      <td>8.94</td>\n",
       "      <td>...</td>\n",
       "      <td>0.0</td>\n",
       "      <td>Less than 5 hours</td>\n",
       "      <td>Unhealthy</td>\n",
       "      <td>B.Ed</td>\n",
       "      <td>No</td>\n",
       "      <td>12.0</td>\n",
       "      <td>NaN</td>\n",
       "      <td>Yes</td>\n",
       "      <td>0</td>\n",
       "      <td>Education</td>\n",
       "    </tr>\n",
       "    <tr>\n",
       "      <th>97598</th>\n",
       "      <td>97610</td>\n",
       "      <td>Pari</td>\n",
       "      <td>Female</td>\n",
       "      <td>20</td>\n",
       "      <td>Kolkata</td>\n",
       "      <td>Student</td>\n",
       "      <td>Doctor</td>\n",
       "      <td>1.0</td>\n",
       "      <td>0.0</td>\n",
       "      <td>6.83</td>\n",
       "      <td>...</td>\n",
       "      <td>0.0</td>\n",
       "      <td>5-6 hours</td>\n",
       "      <td>Healthy</td>\n",
       "      <td>MBBS</td>\n",
       "      <td>No</td>\n",
       "      <td>9.0</td>\n",
       "      <td>NaN</td>\n",
       "      <td>Yes</td>\n",
       "      <td>0</td>\n",
       "      <td>Healthcare</td>\n",
       "    </tr>\n",
       "  </tbody>\n",
       "</table>\n",
       "<p>4 rows × 21 columns</p>\n",
       "</div>"
      ],
      "text/plain": [
       "          id    Name  Gender  Age       City Working Professional or Student  \\\n",
       "22373  22377   Manvi  Female   32   Varanasi                         Student   \n",
       "51478  51485  Ishwar    Male   37  Hyderabad            Working Professional   \n",
       "68901  68910    Arav    Male   29  Hyderabad                         Student   \n",
       "97598  97610    Pari  Female   20    Kolkata                         Student   \n",
       "\n",
       "          Profession  Academic Pressure  Work Pressure  CGPA  ...  \\\n",
       "22373  IT Specialist                3.0            0.0  5.64  ...   \n",
       "51478    Unspecified                NaN            4.0   NaN  ...   \n",
       "68901        Teacher                2.0            0.0  8.94  ...   \n",
       "97598         Doctor                1.0            0.0  6.83  ...   \n",
       "\n",
       "       Job Satisfaction     Sleep Duration Dietary Habits    Degree  \\\n",
       "22373               0.0          5-6 hours        Healthy       BCA   \n",
       "51478               2.0  More than 8 hours       Moderate  Class 12   \n",
       "68901               0.0  Less than 5 hours      Unhealthy      B.Ed   \n",
       "97598               0.0          5-6 hours        Healthy      MBBS   \n",
       "\n",
       "      Have you ever had suicidal thoughts ? Work/Study Hours  \\\n",
       "22373                                    No             12.0   \n",
       "51478                                   Yes              9.0   \n",
       "68901                                    No             12.0   \n",
       "97598                                    No              9.0   \n",
       "\n",
       "       Financial Stress  Family History of Mental Illness Depression  \\\n",
       "22373               NaN                                No          1   \n",
       "51478               NaN                                No          0   \n",
       "68901               NaN                               Yes          0   \n",
       "97598               NaN                               Yes          0   \n",
       "\n",
       "       Profession Category  \n",
       "22373          Engineering  \n",
       "51478          Unspecified  \n",
       "68901            Education  \n",
       "97598           Healthcare  \n",
       "\n",
       "[4 rows x 21 columns]"
      ]
     },
     "execution_count": 36,
     "metadata": {},
     "output_type": "execute_result"
    }
   ],
   "source": [
    "train_data[train_data['Financial Stress'].isna()]"
   ]
  },
  {
   "cell_type": "code",
   "execution_count": 37,
   "id": "5bff1847",
   "metadata": {
    "execution": {
     "iopub.execute_input": "2024-11-28T14:09:10.302112Z",
     "iopub.status.busy": "2024-11-28T14:09:10.301769Z",
     "iopub.status.idle": "2024-11-28T14:09:10.311006Z",
     "shell.execute_reply": "2024-11-28T14:09:10.309860Z"
    },
    "papermill": {
     "duration": 0.035549,
     "end_time": "2024-11-28T14:09:10.313322",
     "exception": false,
     "start_time": "2024-11-28T14:09:10.277773",
     "status": "completed"
    },
    "tags": []
   },
   "outputs": [],
   "source": [
    "most_frequent_financial_stress = train_data['Financial Stress'].mode()[0]\n",
    "\n",
    "train_data.fillna({'Financial Stress' : most_frequent_financial_stress}, inplace = True)"
   ]
  },
  {
   "cell_type": "markdown",
   "id": "37f17a78",
   "metadata": {
    "papermill": {
     "duration": 0.0227,
     "end_time": "2024-11-28T14:09:10.359469",
     "exception": false,
     "start_time": "2024-11-28T14:09:10.336769",
     "status": "completed"
    },
    "tags": []
   },
   "source": [
    "**Conclusion**\n",
    "\n",
    "After completing the missing values handling step:\n",
    "\n",
    "- Most missing values were filled using appropriate techniques based on logical reasoning and available information.  \n",
    "- However, columns such as `CGPA`, `Academic Pressure`, and `Study Satisfaction` contain a significant amount of missing data.  \n",
    "- Imputing these values might introduce bias and negatively affect data quality and model behavior.  \n",
    "- To maintain data integrity and improve model performance, these columns will be dropped from the dataset."
   ]
  },
  {
   "cell_type": "code",
   "execution_count": 38,
   "id": "d605b0cd",
   "metadata": {
    "execution": {
     "iopub.execute_input": "2024-11-28T14:09:10.406427Z",
     "iopub.status.busy": "2024-11-28T14:09:10.406027Z",
     "iopub.status.idle": "2024-11-28T14:09:10.425281Z",
     "shell.execute_reply": "2024-11-28T14:09:10.424075Z"
    },
    "papermill": {
     "duration": 0.045839,
     "end_time": "2024-11-28T14:09:10.427820",
     "exception": false,
     "start_time": "2024-11-28T14:09:10.381981",
     "status": "completed"
    },
    "tags": []
   },
   "outputs": [],
   "source": [
    "train_data.drop(['CGPA', 'Academic Pressure', 'Study Satisfaction'], axis=1, inplace=True)"
   ]
  },
  {
   "cell_type": "code",
   "execution_count": 39,
   "id": "8a46fcc4",
   "metadata": {
    "execution": {
     "iopub.execute_input": "2024-11-28T14:09:10.475612Z",
     "iopub.status.busy": "2024-11-28T14:09:10.475237Z",
     "iopub.status.idle": "2024-11-28T14:09:10.557087Z",
     "shell.execute_reply": "2024-11-28T14:09:10.555986Z"
    },
    "papermill": {
     "duration": 0.108624,
     "end_time": "2024-11-28T14:09:10.559614",
     "exception": false,
     "start_time": "2024-11-28T14:09:10.450990",
     "status": "completed"
    },
    "tags": []
   },
   "outputs": [
    {
     "data": {
      "text/plain": [
       "id                                       0\n",
       "Name                                     0\n",
       "Gender                                   0\n",
       "Age                                      0\n",
       "City                                     0\n",
       "Working Professional or Student          0\n",
       "Profession                               0\n",
       "Work Pressure                            0\n",
       "Job Satisfaction                         0\n",
       "Sleep Duration                           0\n",
       "Dietary Habits                           0\n",
       "Degree                                   0\n",
       "Have you ever had suicidal thoughts ?    0\n",
       "Work/Study Hours                         0\n",
       "Financial Stress                         0\n",
       "Family History of Mental Illness         0\n",
       "Depression                               0\n",
       "Profession Category                      0\n",
       "dtype: int64"
      ]
     },
     "execution_count": 39,
     "metadata": {},
     "output_type": "execute_result"
    }
   ],
   "source": [
    "train_data.isna().sum()"
   ]
  },
  {
   "cell_type": "markdown",
   "id": "d25edd6f",
   "metadata": {
    "papermill": {
     "duration": 0.022661,
     "end_time": "2024-11-28T14:09:10.605216",
     "exception": false,
     "start_time": "2024-11-28T14:09:10.582555",
     "status": "completed"
    },
    "tags": []
   },
   "source": [
    "## [5] EDA"
   ]
  },
  {
   "cell_type": "markdown",
   "id": "680f93d2",
   "metadata": {
    "papermill": {
     "duration": 0.023082,
     "end_time": "2024-11-28T14:09:10.651528",
     "exception": false,
     "start_time": "2024-11-28T14:09:10.628446",
     "status": "completed"
    },
    "tags": []
   },
   "source": [
    "Every dataset contains valuable insights waiting to be discovered. In this section, we begin by exploring the dataset to better understand the characteristics of each feature. We will start with the value counts for categorical variables, along with the distributions of numerical features, to uncover any patterns, trends, or anomalies."
   ]
  },
  {
   "cell_type": "markdown",
   "id": "e1549e7b",
   "metadata": {
    "papermill": {
     "duration": 0.022821,
     "end_time": "2024-11-28T14:09:10.697381",
     "exception": false,
     "start_time": "2024-11-28T14:09:10.674560",
     "status": "completed"
    },
    "tags": []
   },
   "source": [
    "### Focus and Objectives\n",
    "\n",
    "Our primary goal is to explore the relationships between various features and the target variable: mental health status. By analyzing this data, we aim to identify the factors that most significantly contribute to mental health conditions.\n",
    "\n",
    "Some key questions we aim to answer include:\n",
    "\n",
    "- What factors are most influential in determining mental health status?  \n",
    "- How do age and gender correlate with mental health conditions?  \n",
    "- Does work-related stress or job type have a significant impact on mental health?  \n",
    "- Are certain lifestyle factors, such as dietary habits or physical activity, associated with better or worse mental health outcomes?  \n",
    "- How do academic or professional pressures influence mental health status?  \n"
   ]
  },
  {
   "cell_type": "markdown",
   "id": "38c7fc2b",
   "metadata": {
    "papermill": {
     "duration": 0.02265,
     "end_time": "2024-11-28T14:09:10.742897",
     "exception": false,
     "start_time": "2024-11-28T14:09:10.720247",
     "status": "completed"
    },
    "tags": []
   },
   "source": [
    "#### 1) Target Distribution"
   ]
  },
  {
   "cell_type": "code",
   "execution_count": 40,
   "id": "147f830a",
   "metadata": {
    "execution": {
     "iopub.execute_input": "2024-11-28T14:09:10.792614Z",
     "iopub.status.busy": "2024-11-28T14:09:10.792196Z",
     "iopub.status.idle": "2024-11-28T14:09:10.804621Z",
     "shell.execute_reply": "2024-11-28T14:09:10.802937Z"
    },
    "papermill": {
     "duration": 0.041001,
     "end_time": "2024-11-28T14:09:10.807103",
     "exception": false,
     "start_time": "2024-11-28T14:09:10.766102",
     "status": "completed"
    },
    "tags": []
   },
   "outputs": [
    {
     "data": {
      "text/plain": [
       "Depression\n",
       "0    115120\n",
       "1     25560\n",
       "Name: count, dtype: int64"
      ]
     },
     "execution_count": 40,
     "metadata": {},
     "output_type": "execute_result"
    }
   ],
   "source": [
    "train_data['Depression'].value_counts()"
   ]
  },
  {
   "cell_type": "code",
   "execution_count": 41,
   "id": "de627244",
   "metadata": {
    "execution": {
     "iopub.execute_input": "2024-11-28T14:09:10.856807Z",
     "iopub.status.busy": "2024-11-28T14:09:10.856430Z",
     "iopub.status.idle": "2024-11-28T14:09:11.160564Z",
     "shell.execute_reply": "2024-11-28T14:09:11.159414Z"
    },
    "papermill": {
     "duration": 0.331202,
     "end_time": "2024-11-28T14:09:11.162736",
     "exception": false,
     "start_time": "2024-11-28T14:09:10.831534",
     "status": "completed"
    },
    "tags": []
   },
   "outputs": [
    {
     "data": {
      "image/png": "[encoded data removed]",
      "text/plain": [
       "<Figure size 1000x800 with 1 Axes>"
      ]
     },
     "metadata": {},
     "output_type": "display_data"
    }
   ],
   "source": [
    "plt.figure(figsize=(10, 8))\n",
    "sns.countplot(x='Depression', data=train_data, palette='viridis', hue='Depression')\n",
    "\n",
    "plt.title('Distribution of the Target Variable (Depression)', fontsize=16)\n",
    "plt.ylabel('Count', fontsize=14)\n",
    "plt.xticks([0, 1], ['Not Depressed', 'Depressed'], fontsize=12)\n",
    "\n",
    "plt.show()"
   ]
  },
  {
   "cell_type": "markdown",
   "id": "e7b7b701",
   "metadata": {
    "papermill": {
     "duration": 0.023302,
     "end_time": "2024-11-28T14:09:11.210018",
     "exception": false,
     "start_time": "2024-11-28T14:09:11.186716",
     "status": "completed"
    },
    "tags": []
   },
   "source": [
    "The `Depression` column shows a significant imbalance: 115,120 instances of not depressed (0) compared to 25,560 instances of depressed (1). This imbalance could impact the performance of predictive models.\n",
    "\n",
    "*Note: Balancing the dataset will be crucial for building a reliable model to accurately predict depression.*"
   ]
  },
  {
   "cell_type": "markdown",
   "id": "2f043c21",
   "metadata": {
    "papermill": {
     "duration": 0.023417,
     "end_time": "2024-11-28T14:09:11.257406",
     "exception": false,
     "start_time": "2024-11-28T14:09:11.233989",
     "status": "completed"
    },
    "tags": []
   },
   "source": [
    "#### 2) Personal Features Distributions"
   ]
  },
  {
   "cell_type": "markdown",
   "id": "56bbfbc8",
   "metadata": {
    "papermill": {
     "duration": 0.023509,
     "end_time": "2024-11-28T14:09:11.304977",
     "exception": false,
     "start_time": "2024-11-28T14:09:11.281468",
     "status": "completed"
    },
    "tags": []
   },
   "source": [
    "- Gender"
   ]
  },
  {
   "cell_type": "code",
   "execution_count": 42,
   "id": "f77e306e",
   "metadata": {
    "execution": {
     "iopub.execute_input": "2024-11-28T14:09:11.355268Z",
     "iopub.status.busy": "2024-11-28T14:09:11.354015Z",
     "iopub.status.idle": "2024-11-28T14:09:11.766180Z",
     "shell.execute_reply": "2024-11-28T14:09:11.765072Z"
    },
    "papermill": {
     "duration": 0.439769,
     "end_time": "2024-11-28T14:09:11.768466",
     "exception": false,
     "start_time": "2024-11-28T14:09:11.328697",
     "status": "completed"
    },
    "tags": []
   },
   "outputs": [
    {
     "data": {
      "text/plain": [
       "<function matplotlib.pyplot.show(close=None, block=None)>"
      ]
     },
     "execution_count": 42,
     "metadata": {},
     "output_type": "execute_result"
    },
    {
     "data": {
      "image/png": "[encoded data removed]",
      "text/plain": [
       "<Figure size 1000x800 with 1 Axes>"
      ]
     },
     "metadata": {},
     "output_type": "display_data"
    }
   ],
   "source": [
    "plt.figure(figsize=(10, 8))\n",
    "\n",
    "sns.countplot(data=train_data, x='Gender', palette='pastel', hue='Gender')\n",
    "plt.title('Gender Distribution')\n",
    "\n",
    "plt.show"
   ]
  },
  {
   "cell_type": "code",
   "execution_count": 43,
   "id": "2e30c5ab",
   "metadata": {
    "execution": {
     "iopub.execute_input": "2024-11-28T14:09:11.820011Z",
     "iopub.status.busy": "2024-11-28T14:09:11.819220Z",
     "iopub.status.idle": "2024-11-28T14:09:12.128598Z",
     "shell.execute_reply": "2024-11-28T14:09:12.127426Z"
    },
    "papermill": {
     "duration": 0.337445,
     "end_time": "2024-11-28T14:09:12.130929",
     "exception": false,
     "start_time": "2024-11-28T14:09:11.793484",
     "status": "completed"
    },
    "tags": []
   },
   "outputs": [
    {
     "data": {
      "image/png": "[encoded data removed]",
      "text/plain": [
       "<Figure size 1200x800 with 1 Axes>"
      ]
     },
     "metadata": {},
     "output_type": "display_data"
    }
   ],
   "source": [
    "plt.figure(figsize=(12, 8))\n",
    "sns.countplot(data=train_data, x='Gender', hue='Depression', palette='Set2')\n",
    "\n",
    "plt.title('Gender Distribution vs Depression Status')\n",
    "plt.xlabel('Gender')\n",
    "plt.ylabel('Count')\n",
    "\n",
    "plt.show()"
   ]
  },
  {
   "cell_type": "markdown",
   "id": "c1a351f9",
   "metadata": {
    "papermill": {
     "duration": 0.02499,
     "end_time": "2024-11-28T14:09:12.180987",
     "exception": false,
     "start_time": "2024-11-28T14:09:12.155997",
     "status": "completed"
    },
    "tags": []
   },
   "source": [
    "- Age"
   ]
  },
  {
   "cell_type": "code",
   "execution_count": 44,
   "id": "2f5901c9",
   "metadata": {
    "execution": {
     "iopub.execute_input": "2024-11-28T14:09:12.232784Z",
     "iopub.status.busy": "2024-11-28T14:09:12.232365Z",
     "iopub.status.idle": "2024-11-28T14:09:12.239701Z",
     "shell.execute_reply": "2024-11-28T14:09:12.238562Z"
    },
    "papermill": {
     "duration": 0.03593,
     "end_time": "2024-11-28T14:09:12.241774",
     "exception": false,
     "start_time": "2024-11-28T14:09:12.205844",
     "status": "completed"
    },
    "tags": []
   },
   "outputs": [
    {
     "name": "stdout",
     "output_type": "stream",
     "text": [
      "Min age in the dataset : 18\n",
      "Max age in the dataset : 60\n"
     ]
    }
   ],
   "source": [
    "print(f'Min age in the dataset :', train_data['Age'].min())\n",
    "print(f'Max age in the dataset :', train_data['Age'].max())"
   ]
  },
  {
   "cell_type": "code",
   "execution_count": 45,
   "id": "a751b7a5",
   "metadata": {
    "execution": {
     "iopub.execute_input": "2024-11-28T14:09:12.295253Z",
     "iopub.status.busy": "2024-11-28T14:09:12.294812Z",
     "iopub.status.idle": "2024-11-28T14:09:13.198032Z",
     "shell.execute_reply": "2024-11-28T14:09:13.196978Z"
    },
    "papermill": {
     "duration": 0.933655,
     "end_time": "2024-11-28T14:09:13.200850",
     "exception": false,
     "start_time": "2024-11-28T14:09:12.267195",
     "status": "completed"
    },
    "tags": []
   },
   "outputs": [
    {
     "name": "stderr",
     "output_type": "stream",
     "text": [
      "/opt/conda/lib/python3.10/site-packages/seaborn/_oldcore.py:1119: FutureWarning: use_inf_as_na option is deprecated and will be removed in a future version. Convert inf values to NaN before operating instead.\n",
      "  with pd.option_context('mode.use_inf_as_na', True):\n"
     ]
    },
    {
     "data": {
      "image/png": "[encoded data removed]",
      "text/plain": [
       "<Figure size 1600x1000 with 1 Axes>"
      ]
     },
     "metadata": {},
     "output_type": "display_data"
    }
   ],
   "source": [
    "plt.figure(figsize=(16, 10))\n",
    "\n",
    "sns.histplot(train_data['Age'], bins=50, kde=True, color='seagreen')\n",
    "plt.title('Age Distribution')\n",
    "\n",
    "plt.show()"
   ]
  },
  {
   "cell_type": "markdown",
   "id": "05ada2db",
   "metadata": {
    "papermill": {
     "duration": 0.025397,
     "end_time": "2024-11-28T14:09:13.252968",
     "exception": false,
     "start_time": "2024-11-28T14:09:13.227571",
     "status": "completed"
    },
    "tags": []
   },
   "source": [
    "- City"
   ]
  },
  {
   "cell_type": "code",
   "execution_count": 46,
   "id": "91094d59",
   "metadata": {
    "execution": {
     "iopub.execute_input": "2024-11-28T14:09:13.305717Z",
     "iopub.status.busy": "2024-11-28T14:09:13.305331Z",
     "iopub.status.idle": "2024-11-28T14:09:13.321437Z",
     "shell.execute_reply": "2024-11-28T14:09:13.320310Z"
    },
    "papermill": {
     "duration": 0.045379,
     "end_time": "2024-11-28T14:09:13.323874",
     "exception": false,
     "start_time": "2024-11-28T14:09:13.278495",
     "status": "completed"
    },
    "tags": []
   },
   "outputs": [
    {
     "data": {
      "text/plain": [
       "array(['Ludhiana', 'Varanasi', 'Visakhapatnam', 'Mumbai', 'Kanpur',\n",
       "       'Ahmedabad', 'Thane', 'Nashik', 'Bangalore', 'Patna', 'Rajkot',\n",
       "       'Jaipur', 'Pune', 'Lucknow', 'Meerut', 'Agra', 'Surat',\n",
       "       'Faridabad', 'Hyderabad', 'Srinagar', 'Ghaziabad', 'Kolkata',\n",
       "       'Chennai', 'Kalyan', 'Nagpur', 'Vadodara', 'Vasai-Virar', 'Delhi',\n",
       "       'Bhopal', 'Indore', 'Ishanabad', 'Vidhi', 'Ayush', 'Gurgaon',\n",
       "       'Krishna', 'Aishwarya', 'Keshav', 'Harsha', 'Nalini', 'Aditya',\n",
       "       'Malyansh', 'Raghavendra', 'Saanvi', 'M.Tech', 'Bhavna',\n",
       "       'Less Delhi', 'Nandini', 'M.Com', 'Plata', 'Atharv', 'Pratyush',\n",
       "       'City', '3.0', 'Less than 5 Kalyan', 'MCA', 'Mira', 'Moreadhyay',\n",
       "       'Morena', 'Ishkarsh', 'Kashk', 'Mihir', 'Vidya', 'Tolkata', 'Anvi',\n",
       "       'Krinda', 'Ayansh', 'Shrey', 'Ivaan', 'Vaanya', 'Gaurav', 'Harsh',\n",
       "       'Reyansh', 'Kashish', 'Kibara', 'Vaishnavi', 'Chhavi', 'Parth',\n",
       "       'Mahi', 'Tushar', 'MSc', 'No', 'Rashi', 'ME', 'Molkata',\n",
       "       'Researcher', 'Kagan', 'Armaan', 'Ithal', 'Nalyan', 'Dhruv',\n",
       "       'Galesabad', 'Itheg', 'Aaradhya', 'Pooja', 'Khushi', 'Khaziabad',\n",
       "       'Jhanvi', 'Unirar'], dtype=object)"
      ]
     },
     "execution_count": 46,
     "metadata": {},
     "output_type": "execute_result"
    }
   ],
   "source": [
    "train_data['City'].unique()"
   ]
  },
  {
   "cell_type": "code",
   "execution_count": 47,
   "id": "c39ba34f",
   "metadata": {
    "execution": {
     "iopub.execute_input": "2024-11-28T14:09:13.379450Z",
     "iopub.status.busy": "2024-11-28T14:09:13.379002Z",
     "iopub.status.idle": "2024-11-28T14:09:13.385089Z",
     "shell.execute_reply": "2024-11-28T14:09:13.383980Z"
    },
    "papermill": {
     "duration": 0.037253,
     "end_time": "2024-11-28T14:09:13.387579",
     "exception": false,
     "start_time": "2024-11-28T14:09:13.350326",
     "status": "completed"
    },
    "tags": []
   },
   "outputs": [],
   "source": [
    "target_cities = [\n",
    "    'Ludhiana', 'Varanasi', 'Visakhapatnam', 'Mumbai', 'Kanpur', 'Ahmedabad', 'Thane',\n",
    "    'Nashik', 'Bangalore', 'Patna', 'Rajkot', 'Jaipur', 'Pune', 'Lucknow', 'Meerut',\n",
    "    'Agra', 'Surat', 'Faridabad', 'Hyderabad', 'Srinagar', 'Ghaziabad', 'Kolkata', 'Chennai',\n",
    "    'Kalyan', 'Nagpur', 'Vadodara', 'Vasai-Virar', 'Delhi', 'Bhopal', 'Indore'\n",
    "] # After cleaning"
   ]
  },
  {
   "cell_type": "code",
   "execution_count": 48,
   "id": "48799a1f",
   "metadata": {
    "execution": {
     "iopub.execute_input": "2024-11-28T14:09:13.442338Z",
     "iopub.status.busy": "2024-11-28T14:09:13.441875Z",
     "iopub.status.idle": "2024-11-28T14:09:13.556473Z",
     "shell.execute_reply": "2024-11-28T14:09:13.555362Z"
    },
    "papermill": {
     "duration": 0.145091,
     "end_time": "2024-11-28T14:09:13.558841",
     "exception": false,
     "start_time": "2024-11-28T14:09:13.413750",
     "status": "completed"
    },
    "tags": []
   },
   "outputs": [
    {
     "data": {
      "text/html": [
       "<div style=\"width:100%;\"><div style=\"position:relative;width:100%;height:0;padding-bottom:60%;\"><span style=\"color:#565656\">Make this Notebook Trusted to load map: File -> Trust Notebook</span><iframe srcdoc=\"&lt;!DOCTYPE html&gt;\n",
       "&lt;html&gt;\n",
       "&lt;head&gt;\n",
       "    \n",
       "    &lt;meta http-equiv=&quot;content-type&quot; content=&quot;text/html; charset=UTF-8&quot; /&gt;\n",
       "    \n",
       "        &lt;script&gt;\n",
       "            L_NO_TOUCH = false;\n",
       "            L_DISABLE_3D = false;\n",
       "        &lt;/script&gt;\n",
       "    \n",
       "    &lt;style&gt;html, body {width: 100%;height: 100%;margin: 0;padding: 0;}&lt;/style&gt;\n",
       "    &lt;style&gt;#map {position:absolute;top:0;bottom:0;right:0;left:0;}&lt;/style&gt;\n",
       "    &lt;script src=&quot;https://cdn.jsdelivr.net/npm/leaflet@1.9.3/dist/leaflet.js&quot;&gt;&lt;/script&gt;\n",
       "    &lt;script src=&quot;https://code.jquery.com/jquery-3.7.1.min.js&quot;&gt;&lt;/script&gt;\n",
       "    &lt;script src=&quot;https://cdn.jsdelivr.net/npm/bootstrap@5.2.2/dist/js/bootstrap.bundle.min.js&quot;&gt;&lt;/script&gt;\n",
       "    &lt;script src=&quot;https://cdnjs.cloudflare.com/ajax/libs/Leaflet.awesome-markers/2.0.2/leaflet.awesome-markers.js&quot;&gt;&lt;/script&gt;\n",
       "    &lt;link rel=&quot;stylesheet&quot; href=&quot;https://cdn.jsdelivr.net/npm/leaflet@1.9.3/dist/leaflet.css&quot;/&gt;\n",
       "    &lt;link rel=&quot;stylesheet&quot; href=&quot;https://cdn.jsdelivr.net/npm/bootstrap@5.2.2/dist/css/bootstrap.min.css&quot;/&gt;\n",
       "    &lt;link rel=&quot;stylesheet&quot; href=&quot;https://netdna.bootstrapcdn.com/bootstrap/3.0.0/css/bootstrap-glyphicons.css&quot;/&gt;\n",
       "    &lt;link rel=&quot;stylesheet&quot; href=&quot;https://cdn.jsdelivr.net/npm/@fortawesome/fontawesome-free@6.2.0/css/all.min.css&quot;/&gt;\n",
       "    &lt;link rel=&quot;stylesheet&quot; href=&quot;https://cdnjs.cloudflare.com/ajax/libs/Leaflet.awesome-markers/2.0.2/leaflet.awesome-markers.css&quot;/&gt;\n",
       "    &lt;link rel=&quot;stylesheet&quot; href=&quot;https://cdn.jsdelivr.net/gh/python-visualization/folium/folium/templates/leaflet.awesome.rotate.min.css&quot;/&gt;\n",
       "    \n",
       "            &lt;meta name=&quot;viewport&quot; content=&quot;width=device-width,\n",
       "                initial-scale=1.0, maximum-scale=1.0, user-scalable=no&quot; /&gt;\n",
       "            &lt;style&gt;\n",
       "                #map_09e71ad15272c309c42dfe7c077de8ea {\n",
       "                    position: relative;\n",
       "                    width: 100.0%;\n",
       "                    height: 100.0%;\n",
       "                    left: 0.0%;\n",
       "                    top: 0.0%;\n",
       "                }\n",
       "                .leaflet-container { font-size: 1rem; }\n",
       "            &lt;/style&gt;\n",
       "        \n",
       "&lt;/head&gt;\n",
       "&lt;body&gt;\n",
       "    \n",
       "    \n",
       "            &lt;div class=&quot;folium-map&quot; id=&quot;map_09e71ad15272c309c42dfe7c077de8ea&quot; &gt;&lt;/div&gt;\n",
       "        \n",
       "&lt;/body&gt;\n",
       "&lt;script&gt;\n",
       "    \n",
       "    \n",
       "            var map_09e71ad15272c309c42dfe7c077de8ea = L.map(\n",
       "                &quot;map_09e71ad15272c309c42dfe7c077de8ea&quot;,\n",
       "                {\n",
       "                    center: [20.5937, 78.9629],\n",
       "                    crs: L.CRS.EPSG3857,\n",
       "                    zoom: 5,\n",
       "                    zoomControl: true,\n",
       "                    preferCanvas: false,\n",
       "                    scrollWheelZoom: false,\n",
       "                    dragging: false,\n",
       "                }\n",
       "            );\n",
       "\n",
       "            \n",
       "\n",
       "        \n",
       "    \n",
       "            var tile_layer_cfdc9ad06a7b657e16caf0ac954fa0ec = L.tileLayer(\n",
       "                &quot;https://tile.openstreetmap.org/{z}/{x}/{y}.png&quot;,\n",
       "                {&quot;attribution&quot;: &quot;\\u0026copy; \\u003ca href=\\&quot;https://www.openstreetmap.org/copyright\\&quot;\\u003eOpenStreetMap\\u003c/a\\u003e contributors&quot;, &quot;detectRetina&quot;: false, &quot;maxNativeZoom&quot;: 19, &quot;maxZoom&quot;: 19, &quot;minZoom&quot;: 0, &quot;noWrap&quot;: false, &quot;opacity&quot;: 1, &quot;subdomains&quot;: &quot;abc&quot;, &quot;tms&quot;: false}\n",
       "            );\n",
       "        \n",
       "    \n",
       "            tile_layer_cfdc9ad06a7b657e16caf0ac954fa0ec.addTo(map_09e71ad15272c309c42dfe7c077de8ea);\n",
       "        \n",
       "    \n",
       "            var marker_620fda3f2caaab2f4a36628ec0b10aa9 = L.marker(\n",
       "                [30.9008, 75.8573],\n",
       "                {}\n",
       "            ).addTo(map_09e71ad15272c309c42dfe7c077de8ea);\n",
       "        \n",
       "    \n",
       "            var icon_f40eb6b2bdeb2456437e48f65ad376b8 = L.AwesomeMarkers.icon(\n",
       "                {&quot;extraClasses&quot;: &quot;fa-rotate-0&quot;, &quot;icon&quot;: &quot;info-sign&quot;, &quot;iconColor&quot;: &quot;white&quot;, &quot;markerColor&quot;: &quot;blue&quot;, &quot;prefix&quot;: &quot;glyphicon&quot;}\n",
       "            );\n",
       "            marker_620fda3f2caaab2f4a36628ec0b10aa9.setIcon(icon_f40eb6b2bdeb2456437e48f65ad376b8);\n",
       "        \n",
       "    \n",
       "        var popup_1499a6de390b4cae3ef15c67f1574624 = L.popup({&quot;maxWidth&quot;: 300});\n",
       "\n",
       "        \n",
       "            \n",
       "                var html_d4a7982096ba83902f5a52e8af567c10 = $(`&lt;div id=&quot;html_d4a7982096ba83902f5a52e8af567c10&quot; style=&quot;width: 100.0%; height: 100.0%;&quot;&gt;         &lt;b&gt;Ludhiana&lt;/b&gt;&lt;br&gt;         Depression Cases: 5226&lt;br&gt;         &lt;/div&gt;`)[0];\n",
       "                popup_1499a6de390b4cae3ef15c67f1574624.setContent(html_d4a7982096ba83902f5a52e8af567c10);\n",
       "            \n",
       "        \n",
       "\n",
       "        marker_620fda3f2caaab2f4a36628ec0b10aa9.bindPopup(popup_1499a6de390b4cae3ef15c67f1574624)\n",
       "        ;\n",
       "\n",
       "        \n",
       "    \n",
       "    \n",
       "            var marker_d960931781847d9faf3160b176b6e539 = L.marker(\n",
       "                [25.3176, 82.9739],\n",
       "                {}\n",
       "            ).addTo(map_09e71ad15272c309c42dfe7c077de8ea);\n",
       "        \n",
       "    \n",
       "            var icon_e55284433550d80467ba660a047b16c4 = L.AwesomeMarkers.icon(\n",
       "                {&quot;extraClasses&quot;: &quot;fa-rotate-0&quot;, &quot;icon&quot;: &quot;info-sign&quot;, &quot;iconColor&quot;: &quot;white&quot;, &quot;markerColor&quot;: &quot;blue&quot;, &quot;prefix&quot;: &quot;glyphicon&quot;}\n",
       "            );\n",
       "            marker_d960931781847d9faf3160b176b6e539.setIcon(icon_e55284433550d80467ba660a047b16c4);\n",
       "        \n",
       "    \n",
       "        var popup_2acdf089e96fe5b8b0998b5270c76861 = L.popup({&quot;maxWidth&quot;: 300});\n",
       "\n",
       "        \n",
       "            \n",
       "                var html_f81cea3deaf637e34320f067f2d97f81 = $(`&lt;div id=&quot;html_f81cea3deaf637e34320f067f2d97f81&quot; style=&quot;width: 100.0%; height: 100.0%;&quot;&gt;         &lt;b&gt;Varanasi&lt;/b&gt;&lt;br&gt;         Depression Cases: 4605&lt;br&gt;         &lt;/div&gt;`)[0];\n",
       "                popup_2acdf089e96fe5b8b0998b5270c76861.setContent(html_f81cea3deaf637e34320f067f2d97f81);\n",
       "            \n",
       "        \n",
       "\n",
       "        marker_d960931781847d9faf3160b176b6e539.bindPopup(popup_2acdf089e96fe5b8b0998b5270c76861)\n",
       "        ;\n",
       "\n",
       "        \n",
       "    \n",
       "    \n",
       "            var marker_2651d015b4ac81c26bf77707b9be5c19 = L.marker(\n",
       "                [17.6869, 83.2185],\n",
       "                {}\n",
       "            ).addTo(map_09e71ad15272c309c42dfe7c077de8ea);\n",
       "        \n",
       "    \n",
       "            var icon_a99d728c319cc69dd297194ad70756d2 = L.AwesomeMarkers.icon(\n",
       "                {&quot;extraClasses&quot;: &quot;fa-rotate-0&quot;, &quot;icon&quot;: &quot;info-sign&quot;, &quot;iconColor&quot;: &quot;white&quot;, &quot;markerColor&quot;: &quot;blue&quot;, &quot;prefix&quot;: &quot;glyphicon&quot;}\n",
       "            );\n",
       "            marker_2651d015b4ac81c26bf77707b9be5c19.setIcon(icon_a99d728c319cc69dd297194ad70756d2);\n",
       "        \n",
       "    \n",
       "        var popup_069cfa59639841540211fc9b7ea460a0 = L.popup({&quot;maxWidth&quot;: 300});\n",
       "\n",
       "        \n",
       "            \n",
       "                var html_b5e5f8d8c8e9dff07912083c1bd7088d = $(`&lt;div id=&quot;html_b5e5f8d8c8e9dff07912083c1bd7088d&quot; style=&quot;width: 100.0%; height: 100.0%;&quot;&gt;         &lt;b&gt;Visakhapatnam&lt;/b&gt;&lt;br&gt;         Depression Cases: 5176&lt;br&gt;         &lt;/div&gt;`)[0];\n",
       "                popup_069cfa59639841540211fc9b7ea460a0.setContent(html_b5e5f8d8c8e9dff07912083c1bd7088d);\n",
       "            \n",
       "        \n",
       "\n",
       "        marker_2651d015b4ac81c26bf77707b9be5c19.bindPopup(popup_069cfa59639841540211fc9b7ea460a0)\n",
       "        ;\n",
       "\n",
       "        \n",
       "    \n",
       "    \n",
       "            var marker_26e8aae8da287d2b1a5c41b1cab644b0 = L.marker(\n",
       "                [19.076, 72.8777],\n",
       "                {}\n",
       "            ).addTo(map_09e71ad15272c309c42dfe7c077de8ea);\n",
       "        \n",
       "    \n",
       "            var icon_ebf8a79573a4e311593250b5ab576030 = L.AwesomeMarkers.icon(\n",
       "                {&quot;extraClasses&quot;: &quot;fa-rotate-0&quot;, &quot;icon&quot;: &quot;info-sign&quot;, &quot;iconColor&quot;: &quot;white&quot;, &quot;markerColor&quot;: &quot;blue&quot;, &quot;prefix&quot;: &quot;glyphicon&quot;}\n",
       "            );\n",
       "            marker_26e8aae8da287d2b1a5c41b1cab644b0.setIcon(icon_ebf8a79573a4e311593250b5ab576030);\n",
       "        \n",
       "    \n",
       "        var popup_011fa15f8d839ce260cba913c7c6879a = L.popup({&quot;maxWidth&quot;: 300});\n",
       "\n",
       "        \n",
       "            \n",
       "                var html_4e45775ddf3d3279618c7d2e7ee91a8d = $(`&lt;div id=&quot;html_4e45775ddf3d3279618c7d2e7ee91a8d&quot; style=&quot;width: 100.0%; height: 100.0%;&quot;&gt;         &lt;b&gt;Mumbai&lt;/b&gt;&lt;br&gt;         Depression Cases: 4965&lt;br&gt;         &lt;/div&gt;`)[0];\n",
       "                popup_011fa15f8d839ce260cba913c7c6879a.setContent(html_4e45775ddf3d3279618c7d2e7ee91a8d);\n",
       "            \n",
       "        \n",
       "\n",
       "        marker_26e8aae8da287d2b1a5c41b1cab644b0.bindPopup(popup_011fa15f8d839ce260cba913c7c6879a)\n",
       "        ;\n",
       "\n",
       "        \n",
       "    \n",
       "    \n",
       "            var marker_4e974848b81e4bb26e64002a281dd11f = L.marker(\n",
       "                [26.4499, 80.3319],\n",
       "                {}\n",
       "            ).addTo(map_09e71ad15272c309c42dfe7c077de8ea);\n",
       "        \n",
       "    \n",
       "            var icon_454468935d812adff2f3143757cc1e1f = L.AwesomeMarkers.icon(\n",
       "                {&quot;extraClasses&quot;: &quot;fa-rotate-0&quot;, &quot;icon&quot;: &quot;info-sign&quot;, &quot;iconColor&quot;: &quot;white&quot;, &quot;markerColor&quot;: &quot;blue&quot;, &quot;prefix&quot;: &quot;glyphicon&quot;}\n",
       "            );\n",
       "            marker_4e974848b81e4bb26e64002a281dd11f.setIcon(icon_454468935d812adff2f3143757cc1e1f);\n",
       "        \n",
       "    \n",
       "        var popup_61beeeb399b66e57b39174582acb30d9 = L.popup({&quot;maxWidth&quot;: 300});\n",
       "\n",
       "        \n",
       "            \n",
       "                var html_543e93a874deb647e0d7a14a4752b763 = $(`&lt;div id=&quot;html_543e93a874deb647e0d7a14a4752b763&quot; style=&quot;width: 100.0%; height: 100.0%;&quot;&gt;         &lt;b&gt;Kanpur&lt;/b&gt;&lt;br&gt;         Depression Cases: 4398&lt;br&gt;         &lt;/div&gt;`)[0];\n",
       "                popup_61beeeb399b66e57b39174582acb30d9.setContent(html_543e93a874deb647e0d7a14a4752b763);\n",
       "            \n",
       "        \n",
       "\n",
       "        marker_4e974848b81e4bb26e64002a281dd11f.bindPopup(popup_61beeeb399b66e57b39174582acb30d9)\n",
       "        ;\n",
       "\n",
       "        \n",
       "    \n",
       "    \n",
       "            var marker_396d0cd5c16f0045e883f96aee64e720 = L.marker(\n",
       "                [23.0225, 72.5714],\n",
       "                {}\n",
       "            ).addTo(map_09e71ad15272c309c42dfe7c077de8ea);\n",
       "        \n",
       "    \n",
       "            var icon_c743c23f73988520e8d1e46782a785a1 = L.AwesomeMarkers.icon(\n",
       "                {&quot;extraClasses&quot;: &quot;fa-rotate-0&quot;, &quot;icon&quot;: &quot;info-sign&quot;, &quot;iconColor&quot;: &quot;white&quot;, &quot;markerColor&quot;: &quot;blue&quot;, &quot;prefix&quot;: &quot;glyphicon&quot;}\n",
       "            );\n",
       "            marker_396d0cd5c16f0045e883f96aee64e720.setIcon(icon_c743c23f73988520e8d1e46782a785a1);\n",
       "        \n",
       "    \n",
       "        var popup_fbd3365cef59f7c6c49018caa6da7559 = L.popup({&quot;maxWidth&quot;: 300});\n",
       "\n",
       "        \n",
       "            \n",
       "                var html_32a9207e2764531d5f814d0e02679d1a = $(`&lt;div id=&quot;html_32a9207e2764531d5f814d0e02679d1a&quot; style=&quot;width: 100.0%; height: 100.0%;&quot;&gt;         &lt;b&gt;Ahmedabad&lt;/b&gt;&lt;br&gt;         Depression Cases: 5612&lt;br&gt;         &lt;/div&gt;`)[0];\n",
       "                popup_fbd3365cef59f7c6c49018caa6da7559.setContent(html_32a9207e2764531d5f814d0e02679d1a);\n",
       "            \n",
       "        \n",
       "\n",
       "        marker_396d0cd5c16f0045e883f96aee64e720.bindPopup(popup_fbd3365cef59f7c6c49018caa6da7559)\n",
       "        ;\n",
       "\n",
       "        \n",
       "    \n",
       "    \n",
       "            var marker_a84fbbedd3e6f2e0d8ce815a16077976 = L.marker(\n",
       "                [19.2183, 72.9785],\n",
       "                {}\n",
       "            ).addTo(map_09e71ad15272c309c42dfe7c077de8ea);\n",
       "        \n",
       "    \n",
       "            var icon_98711e207d7fcd5182faa22ebf642ba9 = L.AwesomeMarkers.icon(\n",
       "                {&quot;extraClasses&quot;: &quot;fa-rotate-0&quot;, &quot;icon&quot;: &quot;info-sign&quot;, &quot;iconColor&quot;: &quot;white&quot;, &quot;markerColor&quot;: &quot;blue&quot;, &quot;prefix&quot;: &quot;glyphicon&quot;}\n",
       "            );\n",
       "            marker_a84fbbedd3e6f2e0d8ce815a16077976.setIcon(icon_98711e207d7fcd5182faa22ebf642ba9);\n",
       "        \n",
       "    \n",
       "        var popup_25c6a9246eeba36b494b29175ae0227d = L.popup({&quot;maxWidth&quot;: 300});\n",
       "\n",
       "        \n",
       "            \n",
       "                var html_dadc3a2c497572a06c17df157fae0521 = $(`&lt;div id=&quot;html_dadc3a2c497572a06c17df157fae0521&quot; style=&quot;width: 100.0%; height: 100.0%;&quot;&gt;         &lt;b&gt;Thane&lt;/b&gt;&lt;br&gt;         Depression Cases: 4289&lt;br&gt;         &lt;/div&gt;`)[0];\n",
       "                popup_25c6a9246eeba36b494b29175ae0227d.setContent(html_dadc3a2c497572a06c17df157fae0521);\n",
       "            \n",
       "        \n",
       "\n",
       "        marker_a84fbbedd3e6f2e0d8ce815a16077976.bindPopup(popup_25c6a9246eeba36b494b29175ae0227d)\n",
       "        ;\n",
       "\n",
       "        \n",
       "    \n",
       "    \n",
       "            var marker_2923497612d71ef9a0fe0a0cbe0d5e1e = L.marker(\n",
       "                [19.9975, 73.7898],\n",
       "                {}\n",
       "            ).addTo(map_09e71ad15272c309c42dfe7c077de8ea);\n",
       "        \n",
       "    \n",
       "            var icon_502662c38a85e9a2d1b8a4fb13bba511 = L.AwesomeMarkers.icon(\n",
       "                {&quot;extraClasses&quot;: &quot;fa-rotate-0&quot;, &quot;icon&quot;: &quot;info-sign&quot;, &quot;iconColor&quot;: &quot;white&quot;, &quot;markerColor&quot;: &quot;blue&quot;, &quot;prefix&quot;: &quot;glyphicon&quot;}\n",
       "            );\n",
       "            marker_2923497612d71ef9a0fe0a0cbe0d5e1e.setIcon(icon_502662c38a85e9a2d1b8a4fb13bba511);\n",
       "        \n",
       "    \n",
       "        var popup_f84e6fcf133f8bcb84ba6bc6eacce2ca = L.popup({&quot;maxWidth&quot;: 300});\n",
       "\n",
       "        \n",
       "            \n",
       "                var html_eec97356549dd3dacbbe38ff0e63a621 = $(`&lt;div id=&quot;html_eec97356549dd3dacbbe38ff0e63a621&quot; style=&quot;width: 100.0%; height: 100.0%;&quot;&gt;         &lt;b&gt;Nashik&lt;/b&gt;&lt;br&gt;         Depression Cases: 3144&lt;br&gt;         &lt;/div&gt;`)[0];\n",
       "                popup_f84e6fcf133f8bcb84ba6bc6eacce2ca.setContent(html_eec97356549dd3dacbbe38ff0e63a621);\n",
       "            \n",
       "        \n",
       "\n",
       "        marker_2923497612d71ef9a0fe0a0cbe0d5e1e.bindPopup(popup_f84e6fcf133f8bcb84ba6bc6eacce2ca)\n",
       "        ;\n",
       "\n",
       "        \n",
       "    \n",
       "    \n",
       "            var marker_9ca40b84c5ca1e15d52b42b63b0283f6 = L.marker(\n",
       "                [12.9716, 77.5946],\n",
       "                {}\n",
       "            ).addTo(map_09e71ad15272c309c42dfe7c077de8ea);\n",
       "        \n",
       "    \n",
       "            var icon_44687d9bc095d20d0b11b31b182865b8 = L.AwesomeMarkers.icon(\n",
       "                {&quot;extraClasses&quot;: &quot;fa-rotate-0&quot;, &quot;icon&quot;: &quot;info-sign&quot;, &quot;iconColor&quot;: &quot;white&quot;, &quot;markerColor&quot;: &quot;blue&quot;, &quot;prefix&quot;: &quot;glyphicon&quot;}\n",
       "            );\n",
       "            marker_9ca40b84c5ca1e15d52b42b63b0283f6.setIcon(icon_44687d9bc095d20d0b11b31b182865b8);\n",
       "        \n",
       "    \n",
       "        var popup_03b4e4597b75120b2501127fd502ee25 = L.popup({&quot;maxWidth&quot;: 300});\n",
       "\n",
       "        \n",
       "            \n",
       "                var html_c21ce287782697af3269155c69579fd1 = $(`&lt;div id=&quot;html_c21ce287782697af3269155c69579fd1&quot; style=&quot;width: 100.0%; height: 100.0%;&quot;&gt;         &lt;b&gt;Bangalore&lt;/b&gt;&lt;br&gt;         Depression Cases: 4123&lt;br&gt;         &lt;/div&gt;`)[0];\n",
       "                popup_03b4e4597b75120b2501127fd502ee25.setContent(html_c21ce287782697af3269155c69579fd1);\n",
       "            \n",
       "        \n",
       "\n",
       "        marker_9ca40b84c5ca1e15d52b42b63b0283f6.bindPopup(popup_03b4e4597b75120b2501127fd502ee25)\n",
       "        ;\n",
       "\n",
       "        \n",
       "    \n",
       "    \n",
       "            var marker_04b78f7757f0c1579bf44b4da537afc1 = L.marker(\n",
       "                [25.5941, 85.1376],\n",
       "                {}\n",
       "            ).addTo(map_09e71ad15272c309c42dfe7c077de8ea);\n",
       "        \n",
       "    \n",
       "            var icon_bb897c058a50fc1f79407f4e478eb1bf = L.AwesomeMarkers.icon(\n",
       "                {&quot;extraClasses&quot;: &quot;fa-rotate-0&quot;, &quot;icon&quot;: &quot;info-sign&quot;, &quot;iconColor&quot;: &quot;white&quot;, &quot;markerColor&quot;: &quot;blue&quot;, &quot;prefix&quot;: &quot;glyphicon&quot;}\n",
       "            );\n",
       "            marker_04b78f7757f0c1579bf44b4da537afc1.setIcon(icon_bb897c058a50fc1f79407f4e478eb1bf);\n",
       "        \n",
       "    \n",
       "        var popup_04c04beb7152c03ff59f70a19ca4750d = L.popup({&quot;maxWidth&quot;: 300});\n",
       "\n",
       "        \n",
       "            \n",
       "                var html_d31b88c407a34803f6a93b6ca73f3d97 = $(`&lt;div id=&quot;html_d31b88c407a34803f6a93b6ca73f3d97&quot; style=&quot;width: 100.0%; height: 100.0%;&quot;&gt;         &lt;b&gt;Patna&lt;/b&gt;&lt;br&gt;         Depression Cases: 5923&lt;br&gt;         &lt;/div&gt;`)[0];\n",
       "                popup_04c04beb7152c03ff59f70a19ca4750d.setContent(html_d31b88c407a34803f6a93b6ca73f3d97);\n",
       "            \n",
       "        \n",
       "\n",
       "        marker_04b78f7757f0c1579bf44b4da537afc1.bindPopup(popup_04c04beb7152c03ff59f70a19ca4750d)\n",
       "        ;\n",
       "\n",
       "        \n",
       "    \n",
       "    \n",
       "            var marker_50f555ae35181139cc8480ee5121dc9c = L.marker(\n",
       "                [22.3039, 70.8022],\n",
       "                {}\n",
       "            ).addTo(map_09e71ad15272c309c42dfe7c077de8ea);\n",
       "        \n",
       "    \n",
       "            var icon_1c4a6f3d5a15c34e2e6d7c794ce7f137 = L.AwesomeMarkers.icon(\n",
       "                {&quot;extraClasses&quot;: &quot;fa-rotate-0&quot;, &quot;icon&quot;: &quot;info-sign&quot;, &quot;iconColor&quot;: &quot;white&quot;, &quot;markerColor&quot;: &quot;blue&quot;, &quot;prefix&quot;: &quot;glyphicon&quot;}\n",
       "            );\n",
       "            marker_50f555ae35181139cc8480ee5121dc9c.setIcon(icon_1c4a6f3d5a15c34e2e6d7c794ce7f137);\n",
       "        \n",
       "    \n",
       "        var popup_e42511c467e1f726ebee3620b5a7915d = L.popup({&quot;maxWidth&quot;: 300});\n",
       "\n",
       "        \n",
       "            \n",
       "                var html_101014b8a0810ae7c2d1bd62249f2121 = $(`&lt;div id=&quot;html_101014b8a0810ae7c2d1bd62249f2121&quot; style=&quot;width: 100.0%; height: 100.0%;&quot;&gt;         &lt;b&gt;Rajkot&lt;/b&gt;&lt;br&gt;         Depression Cases: 5207&lt;br&gt;         &lt;/div&gt;`)[0];\n",
       "                popup_e42511c467e1f726ebee3620b5a7915d.setContent(html_101014b8a0810ae7c2d1bd62249f2121);\n",
       "            \n",
       "        \n",
       "\n",
       "        marker_50f555ae35181139cc8480ee5121dc9c.bindPopup(popup_e42511c467e1f726ebee3620b5a7915d)\n",
       "        ;\n",
       "\n",
       "        \n",
       "    \n",
       "    \n",
       "            var marker_8bdff309e4f455e401bff959bc2d4a96 = L.marker(\n",
       "                [26.9124, 75.7873],\n",
       "                {}\n",
       "            ).addTo(map_09e71ad15272c309c42dfe7c077de8ea);\n",
       "        \n",
       "    \n",
       "            var icon_d53d8c610c0fa208643f1e9733373009 = L.AwesomeMarkers.icon(\n",
       "                {&quot;extraClasses&quot;: &quot;fa-rotate-0&quot;, &quot;icon&quot;: &quot;info-sign&quot;, &quot;iconColor&quot;: &quot;white&quot;, &quot;markerColor&quot;: &quot;blue&quot;, &quot;prefix&quot;: &quot;glyphicon&quot;}\n",
       "            );\n",
       "            marker_8bdff309e4f455e401bff959bc2d4a96.setIcon(icon_d53d8c610c0fa208643f1e9733373009);\n",
       "        \n",
       "    \n",
       "        var popup_45bb29b35370a2606c6b33670a22bf3f = L.popup({&quot;maxWidth&quot;: 300});\n",
       "\n",
       "        \n",
       "            \n",
       "                var html_0be0e9a4c841f1342b8c115d292fca8b = $(`&lt;div id=&quot;html_0be0e9a4c841f1342b8c115d292fca8b&quot; style=&quot;width: 100.0%; height: 100.0%;&quot;&gt;         &lt;b&gt;Jaipur&lt;/b&gt;&lt;br&gt;         Depression Cases: 4327&lt;br&gt;         &lt;/div&gt;`)[0];\n",
       "                popup_45bb29b35370a2606c6b33670a22bf3f.setContent(html_0be0e9a4c841f1342b8c115d292fca8b);\n",
       "            \n",
       "        \n",
       "\n",
       "        marker_8bdff309e4f455e401bff959bc2d4a96.bindPopup(popup_45bb29b35370a2606c6b33670a22bf3f)\n",
       "        ;\n",
       "\n",
       "        \n",
       "    \n",
       "    \n",
       "            var marker_a430a920e5432cbb2dac14f657682b45 = L.marker(\n",
       "                [18.5204, 73.8567],\n",
       "                {}\n",
       "            ).addTo(map_09e71ad15272c309c42dfe7c077de8ea);\n",
       "        \n",
       "    \n",
       "            var icon_138783274777943e9d5d0ff50f8bbf89 = L.AwesomeMarkers.icon(\n",
       "                {&quot;extraClasses&quot;: &quot;fa-rotate-0&quot;, &quot;icon&quot;: &quot;info-sign&quot;, &quot;iconColor&quot;: &quot;white&quot;, &quot;markerColor&quot;: &quot;blue&quot;, &quot;prefix&quot;: &quot;glyphicon&quot;}\n",
       "            );\n",
       "            marker_a430a920e5432cbb2dac14f657682b45.setIcon(icon_138783274777943e9d5d0ff50f8bbf89);\n",
       "        \n",
       "    \n",
       "        var popup_e7bc07e2d3ecb05a47ff9fd206a8d02f = L.popup({&quot;maxWidth&quot;: 300});\n",
       "\n",
       "        \n",
       "            \n",
       "                var html_fc8f45ede4a2bd61e6c341ddc99f2c65 = $(`&lt;div id=&quot;html_fc8f45ede4a2bd61e6c341ddc99f2c65&quot; style=&quot;width: 100.0%; height: 100.0%;&quot;&gt;         &lt;b&gt;Pune&lt;/b&gt;&lt;br&gt;         Depression Cases: 5210&lt;br&gt;         &lt;/div&gt;`)[0];\n",
       "                popup_e7bc07e2d3ecb05a47ff9fd206a8d02f.setContent(html_fc8f45ede4a2bd61e6c341ddc99f2c65);\n",
       "            \n",
       "        \n",
       "\n",
       "        marker_a430a920e5432cbb2dac14f657682b45.bindPopup(popup_e7bc07e2d3ecb05a47ff9fd206a8d02f)\n",
       "        ;\n",
       "\n",
       "        \n",
       "    \n",
       "    \n",
       "            var marker_01005f2b774fb3b818d22912aefa3a84 = L.marker(\n",
       "                [26.8467, 80.9462],\n",
       "                {}\n",
       "            ).addTo(map_09e71ad15272c309c42dfe7c077de8ea);\n",
       "        \n",
       "    \n",
       "            var icon_bab95556338d62cd7f04cf23a39d759c = L.AwesomeMarkers.icon(\n",
       "                {&quot;extraClasses&quot;: &quot;fa-rotate-0&quot;, &quot;icon&quot;: &quot;info-sign&quot;, &quot;iconColor&quot;: &quot;white&quot;, &quot;markerColor&quot;: &quot;blue&quot;, &quot;prefix&quot;: &quot;glyphicon&quot;}\n",
       "            );\n",
       "            marker_01005f2b774fb3b818d22912aefa3a84.setIcon(icon_bab95556338d62cd7f04cf23a39d759c);\n",
       "        \n",
       "    \n",
       "        var popup_41de48fdb6e46b5718dece05a3b295af = L.popup({&quot;maxWidth&quot;: 300});\n",
       "\n",
       "        \n",
       "            \n",
       "                var html_b9d2429407b650a9aa1d377b25e5b4e0 = $(`&lt;div id=&quot;html_b9d2429407b650a9aa1d377b25e5b4e0&quot; style=&quot;width: 100.0%; height: 100.0%;&quot;&gt;         &lt;b&gt;Lucknow&lt;/b&gt;&lt;br&gt;         Depression Cases: 4278&lt;br&gt;         &lt;/div&gt;`)[0];\n",
       "                popup_41de48fdb6e46b5718dece05a3b295af.setContent(html_b9d2429407b650a9aa1d377b25e5b4e0);\n",
       "            \n",
       "        \n",
       "\n",
       "        marker_01005f2b774fb3b818d22912aefa3a84.bindPopup(popup_41de48fdb6e46b5718dece05a3b295af)\n",
       "        ;\n",
       "\n",
       "        \n",
       "    \n",
       "    \n",
       "            var marker_5a7f19f7830d4ca10fc3e1569015fcd1 = L.marker(\n",
       "                [28.9845, 77.704],\n",
       "                {}\n",
       "            ).addTo(map_09e71ad15272c309c42dfe7c077de8ea);\n",
       "        \n",
       "    \n",
       "            var icon_52784d7efbb6f19de145a58777d64d9b = L.AwesomeMarkers.icon(\n",
       "                {&quot;extraClasses&quot;: &quot;fa-rotate-0&quot;, &quot;icon&quot;: &quot;info-sign&quot;, &quot;iconColor&quot;: &quot;white&quot;, &quot;markerColor&quot;: &quot;blue&quot;, &quot;prefix&quot;: &quot;glyphicon&quot;}\n",
       "            );\n",
       "            marker_5a7f19f7830d4ca10fc3e1569015fcd1.setIcon(icon_52784d7efbb6f19de145a58777d64d9b);\n",
       "        \n",
       "    \n",
       "        var popup_2b4caa2d35936e381560d18fac4fa8ef = L.popup({&quot;maxWidth&quot;: 300});\n",
       "\n",
       "        \n",
       "            \n",
       "                var html_574fc6fb8a3b2f3d4db111e8baff87f1 = $(`&lt;div id=&quot;html_574fc6fb8a3b2f3d4db111e8baff87f1&quot; style=&quot;width: 100.0%; height: 100.0%;&quot;&gt;         &lt;b&gt;Meerut&lt;/b&gt;&lt;br&gt;         Depression Cases: 5526&lt;br&gt;         &lt;/div&gt;`)[0];\n",
       "                popup_2b4caa2d35936e381560d18fac4fa8ef.setContent(html_574fc6fb8a3b2f3d4db111e8baff87f1);\n",
       "            \n",
       "        \n",
       "\n",
       "        marker_5a7f19f7830d4ca10fc3e1569015fcd1.bindPopup(popup_2b4caa2d35936e381560d18fac4fa8ef)\n",
       "        ;\n",
       "\n",
       "        \n",
       "    \n",
       "    \n",
       "            var marker_2149a6cd9e1233a57ef4ccc73974c9dd = L.marker(\n",
       "                [27.1767, 78.0081],\n",
       "                {}\n",
       "            ).addTo(map_09e71ad15272c309c42dfe7c077de8ea);\n",
       "        \n",
       "    \n",
       "            var icon_6eefa11b80caf4d2425f877e7dafc71c = L.AwesomeMarkers.icon(\n",
       "                {&quot;extraClasses&quot;: &quot;fa-rotate-0&quot;, &quot;icon&quot;: &quot;info-sign&quot;, &quot;iconColor&quot;: &quot;white&quot;, &quot;markerColor&quot;: &quot;blue&quot;, &quot;prefix&quot;: &quot;glyphicon&quot;}\n",
       "            );\n",
       "            marker_2149a6cd9e1233a57ef4ccc73974c9dd.setIcon(icon_6eefa11b80caf4d2425f877e7dafc71c);\n",
       "        \n",
       "    \n",
       "        var popup_cdfb48cb6fae2b09e62a0fec5a2bce05 = L.popup({&quot;maxWidth&quot;: 300});\n",
       "\n",
       "        \n",
       "            \n",
       "                var html_1f8bf49f47fd9f5e357cb9bac5e6c632 = $(`&lt;div id=&quot;html_1f8bf49f47fd9f5e357cb9bac5e6c632&quot; style=&quot;width: 100.0%; height: 100.0%;&quot;&gt;         &lt;b&gt;Agra&lt;/b&gt;&lt;br&gt;         Depression Cases: 4684&lt;br&gt;         &lt;/div&gt;`)[0];\n",
       "                popup_cdfb48cb6fae2b09e62a0fec5a2bce05.setContent(html_1f8bf49f47fd9f5e357cb9bac5e6c632);\n",
       "            \n",
       "        \n",
       "\n",
       "        marker_2149a6cd9e1233a57ef4ccc73974c9dd.bindPopup(popup_cdfb48cb6fae2b09e62a0fec5a2bce05)\n",
       "        ;\n",
       "\n",
       "        \n",
       "    \n",
       "    \n",
       "            var marker_2442dcb92cc23c1e16d4e98ea8809e45 = L.marker(\n",
       "                [21.1702, 72.8311],\n",
       "                {}\n",
       "            ).addTo(map_09e71ad15272c309c42dfe7c077de8ea);\n",
       "        \n",
       "    \n",
       "            var icon_99ee305efcae40b0601eb581d66ed1e7 = L.AwesomeMarkers.icon(\n",
       "                {&quot;extraClasses&quot;: &quot;fa-rotate-0&quot;, &quot;icon&quot;: &quot;info-sign&quot;, &quot;iconColor&quot;: &quot;white&quot;, &quot;markerColor&quot;: &quot;blue&quot;, &quot;prefix&quot;: &quot;glyphicon&quot;}\n",
       "            );\n",
       "            marker_2442dcb92cc23c1e16d4e98ea8809e45.setIcon(icon_99ee305efcae40b0601eb581d66ed1e7);\n",
       "        \n",
       "    \n",
       "        var popup_a50d30076e64e132606eaf66a8628d0c = L.popup({&quot;maxWidth&quot;: 300});\n",
       "\n",
       "        \n",
       "            \n",
       "                var html_b1ddc20ebc533a9d84f2147f8d3e9527 = $(`&lt;div id=&quot;html_b1ddc20ebc533a9d84f2147f8d3e9527&quot; style=&quot;width: 100.0%; height: 100.0%;&quot;&gt;         &lt;b&gt;Surat&lt;/b&gt;&lt;br&gt;         Depression Cases: 4636&lt;br&gt;         &lt;/div&gt;`)[0];\n",
       "                popup_a50d30076e64e132606eaf66a8628d0c.setContent(html_b1ddc20ebc533a9d84f2147f8d3e9527);\n",
       "            \n",
       "        \n",
       "\n",
       "        marker_2442dcb92cc23c1e16d4e98ea8809e45.bindPopup(popup_a50d30076e64e132606eaf66a8628d0c)\n",
       "        ;\n",
       "\n",
       "        \n",
       "    \n",
       "    \n",
       "            var marker_1091cdd72e27aa05e04b1c8b40820259 = L.marker(\n",
       "                [28.4089, 77.3178],\n",
       "                {}\n",
       "            ).addTo(map_09e71ad15272c309c42dfe7c077de8ea);\n",
       "        \n",
       "    \n",
       "            var icon_1509a59c3c63201a477bb249f3ecdfff = L.AwesomeMarkers.icon(\n",
       "                {&quot;extraClasses&quot;: &quot;fa-rotate-0&quot;, &quot;icon&quot;: &quot;info-sign&quot;, &quot;iconColor&quot;: &quot;white&quot;, &quot;markerColor&quot;: &quot;blue&quot;, &quot;prefix&quot;: &quot;glyphicon&quot;}\n",
       "            );\n",
       "            marker_1091cdd72e27aa05e04b1c8b40820259.setIcon(icon_1509a59c3c63201a477bb249f3ecdfff);\n",
       "        \n",
       "    \n",
       "        var popup_e1eeb5388b907265a9f4bb20d6a15add = L.popup({&quot;maxWidth&quot;: 300});\n",
       "\n",
       "        \n",
       "            \n",
       "                var html_aa5ecdef2b6abe366285434f57abce00 = $(`&lt;div id=&quot;html_aa5ecdef2b6abe366285434f57abce00&quot; style=&quot;width: 100.0%; height: 100.0%;&quot;&gt;         &lt;b&gt;Faridabad&lt;/b&gt;&lt;br&gt;         Depression Cases: 3268&lt;br&gt;         &lt;/div&gt;`)[0];\n",
       "                popup_e1eeb5388b907265a9f4bb20d6a15add.setContent(html_aa5ecdef2b6abe366285434f57abce00);\n",
       "            \n",
       "        \n",
       "\n",
       "        marker_1091cdd72e27aa05e04b1c8b40820259.bindPopup(popup_e1eeb5388b907265a9f4bb20d6a15add)\n",
       "        ;\n",
       "\n",
       "        \n",
       "    \n",
       "    \n",
       "            var marker_0480797e0df9900fe4439a987f21f223 = L.marker(\n",
       "                [17.385, 78.4867],\n",
       "                {}\n",
       "            ).addTo(map_09e71ad15272c309c42dfe7c077de8ea);\n",
       "        \n",
       "    \n",
       "            var icon_67654a7733b01f87e68394da552616e0 = L.AwesomeMarkers.icon(\n",
       "                {&quot;extraClasses&quot;: &quot;fa-rotate-0&quot;, &quot;icon&quot;: &quot;info-sign&quot;, &quot;iconColor&quot;: &quot;white&quot;, &quot;markerColor&quot;: &quot;blue&quot;, &quot;prefix&quot;: &quot;glyphicon&quot;}\n",
       "            );\n",
       "            marker_0480797e0df9900fe4439a987f21f223.setIcon(icon_67654a7733b01f87e68394da552616e0);\n",
       "        \n",
       "    \n",
       "        var popup_ee8491142816f543fccf58c7d700db57 = L.popup({&quot;maxWidth&quot;: 300});\n",
       "\n",
       "        \n",
       "            \n",
       "                var html_330e93004bbcc76a09856dd9a485ef67 = $(`&lt;div id=&quot;html_330e93004bbcc76a09856dd9a485ef67&quot; style=&quot;width: 100.0%; height: 100.0%;&quot;&gt;         &lt;b&gt;Hyderabad&lt;/b&gt;&lt;br&gt;         Depression Cases: 4495&lt;br&gt;         &lt;/div&gt;`)[0];\n",
       "                popup_ee8491142816f543fccf58c7d700db57.setContent(html_330e93004bbcc76a09856dd9a485ef67);\n",
       "            \n",
       "        \n",
       "\n",
       "        marker_0480797e0df9900fe4439a987f21f223.bindPopup(popup_ee8491142816f543fccf58c7d700db57)\n",
       "        ;\n",
       "\n",
       "        \n",
       "    \n",
       "    \n",
       "            var marker_e9021c41e227565ae58fb6993d038ad5 = L.marker(\n",
       "                [34.0836, 74.7973],\n",
       "                {}\n",
       "            ).addTo(map_09e71ad15272c309c42dfe7c077de8ea);\n",
       "        \n",
       "    \n",
       "            var icon_42ab9d1219c2d3ae2ffb80395eed79aa = L.AwesomeMarkers.icon(\n",
       "                {&quot;extraClasses&quot;: &quot;fa-rotate-0&quot;, &quot;icon&quot;: &quot;info-sign&quot;, &quot;iconColor&quot;: &quot;white&quot;, &quot;markerColor&quot;: &quot;blue&quot;, &quot;prefix&quot;: &quot;glyphicon&quot;}\n",
       "            );\n",
       "            marker_e9021c41e227565ae58fb6993d038ad5.setIcon(icon_42ab9d1219c2d3ae2ffb80395eed79aa);\n",
       "        \n",
       "    \n",
       "        var popup_32813bdbeb3eacd73eb09b3eead3820c = L.popup({&quot;maxWidth&quot;: 300});\n",
       "\n",
       "        \n",
       "            \n",
       "                var html_7da48ea5403ca667f1edd816bd9a78f0 = $(`&lt;div id=&quot;html_7da48ea5403ca667f1edd816bd9a78f0&quot; style=&quot;width: 100.0%; height: 100.0%;&quot;&gt;         &lt;b&gt;Srinagar&lt;/b&gt;&lt;br&gt;         Depression Cases: 5071&lt;br&gt;         &lt;/div&gt;`)[0];\n",
       "                popup_32813bdbeb3eacd73eb09b3eead3820c.setContent(html_7da48ea5403ca667f1edd816bd9a78f0);\n",
       "            \n",
       "        \n",
       "\n",
       "        marker_e9021c41e227565ae58fb6993d038ad5.bindPopup(popup_32813bdbeb3eacd73eb09b3eead3820c)\n",
       "        ;\n",
       "\n",
       "        \n",
       "    \n",
       "    \n",
       "            var marker_dcf8e144ac82c648cb4f1c16331805c3 = L.marker(\n",
       "                [28.6139, 77.2916],\n",
       "                {}\n",
       "            ).addTo(map_09e71ad15272c309c42dfe7c077de8ea);\n",
       "        \n",
       "    \n",
       "            var icon_d286e4becfdee75c784f9c34ea1d3599 = L.AwesomeMarkers.icon(\n",
       "                {&quot;extraClasses&quot;: &quot;fa-rotate-0&quot;, &quot;icon&quot;: &quot;info-sign&quot;, &quot;iconColor&quot;: &quot;white&quot;, &quot;markerColor&quot;: &quot;blue&quot;, &quot;prefix&quot;: &quot;glyphicon&quot;}\n",
       "            );\n",
       "            marker_dcf8e144ac82c648cb4f1c16331805c3.setIcon(icon_d286e4becfdee75c784f9c34ea1d3599);\n",
       "        \n",
       "    \n",
       "        var popup_aca74d63d25aa72bc20bd4bf843e1fba = L.popup({&quot;maxWidth&quot;: 300});\n",
       "\n",
       "        \n",
       "            \n",
       "                var html_705a3357227a8ae92c782fc4755807eb = $(`&lt;div id=&quot;html_705a3357227a8ae92c782fc4755807eb&quot; style=&quot;width: 100.0%; height: 100.0%;&quot;&gt;         &lt;b&gt;Ghaziabad&lt;/b&gt;&lt;br&gt;         Depression Cases: 3619&lt;br&gt;         &lt;/div&gt;`)[0];\n",
       "                popup_aca74d63d25aa72bc20bd4bf843e1fba.setContent(html_705a3357227a8ae92c782fc4755807eb);\n",
       "            \n",
       "        \n",
       "\n",
       "        marker_dcf8e144ac82c648cb4f1c16331805c3.bindPopup(popup_aca74d63d25aa72bc20bd4bf843e1fba)\n",
       "        ;\n",
       "\n",
       "        \n",
       "    \n",
       "    \n",
       "            var marker_c5697698c98b39f1cf32cc048d0eecac = L.marker(\n",
       "                [22.5726, 88.3639],\n",
       "                {}\n",
       "            ).addTo(map_09e71ad15272c309c42dfe7c077de8ea);\n",
       "        \n",
       "    \n",
       "            var icon_8b3cd22f07d00653eeb649cdd2332b53 = L.AwesomeMarkers.icon(\n",
       "                {&quot;extraClasses&quot;: &quot;fa-rotate-0&quot;, &quot;icon&quot;: &quot;info-sign&quot;, &quot;iconColor&quot;: &quot;white&quot;, &quot;markerColor&quot;: &quot;blue&quot;, &quot;prefix&quot;: &quot;glyphicon&quot;}\n",
       "            );\n",
       "            marker_c5697698c98b39f1cf32cc048d0eecac.setIcon(icon_8b3cd22f07d00653eeb649cdd2332b53);\n",
       "        \n",
       "    \n",
       "        var popup_ce3a715970acbcfddca3d77d3620f5fe = L.popup({&quot;maxWidth&quot;: 300});\n",
       "\n",
       "        \n",
       "            \n",
       "                var html_ef603ec3b667e64c25d5d54b12a72631 = $(`&lt;div id=&quot;html_ef603ec3b667e64c25d5d54b12a72631&quot; style=&quot;width: 100.0%; height: 100.0%;&quot;&gt;         &lt;b&gt;Kolkata&lt;/b&gt;&lt;br&gt;         Depression Cases: 5688&lt;br&gt;         &lt;/div&gt;`)[0];\n",
       "                popup_ce3a715970acbcfddca3d77d3620f5fe.setContent(html_ef603ec3b667e64c25d5d54b12a72631);\n",
       "            \n",
       "        \n",
       "\n",
       "        marker_c5697698c98b39f1cf32cc048d0eecac.bindPopup(popup_ce3a715970acbcfddca3d77d3620f5fe)\n",
       "        ;\n",
       "\n",
       "        \n",
       "    \n",
       "    \n",
       "            var marker_6f9a20c082d773d83eddc2fabc8e7a63 = L.marker(\n",
       "                [13.0827, 80.2707],\n",
       "                {}\n",
       "            ).addTo(map_09e71ad15272c309c42dfe7c077de8ea);\n",
       "        \n",
       "    \n",
       "            var icon_77b58999e41447cbab4ccd07fd5a6706 = L.AwesomeMarkers.icon(\n",
       "                {&quot;extraClasses&quot;: &quot;fa-rotate-0&quot;, &quot;icon&quot;: &quot;info-sign&quot;, &quot;iconColor&quot;: &quot;white&quot;, &quot;markerColor&quot;: &quot;blue&quot;, &quot;prefix&quot;: &quot;glyphicon&quot;}\n",
       "            );\n",
       "            marker_6f9a20c082d773d83eddc2fabc8e7a63.setIcon(icon_77b58999e41447cbab4ccd07fd5a6706);\n",
       "        \n",
       "    \n",
       "        var popup_291d18448c9e0360f4113f6cd5d6063a = L.popup({&quot;maxWidth&quot;: 300});\n",
       "\n",
       "        \n",
       "            \n",
       "                var html_d0f3a7dc37970ec7fb90c3a1361abc61 = $(`&lt;div id=&quot;html_d0f3a7dc37970ec7fb90c3a1361abc61&quot; style=&quot;width: 100.0%; height: 100.0%;&quot;&gt;         &lt;b&gt;Chennai&lt;/b&gt;&lt;br&gt;         Depression Cases: 4044&lt;br&gt;         &lt;/div&gt;`)[0];\n",
       "                popup_291d18448c9e0360f4113f6cd5d6063a.setContent(html_d0f3a7dc37970ec7fb90c3a1361abc61);\n",
       "            \n",
       "        \n",
       "\n",
       "        marker_6f9a20c082d773d83eddc2fabc8e7a63.bindPopup(popup_291d18448c9e0360f4113f6cd5d6063a)\n",
       "        ;\n",
       "\n",
       "        \n",
       "    \n",
       "    \n",
       "            var marker_7caf49219afd2fece1417535c3030deb = L.marker(\n",
       "                [19.2416, 73.1349],\n",
       "                {}\n",
       "            ).addTo(map_09e71ad15272c309c42dfe7c077de8ea);\n",
       "        \n",
       "    \n",
       "            var icon_6f19e6adeba7beb154ce149d363add36 = L.AwesomeMarkers.icon(\n",
       "                {&quot;extraClasses&quot;: &quot;fa-rotate-0&quot;, &quot;icon&quot;: &quot;info-sign&quot;, &quot;iconColor&quot;: &quot;white&quot;, &quot;markerColor&quot;: &quot;blue&quot;, &quot;prefix&quot;: &quot;glyphicon&quot;}\n",
       "            );\n",
       "            marker_7caf49219afd2fece1417535c3030deb.setIcon(icon_6f19e6adeba7beb154ce149d363add36);\n",
       "        \n",
       "    \n",
       "        var popup_5e3b08f1943997f4df6fe8b48d2607bc = L.popup({&quot;maxWidth&quot;: 300});\n",
       "\n",
       "        \n",
       "            \n",
       "                var html_8754fb5d361c043b9e4041e5a6772db6 = $(`&lt;div id=&quot;html_8754fb5d361c043b9e4041e5a6772db6&quot; style=&quot;width: 100.0%; height: 100.0%;&quot;&gt;         &lt;b&gt;Kalyan&lt;/b&gt;&lt;br&gt;         Depression Cases: 6591&lt;br&gt;         &lt;/div&gt;`)[0];\n",
       "                popup_5e3b08f1943997f4df6fe8b48d2607bc.setContent(html_8754fb5d361c043b9e4041e5a6772db6);\n",
       "            \n",
       "        \n",
       "\n",
       "        marker_7caf49219afd2fece1417535c3030deb.bindPopup(popup_5e3b08f1943997f4df6fe8b48d2607bc)\n",
       "        ;\n",
       "\n",
       "        \n",
       "    \n",
       "    \n",
       "            var marker_9d21110fbf9a098a6945e117b5482a83 = L.marker(\n",
       "                [21.1458, 79.0882],\n",
       "                {}\n",
       "            ).addTo(map_09e71ad15272c309c42dfe7c077de8ea);\n",
       "        \n",
       "    \n",
       "            var icon_d2402f1ebd0c1cf25f4757c13cd4fa95 = L.AwesomeMarkers.icon(\n",
       "                {&quot;extraClasses&quot;: &quot;fa-rotate-0&quot;, &quot;icon&quot;: &quot;info-sign&quot;, &quot;iconColor&quot;: &quot;white&quot;, &quot;markerColor&quot;: &quot;blue&quot;, &quot;prefix&quot;: &quot;glyphicon&quot;}\n",
       "            );\n",
       "            marker_9d21110fbf9a098a6945e117b5482a83.setIcon(icon_d2402f1ebd0c1cf25f4757c13cd4fa95);\n",
       "        \n",
       "    \n",
       "        var popup_187936fe5ca68a0c79a5849cb6fa442b = L.popup({&quot;maxWidth&quot;: 300});\n",
       "\n",
       "        \n",
       "            \n",
       "                var html_899c99a05fb228bf51069974471cea81 = $(`&lt;div id=&quot;html_899c99a05fb228bf51069974471cea81&quot; style=&quot;width: 100.0%; height: 100.0%;&quot;&gt;         &lt;b&gt;Nagpur&lt;/b&gt;&lt;br&gt;         Depression Cases: 4208&lt;br&gt;         &lt;/div&gt;`)[0];\n",
       "                popup_187936fe5ca68a0c79a5849cb6fa442b.setContent(html_899c99a05fb228bf51069974471cea81);\n",
       "            \n",
       "        \n",
       "\n",
       "        marker_9d21110fbf9a098a6945e117b5482a83.bindPopup(popup_187936fe5ca68a0c79a5849cb6fa442b)\n",
       "        ;\n",
       "\n",
       "        \n",
       "    \n",
       "    \n",
       "            var marker_4b9bfa9165ded0f43ec4c5c8cf17ab80 = L.marker(\n",
       "                [22.3072, 73.1812],\n",
       "                {}\n",
       "            ).addTo(map_09e71ad15272c309c42dfe7c077de8ea);\n",
       "        \n",
       "    \n",
       "            var icon_45b4bc86c36d82fcf50e11b32e38cd7a = L.AwesomeMarkers.icon(\n",
       "                {&quot;extraClasses&quot;: &quot;fa-rotate-0&quot;, &quot;icon&quot;: &quot;info-sign&quot;, &quot;iconColor&quot;: &quot;white&quot;, &quot;markerColor&quot;: &quot;blue&quot;, &quot;prefix&quot;: &quot;glyphicon&quot;}\n",
       "            );\n",
       "            marker_4b9bfa9165ded0f43ec4c5c8cf17ab80.setIcon(icon_45b4bc86c36d82fcf50e11b32e38cd7a);\n",
       "        \n",
       "    \n",
       "        var popup_31a4b607f09aaecb04b9cbaf33cb20a6 = L.popup({&quot;maxWidth&quot;: 300});\n",
       "\n",
       "        \n",
       "            \n",
       "                var html_30c7d2c7752d93531bd0aee5aae0e75a = $(`&lt;div id=&quot;html_30c7d2c7752d93531bd0aee5aae0e75a&quot; style=&quot;width: 100.0%; height: 100.0%;&quot;&gt;         &lt;b&gt;Vadodara&lt;/b&gt;&lt;br&gt;         Depression Cases: 4567&lt;br&gt;         &lt;/div&gt;`)[0];\n",
       "                popup_31a4b607f09aaecb04b9cbaf33cb20a6.setContent(html_30c7d2c7752d93531bd0aee5aae0e75a);\n",
       "            \n",
       "        \n",
       "\n",
       "        marker_4b9bfa9165ded0f43ec4c5c8cf17ab80.bindPopup(popup_31a4b607f09aaecb04b9cbaf33cb20a6)\n",
       "        ;\n",
       "\n",
       "        \n",
       "    \n",
       "    \n",
       "            var marker_536d38d5a9d430079bac5ca06bdf4451 = L.marker(\n",
       "                [19.439, 72.8197],\n",
       "                {}\n",
       "            ).addTo(map_09e71ad15272c309c42dfe7c077de8ea);\n",
       "        \n",
       "    \n",
       "            var icon_7605059cd8129233fe66d95b3c4af616 = L.AwesomeMarkers.icon(\n",
       "                {&quot;extraClasses&quot;: &quot;fa-rotate-0&quot;, &quot;icon&quot;: &quot;info-sign&quot;, &quot;iconColor&quot;: &quot;white&quot;, &quot;markerColor&quot;: &quot;blue&quot;, &quot;prefix&quot;: &quot;glyphicon&quot;}\n",
       "            );\n",
       "            marker_536d38d5a9d430079bac5ca06bdf4451.setIcon(icon_7605059cd8129233fe66d95b3c4af616);\n",
       "        \n",
       "    \n",
       "        var popup_cbef3c00ac1b125be0370040214570e0 = L.popup({&quot;maxWidth&quot;: 300});\n",
       "\n",
       "        \n",
       "            \n",
       "                var html_3fc12b912ada3eca6e2e23ebec7104ef = $(`&lt;div id=&quot;html_3fc12b912ada3eca6e2e23ebec7104ef&quot; style=&quot;width: 100.0%; height: 100.0%;&quot;&gt;         &lt;b&gt;Vasai-Virar&lt;/b&gt;&lt;br&gt;         Depression Cases: 5764&lt;br&gt;         &lt;/div&gt;`)[0];\n",
       "                popup_cbef3c00ac1b125be0370040214570e0.setContent(html_3fc12b912ada3eca6e2e23ebec7104ef);\n",
       "            \n",
       "        \n",
       "\n",
       "        marker_536d38d5a9d430079bac5ca06bdf4451.bindPopup(popup_cbef3c00ac1b125be0370040214570e0)\n",
       "        ;\n",
       "\n",
       "        \n",
       "    \n",
       "    \n",
       "            var marker_5865ba3638087292b6e855feaab0a7bf = L.marker(\n",
       "                [28.6139, 77.209],\n",
       "                {}\n",
       "            ).addTo(map_09e71ad15272c309c42dfe7c077de8ea);\n",
       "        \n",
       "    \n",
       "            var icon_7de669af1baf7319f4df042e6c55a711 = L.AwesomeMarkers.icon(\n",
       "                {&quot;extraClasses&quot;: &quot;fa-rotate-0&quot;, &quot;icon&quot;: &quot;info-sign&quot;, &quot;iconColor&quot;: &quot;white&quot;, &quot;markerColor&quot;: &quot;blue&quot;, &quot;prefix&quot;: &quot;glyphicon&quot;}\n",
       "            );\n",
       "            marker_5865ba3638087292b6e855feaab0a7bf.setIcon(icon_7de669af1baf7319f4df042e6c55a711);\n",
       "        \n",
       "    \n",
       "        var popup_b64a78adc291fb3e6891ed2b00eee091 = L.popup({&quot;maxWidth&quot;: 300});\n",
       "\n",
       "        \n",
       "            \n",
       "                var html_6011dfccdfce66c7fd15c7429e744e2b = $(`&lt;div id=&quot;html_6011dfccdfce66c7fd15c7429e744e2b&quot; style=&quot;width: 100.0%; height: 100.0%;&quot;&gt;         &lt;b&gt;Delhi&lt;/b&gt;&lt;br&gt;         Depression Cases: 3593&lt;br&gt;         &lt;/div&gt;`)[0];\n",
       "                popup_b64a78adc291fb3e6891ed2b00eee091.setContent(html_6011dfccdfce66c7fd15c7429e744e2b);\n",
       "            \n",
       "        \n",
       "\n",
       "        marker_5865ba3638087292b6e855feaab0a7bf.bindPopup(popup_b64a78adc291fb3e6891ed2b00eee091)\n",
       "        ;\n",
       "\n",
       "        \n",
       "    \n",
       "    \n",
       "            var marker_cf3f17e5dc764c8ed571afd76ee03925 = L.marker(\n",
       "                [23.2599, 77.4126],\n",
       "                {}\n",
       "            ).addTo(map_09e71ad15272c309c42dfe7c077de8ea);\n",
       "        \n",
       "    \n",
       "            var icon_518a0647c9e63d3e7835876a13aa990e = L.AwesomeMarkers.icon(\n",
       "                {&quot;extraClasses&quot;: &quot;fa-rotate-0&quot;, &quot;icon&quot;: &quot;info-sign&quot;, &quot;iconColor&quot;: &quot;white&quot;, &quot;markerColor&quot;: &quot;blue&quot;, &quot;prefix&quot;: &quot;glyphicon&quot;}\n",
       "            );\n",
       "            marker_cf3f17e5dc764c8ed571afd76ee03925.setIcon(icon_518a0647c9e63d3e7835876a13aa990e);\n",
       "        \n",
       "    \n",
       "        var popup_19c1895f1a682401575c0e75ea201bd2 = L.popup({&quot;maxWidth&quot;: 300});\n",
       "\n",
       "        \n",
       "            \n",
       "                var html_4398ff801d3f66ade1379e2640cdd9e8 = $(`&lt;div id=&quot;html_4398ff801d3f66ade1379e2640cdd9e8&quot; style=&quot;width: 100.0%; height: 100.0%;&quot;&gt;         &lt;b&gt;Bhopal&lt;/b&gt;&lt;br&gt;         Depression Cases: 3474&lt;br&gt;         &lt;/div&gt;`)[0];\n",
       "                popup_19c1895f1a682401575c0e75ea201bd2.setContent(html_4398ff801d3f66ade1379e2640cdd9e8);\n",
       "            \n",
       "        \n",
       "\n",
       "        marker_cf3f17e5dc764c8ed571afd76ee03925.bindPopup(popup_19c1895f1a682401575c0e75ea201bd2)\n",
       "        ;\n",
       "\n",
       "        \n",
       "    \n",
       "    \n",
       "            var marker_6b8e4976c048f96d220a40b9f282202d = L.marker(\n",
       "                [22.7196, 75.8577],\n",
       "                {}\n",
       "            ).addTo(map_09e71ad15272c309c42dfe7c077de8ea);\n",
       "        \n",
       "    \n",
       "            var icon_62ddf79361ee15782ef2f6ac078bc7eb = L.AwesomeMarkers.icon(\n",
       "                {&quot;extraClasses&quot;: &quot;fa-rotate-0&quot;, &quot;icon&quot;: &quot;info-sign&quot;, &quot;iconColor&quot;: &quot;white&quot;, &quot;markerColor&quot;: &quot;blue&quot;, &quot;prefix&quot;: &quot;glyphicon&quot;}\n",
       "            );\n",
       "            marker_6b8e4976c048f96d220a40b9f282202d.setIcon(icon_62ddf79361ee15782ef2f6ac078bc7eb);\n",
       "        \n",
       "    \n",
       "        var popup_c763a845221977880cde092113509447 = L.popup({&quot;maxWidth&quot;: 300});\n",
       "\n",
       "        \n",
       "            \n",
       "                var html_6566cd110cb117398f1b471f6385de31 = $(`&lt;div id=&quot;html_6566cd110cb117398f1b471f6385de31&quot; style=&quot;width: 100.0%; height: 100.0%;&quot;&gt;         &lt;b&gt;Indore&lt;/b&gt;&lt;br&gt;         Depression Cases: 4871&lt;br&gt;         &lt;/div&gt;`)[0];\n",
       "                popup_c763a845221977880cde092113509447.setContent(html_6566cd110cb117398f1b471f6385de31);\n",
       "            \n",
       "        \n",
       "\n",
       "        marker_6b8e4976c048f96d220a40b9f282202d.bindPopup(popup_c763a845221977880cde092113509447)\n",
       "        ;\n",
       "\n",
       "        \n",
       "    \n",
       "&lt;/script&gt;\n",
       "&lt;/html&gt;\" style=\"position:absolute;width:100%;height:100%;left:0;top:0;border:none !important;\" allowfullscreen webkitallowfullscreen mozallowfullscreen></iframe></div></div>"
      ],
      "text/plain": [
       "<folium.folium.Map at 0x7ade6946f040>"
      ]
     },
     "execution_count": 48,
     "metadata": {},
     "output_type": "execute_result"
    }
   ],
   "source": [
    "# Calculate the value counts\n",
    "city_counts = train_data[train_data['City'].isin(target_cities)]['City'].value_counts()\n",
    "\n",
    "# Reindex to ensure all target cities are included\n",
    "city_counts = city_counts.reindex(target_cities)\n",
    "\n",
    "# Create a DataFrame with cities and their counts\n",
    "city_data = pd.DataFrame({\n",
    "    'City': target_cities,\n",
    "    'Depression Count': city_counts.values\n",
    "})\n",
    "\n",
    "# Initialize the map\n",
    "india_map = folium.Map(\n",
    "    location=[20.5937, 78.9629],\n",
    "    zoom_start=5,\n",
    "    scrollWheelZoom=False,\n",
    "    dragging=False\n",
    ")\n",
    "\n",
    "# Coordinates for the cities\n",
    "city_coords = {\n",
    "    'Ludhiana': [30.9008, 75.8573],\n",
    "    'Varanasi': [25.3176, 82.9739],\n",
    "    'Visakhapatnam': [17.6869, 83.2185],\n",
    "    'Mumbai': [19.0760, 72.8777],\n",
    "    'Kanpur': [26.4499, 80.3319],\n",
    "    'Ahmedabad': [23.0225, 72.5714],\n",
    "    'Thane': [19.2183, 72.9785],\n",
    "    'Nashik': [19.9975, 73.7898],\n",
    "    'Bangalore': [12.9716, 77.5946],\n",
    "    'Patna': [25.5941, 85.1376],\n",
    "    'Rajkot': [22.3039, 70.8022],\n",
    "    'Jaipur': [26.9124, 75.7873],\n",
    "    'Pune': [18.5204, 73.8567],\n",
    "    'Lucknow': [26.8467, 80.9462],\n",
    "    'Meerut': [28.9845, 77.7040],\n",
    "    'Agra': [27.1767, 78.0081],\n",
    "    'Surat': [21.1702, 72.8311],\n",
    "    'Faridabad': [28.4089, 77.3178],\n",
    "    'Hyderabad': [17.3850, 78.4867],\n",
    "    'Srinagar': [34.0836, 74.7973],\n",
    "    'Ghaziabad': [28.6139, 77.2916],\n",
    "    'Kolkata': [22.5726, 88.3639],\n",
    "    'Chennai': [13.0827, 80.2707],\n",
    "    'Kalyan': [19.2416, 73.1349],\n",
    "    'Nagpur': [21.1458, 79.0882],\n",
    "    'Vadodara': [22.3072, 73.1812],\n",
    "    'Vasai-Virar': [19.4390, 72.8197],\n",
    "    'Delhi': [28.6139, 77.2090],\n",
    "    'Bhopal': [23.2599, 77.4126],\n",
    "    'Indore': [22.7196, 75.8577]\n",
    "}\n",
    "\n",
    "for i, row in city_data.iterrows():\n",
    "    city = row['City']\n",
    "    lat, lon = city_coords.get(city, [None, None])\n",
    "    if lat and lon:\n",
    "        popup_text = f\"\"\"\n",
    "        <b>{city}</b><br>\n",
    "        Depression Cases: {row['Depression Count']}<br>\n",
    "        \"\"\"\n",
    "        folium.Marker(\n",
    "            location=[lat, lon],\n",
    "            popup=folium.Popup(popup_text, max_width=300),\n",
    "            icon=folium.Icon(color='blue', icon='info-sign')\n",
    "        ).add_to(india_map)\n",
    "\n",
    "india_map"
   ]
  },
  {
   "cell_type": "markdown",
   "id": "6d54ac13",
   "metadata": {
    "papermill": {
     "duration": 0.026921,
     "end_time": "2024-11-28T14:09:13.614017",
     "exception": false,
     "start_time": "2024-11-28T14:09:13.587096",
     "status": "completed"
    },
    "tags": []
   },
   "source": [
    "- Dietary Habits"
   ]
  },
  {
   "cell_type": "code",
   "execution_count": 49,
   "id": "26198cfa",
   "metadata": {
    "execution": {
     "iopub.execute_input": "2024-11-28T14:09:13.669962Z",
     "iopub.status.busy": "2024-11-28T14:09:13.669600Z",
     "iopub.status.idle": "2024-11-28T14:09:13.886882Z",
     "shell.execute_reply": "2024-11-28T14:09:13.885740Z"
    },
    "papermill": {
     "duration": 0.247698,
     "end_time": "2024-11-28T14:09:13.889030",
     "exception": false,
     "start_time": "2024-11-28T14:09:13.641332",
     "status": "completed"
    },
    "tags": []
   },
   "outputs": [
    {
     "data": {
      "image/png": "[encoded data removed]",
      "text/plain": [
       "<Figure size 1000x1000 with 1 Axes>"
      ]
     },
     "metadata": {},
     "output_type": "display_data"
    }
   ],
   "source": [
    "dietary_counts = train_data['Dietary Habits'].value_counts()\n",
    "\n",
    "plt.figure(figsize=(10, 10))\n",
    "plt.pie(\n",
    "    dietary_counts, \n",
    "    labels=dietary_counts.index, \n",
    "    autopct='%1.1f%%', \n",
    "    startangle=140, \n",
    "    colors=plt.cm.Paired.colors\n",
    ")\n",
    "\n",
    "plt.title('Distribution of Dietary Habits')\n",
    "plt.show()"
   ]
  },
  {
   "cell_type": "markdown",
   "id": "7a5e9e41",
   "metadata": {
    "papermill": {
     "duration": 0.028679,
     "end_time": "2024-11-28T14:09:13.947100",
     "exception": false,
     "start_time": "2024-11-28T14:09:13.918421",
     "status": "completed"
    },
    "tags": []
   },
   "source": [
    "- Suicidal Thoughts Distribution"
   ]
  },
  {
   "cell_type": "code",
   "execution_count": 50,
   "id": "fb8b2d12",
   "metadata": {
    "execution": {
     "iopub.execute_input": "2024-11-28T14:09:14.006366Z",
     "iopub.status.busy": "2024-11-28T14:09:14.005958Z",
     "iopub.status.idle": "2024-11-28T14:09:14.025099Z",
     "shell.execute_reply": "2024-11-28T14:09:14.023934Z"
    },
    "papermill": {
     "duration": 0.051617,
     "end_time": "2024-11-28T14:09:14.027284",
     "exception": false,
     "start_time": "2024-11-28T14:09:13.975667",
     "status": "completed"
    },
    "tags": []
   },
   "outputs": [
    {
     "data": {
      "text/plain": [
       "Have you ever had suicidal thoughts ?\n",
       "No     71132\n",
       "Yes    69548\n",
       "Name: count, dtype: int64"
      ]
     },
     "execution_count": 50,
     "metadata": {},
     "output_type": "execute_result"
    }
   ],
   "source": [
    "train_data['Have you ever had suicidal thoughts ?'].value_counts()"
   ]
  },
  {
   "cell_type": "code",
   "execution_count": 51,
   "id": "037dd313",
   "metadata": {
    "execution": {
     "iopub.execute_input": "2024-11-28T14:09:14.087405Z",
     "iopub.status.busy": "2024-11-28T14:09:14.087018Z",
     "iopub.status.idle": "2024-11-28T14:09:14.462438Z",
     "shell.execute_reply": "2024-11-28T14:09:14.460904Z"
    },
    "papermill": {
     "duration": 0.408773,
     "end_time": "2024-11-28T14:09:14.465088",
     "exception": false,
     "start_time": "2024-11-28T14:09:14.056315",
     "status": "completed"
    },
    "tags": []
   },
   "outputs": [
    {
     "data": {
      "image/png": "[encoded data removed]",
      "text/plain": [
       "<Figure size 1600x1000 with 1 Axes>"
      ]
     },
     "metadata": {},
     "output_type": "display_data"
    }
   ],
   "source": [
    "plt.figure(figsize=(16, 10))\n",
    "\n",
    "sns.countplot(data=train_data, x='Have you ever had suicidal thoughts ?', palette='dark', hue='Have you ever had suicidal thoughts ?')\n",
    "plt.title('Suicidal Thoughts Distribution')\n",
    "\n",
    "plt.show()"
   ]
  },
  {
   "cell_type": "markdown",
   "id": "ae5ed02f",
   "metadata": {
    "papermill": {
     "duration": 0.030113,
     "end_time": "2024-11-28T14:09:14.524993",
     "exception": false,
     "start_time": "2024-11-28T14:09:14.494880",
     "status": "completed"
    },
    "tags": []
   },
   "source": [
    "- Financial Stress Distribution"
   ]
  },
  {
   "cell_type": "code",
   "execution_count": 52,
   "id": "e64ae2f3",
   "metadata": {
    "execution": {
     "iopub.execute_input": "2024-11-28T14:09:14.585976Z",
     "iopub.status.busy": "2024-11-28T14:09:14.584980Z",
     "iopub.status.idle": "2024-11-28T14:09:15.045305Z",
     "shell.execute_reply": "2024-11-28T14:09:15.044217Z"
    },
    "papermill": {
     "duration": 0.493361,
     "end_time": "2024-11-28T14:09:15.047796",
     "exception": false,
     "start_time": "2024-11-28T14:09:14.554435",
     "status": "completed"
    },
    "tags": []
   },
   "outputs": [
    {
     "data": {
      "image/png": "[encoded data removed]",
      "text/plain": [
       "<Figure size 1600x1000 with 1 Axes>"
      ]
     },
     "metadata": {},
     "output_type": "display_data"
    }
   ],
   "source": [
    "plt.figure(figsize=(16, 10))\n",
    "sns.countplot(data=train_data, x='Financial Stress', hue= 'Financial Stress', palette='YlOrRd')\n",
    "plt.title('Count of Financial Stress Levels', fontsize=18)\n",
    "plt.xlabel('Financial Stress', fontsize=14)\n",
    "plt.ylabel('Count', fontsize=14)\n",
    "plt.xticks(fontsize=12)\n",
    "plt.yticks(fontsize=12)\n",
    "plt.show()"
   ]
  },
  {
   "cell_type": "markdown",
   "id": "029884de",
   "metadata": {
    "papermill": {
     "duration": 0.030302,
     "end_time": "2024-11-28T14:09:15.108036",
     "exception": false,
     "start_time": "2024-11-28T14:09:15.077734",
     "status": "completed"
    },
    "tags": []
   },
   "source": [
    "#### 3)  Work and Study Analysis"
   ]
  },
  {
   "cell_type": "markdown",
   "id": "4335bfb9",
   "metadata": {
    "papermill": {
     "duration": 0.032564,
     "end_time": "2024-11-28T14:09:15.171192",
     "exception": false,
     "start_time": "2024-11-28T14:09:15.138628",
     "status": "completed"
    },
    "tags": []
   },
   "source": [
    "- Working Professional or Student"
   ]
  },
  {
   "cell_type": "code",
   "execution_count": 53,
   "id": "9c316396",
   "metadata": {
    "execution": {
     "iopub.execute_input": "2024-11-28T14:09:15.234508Z",
     "iopub.status.busy": "2024-11-28T14:09:15.234067Z",
     "iopub.status.idle": "2024-11-28T14:09:15.652428Z",
     "shell.execute_reply": "2024-11-28T14:09:15.651244Z"
    },
    "papermill": {
     "duration": 0.452514,
     "end_time": "2024-11-28T14:09:15.654883",
     "exception": false,
     "start_time": "2024-11-28T14:09:15.202369",
     "status": "completed"
    },
    "tags": []
   },
   "outputs": [
    {
     "data": {
      "image/png": "[encoded data removed]",
      "text/plain": [
       "<Figure size 1200x800 with 1 Axes>"
      ]
     },
     "metadata": {},
     "output_type": "display_data"
    }
   ],
   "source": [
    "plt.figure(figsize=(12, 8))\n",
    "sns.countplot(data=train_data, x='Working Professional or Student', hue='Working Professional or Student', palette='Set1')\n",
    "plt.title('Distribution of Professional Workers vs Students', fontsize=16)\n",
    "plt.ylabel('Count', fontsize=12)\n",
    "\n",
    "\n",
    "plt.show()"
   ]
  },
  {
   "cell_type": "markdown",
   "id": "2c03e44b",
   "metadata": {
    "papermill": {
     "duration": 0.030565,
     "end_time": "2024-11-28T14:09:15.717155",
     "exception": false,
     "start_time": "2024-11-28T14:09:15.686590",
     "status": "completed"
    },
    "tags": []
   },
   "source": [
    "- Work Pressure"
   ]
  },
  {
   "cell_type": "code",
   "execution_count": 54,
   "id": "b4d7b61d",
   "metadata": {
    "execution": {
     "iopub.execute_input": "2024-11-28T14:09:15.780928Z",
     "iopub.status.busy": "2024-11-28T14:09:15.780547Z",
     "iopub.status.idle": "2024-11-28T14:09:16.224999Z",
     "shell.execute_reply": "2024-11-28T14:09:16.223809Z"
    },
    "papermill": {
     "duration": 0.479184,
     "end_time": "2024-11-28T14:09:16.227298",
     "exception": false,
     "start_time": "2024-11-28T14:09:15.748114",
     "status": "completed"
    },
    "tags": []
   },
   "outputs": [
    {
     "data": {
      "image/png": "[encoded data removed]",
      "text/plain": [
       "<Figure size 1600x1000 with 1 Axes>"
      ]
     },
     "metadata": {},
     "output_type": "display_data"
    }
   ],
   "source": [
    "plt.figure(figsize=(16, 10))\n",
    "sns.countplot(data=train_data, x='Work Pressure', hue= 'Work Pressure', palette='RdBu')\n",
    "plt.title('Count of Work Pressure Levels', fontsize=18)\n",
    "plt.xlabel('Work Pressure', fontsize=14)\n",
    "plt.ylabel('Count', fontsize=14)\n",
    "plt.xticks(fontsize=12)\n",
    "plt.yticks(fontsize=12)\n",
    "plt.show()"
   ]
  },
  {
   "cell_type": "markdown",
   "id": "250cc369",
   "metadata": {
    "papermill": {
     "duration": 0.031238,
     "end_time": "2024-11-28T14:09:16.290416",
     "exception": false,
     "start_time": "2024-11-28T14:09:16.259178",
     "status": "completed"
    },
    "tags": []
   },
   "source": [
    "- Sleep Duration Distribution"
   ]
  },
  {
   "cell_type": "code",
   "execution_count": 55,
   "id": "8d4b793a",
   "metadata": {
    "execution": {
     "iopub.execute_input": "2024-11-28T14:09:16.354674Z",
     "iopub.status.busy": "2024-11-28T14:09:16.354271Z",
     "iopub.status.idle": "2024-11-28T14:09:16.370417Z",
     "shell.execute_reply": "2024-11-28T14:09:16.369007Z"
    },
    "papermill": {
     "duration": 0.051199,
     "end_time": "2024-11-28T14:09:16.372808",
     "exception": false,
     "start_time": "2024-11-28T14:09:16.321609",
     "status": "completed"
    },
    "tags": []
   },
   "outputs": [
    {
     "data": {
      "text/plain": [
       "array(['More than 8 hours', 'Less than 5 hours', '5-6 hours', '7-8 hours',\n",
       "       'Sleep_Duration', '1-2 hours', '6-8 hours', '4-6 hours',\n",
       "       '6-7 hours', '10-11 hours', '8-9 hours', '40-45 hours',\n",
       "       '9-11 hours', '2-3 hours', '3-4 hours', 'Moderate', '55-66 hours',\n",
       "       '4-5 hours', '9-6 hours', '1-3 hours', 'Indore', '45', '1-6 hours',\n",
       "       '35-36 hours', '8 hours', 'No', '10-6 hours', 'than 5 hours',\n",
       "       '49 hours', 'Unhealthy', 'Work_Study_Hours', '3-6 hours',\n",
       "       '45-48 hours', '9-5', 'Pune', '9-5 hours'], dtype=object)"
      ]
     },
     "execution_count": 55,
     "metadata": {},
     "output_type": "execute_result"
    }
   ],
   "source": [
    "train_data['Sleep Duration'].unique()"
   ]
  },
  {
   "cell_type": "markdown",
   "id": "398deb35",
   "metadata": {
    "papermill": {
     "duration": 0.031569,
     "end_time": "2024-11-28T14:09:16.435822",
     "exception": false,
     "start_time": "2024-11-28T14:09:16.404253",
     "status": "completed"
    },
    "tags": []
   },
   "source": [
    "**Observations:**\n",
    "<br>\n",
    "- The **Sleep Duration** column contains significant inconsistencies, including:\n",
    "  - Invalid entries like `Pune`, `Indore`, `Moderate`, and `Work_Study_Hours`.\n",
    "  - Overlapping or unclear categories such as `9-6 hours`, `10-6 hours`, and `45`.\n",
    "  - A mix of valid ranges (`5-6 hours`, `7-8 hours`, etc.) and inconsistent formats (e.g., `than 5 hours`, `1-6 hours`).\n",
    "\n",
    "1. **Standardization**:\n",
    "   - Unify similar categories into standard ranges:\n",
    "     - `<5 hours`\n",
    "     - `5-6 hours`\n",
    "     - `6-7 hours`\n",
    "     - `7-8 hours`\n",
    "     - `>8 hours`\n",
    "     <br>\n",
    "     <br>\n",
    "   - Merge overlapping or ambiguous categories into the closest valid range.\n",
    "<br>\n",
    "<br>\n",
    "2. **Dropping Invalid Values**:\n",
    "   - Remove entries that are not relevant to sleep duration."
   ]
  },
  {
   "cell_type": "code",
   "execution_count": 56,
   "id": "0624aedd",
   "metadata": {
    "execution": {
     "iopub.execute_input": "2024-11-28T14:09:16.500495Z",
     "iopub.status.busy": "2024-11-28T14:09:16.500078Z",
     "iopub.status.idle": "2024-11-28T14:09:16.714460Z",
     "shell.execute_reply": "2024-11-28T14:09:16.713456Z"
    },
    "papermill": {
     "duration": 0.249323,
     "end_time": "2024-11-28T14:09:16.716705",
     "exception": false,
     "start_time": "2024-11-28T14:09:16.467382",
     "status": "completed"
    },
    "tags": []
   },
   "outputs": [],
   "source": [
    "import pandas as pd\n",
    "\n",
    "def clean_sleep_duration(df):\n",
    "    valid_categories = ['Less than 5 hours', '5-6 hours', '6-7 hours', '7-8 hours', 'More than 8 hours']\n",
    "    \n",
    "    df['Sleep Duration'] = df['Sleep Duration'].replace({\n",
    "        'Work_Study_Hours': pd.NA,\n",
    "        'Moderate': pd.NA,\n",
    "        'Pune': pd.NA,\n",
    "        'Indore': pd.NA,\n",
    "        'than 5 hours': 'Less than 5 hours',\n",
    "        'Sleep_Duration': pd.NA,\n",
    "        '45': pd.NA,\n",
    "        'No': pd.NA,\n",
    "        '1-6 hours': '5-6 hours',\n",
    "        '4-6 hours': '5-6 hours',\n",
    "        '3-6 hours': '5-6 hours',\n",
    "        '9-6 hours': '7-8 hours',\n",
    "        '10-6 hours': '7-8 hours',\n",
    "        '9-5': '7-8 hours',\n",
    "        '45-48 hours': pd.NA,\n",
    "        '55-66 hours': pd.NA,\n",
    "        '9-5 hours': '7-8 hours',\n",
    "        'Sleep_Duration': pd.NA,\n",
    "        'Unhealthy': pd.NA\n",
    "    })\n",
    "\n",
    "    df['Sleep Duration'] = df['Sleep Duration'].apply(lambda x: 'Less than 5 hours' if 'hours' in str(x) and 'Less' in str(x) else x)\n",
    "    df['Sleep Duration'] = df['Sleep Duration'].apply(lambda x: 'More than 8 hours' if 'hours' in str(x) and 'More' in str(x) else x)\n",
    "\n",
    "    df = df[df['Sleep Duration'].isin(valid_categories)]\n",
    "    \n",
    "    return df\n",
    "\n",
    "train_data = clean_sleep_duration(train_data)"
   ]
  },
  {
   "cell_type": "code",
   "execution_count": 57,
   "id": "4937255d",
   "metadata": {
    "execution": {
     "iopub.execute_input": "2024-11-28T14:09:16.780806Z",
     "iopub.status.busy": "2024-11-28T14:09:16.780421Z",
     "iopub.status.idle": "2024-11-28T14:09:16.799243Z",
     "shell.execute_reply": "2024-11-28T14:09:16.798049Z"
    },
    "papermill": {
     "duration": 0.053835,
     "end_time": "2024-11-28T14:09:16.801711",
     "exception": false,
     "start_time": "2024-11-28T14:09:16.747876",
     "status": "completed"
    },
    "tags": []
   },
   "outputs": [
    {
     "data": {
      "text/plain": [
       "Sleep Duration\n",
       "Less than 5 hours    38776\n",
       "7-8 hours            36966\n",
       "More than 8 hours    32725\n",
       "5-6 hours            32149\n",
       "6-7 hours                8\n",
       "Name: count, dtype: int64"
      ]
     },
     "execution_count": 57,
     "metadata": {},
     "output_type": "execute_result"
    }
   ],
   "source": [
    "train_data['Sleep Duration'].value_counts()"
   ]
  },
  {
   "cell_type": "code",
   "execution_count": 58,
   "id": "200f9550",
   "metadata": {
    "execution": {
     "iopub.execute_input": "2024-11-28T14:09:16.868017Z",
     "iopub.status.busy": "2024-11-28T14:09:16.867605Z",
     "iopub.status.idle": "2024-11-28T14:09:17.050390Z",
     "shell.execute_reply": "2024-11-28T14:09:17.049339Z"
    },
    "papermill": {
     "duration": 0.218787,
     "end_time": "2024-11-28T14:09:17.052952",
     "exception": false,
     "start_time": "2024-11-28T14:09:16.834165",
     "status": "completed"
    },
    "tags": []
   },
   "outputs": [
    {
     "data": {
      "image/png": "[encoded data removed]",
      "text/plain": [
       "<Figure size 800x800 with 1 Axes>"
      ]
     },
     "metadata": {},
     "output_type": "display_data"
    }
   ],
   "source": [
    "plt.figure(figsize=(8, 8))\n",
    "train_data['Sleep Duration'].value_counts().plot.pie(autopct='%1.1f%%', colors=sns.color_palette('pastel'))\n",
    "plt.title('Distribution of Sleep Duration (Cleaned)', fontsize=14)\n",
    "plt.show()"
   ]
  },
  {
   "cell_type": "markdown",
   "id": "6343bd64",
   "metadata": {
    "papermill": {
     "duration": 0.049615,
     "end_time": "2024-11-28T14:09:17.136542",
     "exception": false,
     "start_time": "2024-11-28T14:09:17.086927",
     "status": "completed"
    },
    "tags": []
   },
   "source": [
    "- Work/Study Hours"
   ]
  },
  {
   "cell_type": "code",
   "execution_count": 59,
   "id": "37bc68a4",
   "metadata": {
    "execution": {
     "iopub.execute_input": "2024-11-28T14:09:17.223581Z",
     "iopub.status.busy": "2024-11-28T14:09:17.223194Z",
     "iopub.status.idle": "2024-11-28T14:09:17.234339Z",
     "shell.execute_reply": "2024-11-28T14:09:17.233230Z"
    },
    "papermill": {
     "duration": 0.052178,
     "end_time": "2024-11-28T14:09:17.236465",
     "exception": false,
     "start_time": "2024-11-28T14:09:17.184287",
     "status": "completed"
    },
    "tags": []
   },
   "outputs": [
    {
     "data": {
      "text/plain": [
       "Work/Study Hours\n",
       "10.0    14192\n",
       "11.0    12827\n",
       "9.0     12706\n",
       "0.0     12060\n",
       "12.0    11404\n",
       "2.0     10589\n",
       "6.0     10423\n",
       "7.0      9868\n",
       "1.0      9796\n",
       "3.0      9466\n",
       "5.0      9333\n",
       "4.0      9059\n",
       "8.0      8901\n",
       "Name: count, dtype: int64"
      ]
     },
     "execution_count": 59,
     "metadata": {},
     "output_type": "execute_result"
    }
   ],
   "source": [
    "train_data['Work/Study Hours'].value_counts()"
   ]
  },
  {
   "cell_type": "code",
   "execution_count": 60,
   "id": "c5042ee4",
   "metadata": {
    "execution": {
     "iopub.execute_input": "2024-11-28T14:09:17.303027Z",
     "iopub.status.busy": "2024-11-28T14:09:17.302629Z",
     "iopub.status.idle": "2024-11-28T14:09:18.118340Z",
     "shell.execute_reply": "2024-11-28T14:09:18.117247Z"
    },
    "papermill": {
     "duration": 0.85249,
     "end_time": "2024-11-28T14:09:18.121314",
     "exception": false,
     "start_time": "2024-11-28T14:09:17.268824",
     "status": "completed"
    },
    "tags": []
   },
   "outputs": [
    {
     "data": {
      "image/png": "[encoded data removed]",
      "text/plain": [
       "<Figure size 1600x800 with 1 Axes>"
      ]
     },
     "metadata": {},
     "output_type": "display_data"
    }
   ],
   "source": [
    "plt.figure(figsize=(16, 8))\n",
    "sns.countplot(data = train_data, x= 'Work/Study Hours', hue= 'Work/Study Hours', palette='viridis')\n",
    "plt.show()"
   ]
  },
  {
   "cell_type": "code",
   "execution_count": 61,
   "id": "fa985faa",
   "metadata": {
    "execution": {
     "iopub.execute_input": "2024-11-28T14:09:18.192354Z",
     "iopub.status.busy": "2024-11-28T14:09:18.191040Z",
     "iopub.status.idle": "2024-11-28T14:09:18.211352Z",
     "shell.execute_reply": "2024-11-28T14:09:18.210103Z"
    },
    "papermill": {
     "duration": 0.057475,
     "end_time": "2024-11-28T14:09:18.213739",
     "exception": false,
     "start_time": "2024-11-28T14:09:18.156264",
     "status": "completed"
    },
    "tags": []
   },
   "outputs": [
    {
     "data": {
      "text/plain": [
       "Work/Study Hours Classification\n",
       "Low          41911\n",
       "Very High    38423\n",
       "High         31475\n",
       "Medium       28815\n",
       "Name: count, dtype: int64"
      ]
     },
     "execution_count": 61,
     "metadata": {},
     "output_type": "execute_result"
    }
   ],
   "source": [
    "def classify_work_study_hours(df):\n",
    "    bins = [0, 3, 6, 9, 12]\n",
    "    labels = ['Low', 'Medium', 'High', 'Very High']\n",
    "    \n",
    "    classification = pd.cut(df['Work/Study Hours'], bins=bins, labels=labels, right=True, include_lowest=True)\n",
    "    \n",
    "    return classification\n",
    "\n",
    "\n",
    "train_data['Work/Study Hours Classification'] = classify_work_study_hours(train_data)\n",
    "\n",
    "train_data['Work/Study Hours Classification'].value_counts()"
   ]
  },
  {
   "cell_type": "markdown",
   "id": "991bbd3b",
   "metadata": {
    "papermill": {
     "duration": 0.038445,
     "end_time": "2024-11-28T14:09:18.286660",
     "exception": false,
     "start_time": "2024-11-28T14:09:18.248215",
     "status": "completed"
    },
    "tags": []
   },
   "source": [
    "- Family History of Mental Illness"
   ]
  },
  {
   "cell_type": "code",
   "execution_count": 62,
   "id": "4e506e53",
   "metadata": {
    "execution": {
     "iopub.execute_input": "2024-11-28T14:09:18.356814Z",
     "iopub.status.busy": "2024-11-28T14:09:18.356381Z",
     "iopub.status.idle": "2024-11-28T14:09:18.483964Z",
     "shell.execute_reply": "2024-11-28T14:09:18.482379Z"
    },
    "papermill": {
     "duration": 0.167406,
     "end_time": "2024-11-28T14:09:18.488249",
     "exception": false,
     "start_time": "2024-11-28T14:09:18.320843",
     "status": "completed"
    },
    "tags": []
   },
   "outputs": [
    {
     "data": {
      "image/png": "[encoded data removed]",
      "text/plain": [
       "<Figure size 800x800 with 1 Axes>"
      ]
     },
     "metadata": {},
     "output_type": "display_data"
    }
   ],
   "source": [
    "family_history_counts = train_data['Family History of Mental Illness'].value_counts()\n",
    "\n",
    "plt.figure(figsize=(8, 8))\n",
    "family_history_counts.plot.pie(autopct='%1.1f%%', colors=sns.color_palette('pastel'))\n",
    "plt.title('Distribution of Sleep Duration (Cleaned)', fontsize=14)\n",
    "plt.ylabel('')\n",
    "plt.show()"
   ]
  },
  {
   "cell_type": "markdown",
   "id": "6c9f47e9",
   "metadata": {
    "papermill": {
     "duration": 0.033799,
     "end_time": "2024-11-28T14:09:18.602192",
     "exception": false,
     "start_time": "2024-11-28T14:09:18.568393",
     "status": "completed"
    },
    "tags": []
   },
   "source": [
    "## [6] Modeling"
   ]
  },
  {
   "cell_type": "code",
   "execution_count": 63,
   "id": "43f21d34",
   "metadata": {
    "execution": {
     "iopub.execute_input": "2024-11-28T14:09:18.672248Z",
     "iopub.status.busy": "2024-11-28T14:09:18.671832Z",
     "iopub.status.idle": "2024-11-28T14:09:18.678022Z",
     "shell.execute_reply": "2024-11-28T14:09:18.676250Z"
    },
    "papermill": {
     "duration": 0.04395,
     "end_time": "2024-11-28T14:09:18.680452",
     "exception": false,
     "start_time": "2024-11-28T14:09:18.636502",
     "status": "completed"
    },
    "tags": []
   },
   "outputs": [],
   "source": [
    "features = ['Gender', 'Working Professional or Student', 'Work Pressure', 'Job Satisfaction',\n",
    " 'Sleep Duration', 'Dietary Habits', 'Have you ever had suicidal thoughts ?',\n",
    " 'Financial Stress', 'Family History of Mental Illness', 'Profession Category', 'Work/Study Hours Classification']"
   ]
  },
  {
   "cell_type": "code",
   "execution_count": 64,
   "id": "e9f4081f",
   "metadata": {
    "execution": {
     "iopub.execute_input": "2024-11-28T14:09:18.752004Z",
     "iopub.status.busy": "2024-11-28T14:09:18.751605Z",
     "iopub.status.idle": "2024-11-28T14:09:19.612110Z",
     "shell.execute_reply": "2024-11-28T14:09:19.611201Z"
    },
    "papermill": {
     "duration": 0.899496,
     "end_time": "2024-11-28T14:09:19.614684",
     "exception": false,
     "start_time": "2024-11-28T14:09:18.715188",
     "status": "completed"
    },
    "tags": []
   },
   "outputs": [],
   "source": [
    "from sklearn.model_selection import train_test_split\n",
    "from sklearn.preprocessing import StandardScaler\n",
    "import optuna\n",
    "from catboost import CatBoostClassifier\n",
    "from sklearn.metrics import accuracy_score"
   ]
  },
  {
   "cell_type": "code",
   "execution_count": 65,
   "id": "2c177d0a",
   "metadata": {
    "execution": {
     "iopub.execute_input": "2024-11-28T14:09:19.684206Z",
     "iopub.status.busy": "2024-11-28T14:09:19.683028Z",
     "iopub.status.idle": "2024-11-28T14:09:19.697196Z",
     "shell.execute_reply": "2024-11-28T14:09:19.696125Z"
    },
    "papermill": {
     "duration": 0.051472,
     "end_time": "2024-11-28T14:09:19.699647",
     "exception": false,
     "start_time": "2024-11-28T14:09:19.648175",
     "status": "completed"
    },
    "tags": []
   },
   "outputs": [],
   "source": [
    "X = train_data[features]\n",
    "y = train_data['Depression']"
   ]
  },
  {
   "cell_type": "code",
   "execution_count": 66,
   "id": "e3fd9854",
   "metadata": {
    "execution": {
     "iopub.execute_input": "2024-11-28T14:09:19.769182Z",
     "iopub.status.busy": "2024-11-28T14:09:19.768733Z",
     "iopub.status.idle": "2024-11-28T14:09:19.774026Z",
     "shell.execute_reply": "2024-11-28T14:09:19.772913Z"
    },
    "papermill": {
     "duration": 0.042609,
     "end_time": "2024-11-28T14:09:19.776103",
     "exception": false,
     "start_time": "2024-11-28T14:09:19.733494",
     "status": "completed"
    },
    "tags": []
   },
   "outputs": [],
   "source": [
    "categorical_columns = ['Gender', 'Working Professional or Student',\n",
    " 'Sleep Duration', 'Dietary Habits', 'Have you ever had suicidal thoughts ?',\n",
    " 'Family History of Mental Illness', 'Profession Category', 'Work/Study Hours Classification']\n",
    "\n",
    "numerical_columns = ['Work Pressure', 'Job Satisfaction', 'Financial Stress']"
   ]
  },
  {
   "cell_type": "code",
   "execution_count": 67,
   "id": "aa25db12",
   "metadata": {
    "execution": {
     "iopub.execute_input": "2024-11-28T14:09:19.847048Z",
     "iopub.status.busy": "2024-11-28T14:09:19.846661Z",
     "iopub.status.idle": "2024-11-28T14:09:19.883295Z",
     "shell.execute_reply": "2024-11-28T14:09:19.882053Z"
    },
    "papermill": {
     "duration": 0.075535,
     "end_time": "2024-11-28T14:09:19.885786",
     "exception": false,
     "start_time": "2024-11-28T14:09:19.810251",
     "status": "completed"
    },
    "tags": []
   },
   "outputs": [],
   "source": [
    "X_train, X_test, y_train, y_test = train_test_split(X, y, test_size=0.2, random_state=42)"
   ]
  },
  {
   "cell_type": "code",
   "execution_count": 68,
   "id": "a67729db",
   "metadata": {
    "execution": {
     "iopub.execute_input": "2024-11-28T14:09:19.957081Z",
     "iopub.status.busy": "2024-11-28T14:09:19.956698Z",
     "iopub.status.idle": "2024-11-28T14:09:19.964559Z",
     "shell.execute_reply": "2024-11-28T14:09:19.963242Z"
    },
    "papermill": {
     "duration": 0.04656,
     "end_time": "2024-11-28T14:09:19.966890",
     "exception": false,
     "start_time": "2024-11-28T14:09:19.920330",
     "status": "completed"
    },
    "tags": []
   },
   "outputs": [],
   "source": [
    "def objective_function(trial):\n",
    "    params = {\n",
    "        'iterations': trial.suggest_int('iterations', 100, 1000),\n",
    "        'depth': trial.suggest_int('depth', 1, 6),\n",
    "        'learning_rate': trial.suggest_float('learning_rate', 0.05, 0.3),\n",
    "        'l2_leaf_reg': trial.suggest_float('l2_leaf_reg', 0.1, 15.0, log=True),\n",
    "        'border_count': trial.suggest_int('border_count', 32, 255),\n",
    "        'random_strength': trial.suggest_float('random_strength', 1e-3, 10.0),\n",
    "        'bagging_temperature': trial.suggest_float('bagging_temperature', 0.0, 1.0),\n",
    "        'verbose': 0\n",
    "    }\n",
    "\n",
    "    model = CatBoostClassifier(**params, cat_features=categorical_columns)\n",
    "\n",
    "\n",
    "    model.fit(X_train, y_train)\n",
    "\n",
    "    y_pred = model.predict(X_test)\n",
    "\n",
    "    accuracy = accuracy_score(y_test, y_pred)\n",
    "\n",
    "    return accuracy"
   ]
  },
  {
   "cell_type": "code",
   "execution_count": 69,
   "id": "5042f3fc",
   "metadata": {
    "execution": {
     "iopub.execute_input": "2024-11-28T14:09:20.039919Z",
     "iopub.status.busy": "2024-11-28T14:09:20.039545Z",
     "iopub.status.idle": "2024-11-28T14:31:52.607069Z",
     "shell.execute_reply": "2024-11-28T14:31:52.606025Z"
    },
    "papermill": {
     "duration": 1352.645508,
     "end_time": "2024-11-28T14:31:52.646807",
     "exception": false,
     "start_time": "2024-11-28T14:09:20.001299",
     "status": "completed"
    },
    "tags": []
   },
   "outputs": [
    {
     "name": "stderr",
     "output_type": "stream",
     "text": [
      "[I 2024-11-28 14:09:20,041] A new study created in memory with name: CatBoost_Model\n"
     ]
    },
    {
     "data": {
      "application/vnd.jupyter.widget-view+json": {
       "model_id": "9dac823ea89f46b9be4d9fab4d8f67fa",
       "version_major": 2,
       "version_minor": 0
      },
      "text/plain": [
       "  0%|          | 0/50 [00:00<?, ?it/s]"
      ]
     },
     "metadata": {},
     "output_type": "display_data"
    },
    {
     "name": "stdout",
     "output_type": "stream",
     "text": [
      "[I 2024-11-28 14:09:40,567] Trial 0 finished with value: 0.9112888888888889 and parameters: {'iterations': 771, 'depth': 1, 'learning_rate': 0.2620660605676122, 'l2_leaf_reg': 3.6312899437957955, 'border_count': 254, 'random_strength': 1.092120803993002, 'bagging_temperature': 0.6497515139717422}. Best is trial 0 with value: 0.9112888888888889.\n",
      "[I 2024-11-28 14:09:52,329] Trial 1 finished with value: 0.9128533333333333 and parameters: {'iterations': 291, 'depth': 3, 'learning_rate': 0.15637247067752186, 'l2_leaf_reg': 0.6240518895252996, 'border_count': 225, 'random_strength': 1.1215548425260513, 'bagging_temperature': 0.29543277863464534}. Best is trial 1 with value: 0.9128533333333333.\n",
      "[I 2024-11-28 14:10:11,090] Trial 2 finished with value: 0.9133511111111111 and parameters: {'iterations': 590, 'depth': 2, 'learning_rate': 0.2149085056182778, 'l2_leaf_reg': 2.0436539051302134, 'border_count': 231, 'random_strength': 9.275229171349844, 'bagging_temperature': 0.32935607638594244}. Best is trial 2 with value: 0.9133511111111111.\n",
      "[I 2024-11-28 14:10:52,830] Trial 3 finished with value: 0.9135644444444444 and parameters: {'iterations': 782, 'depth': 5, 'learning_rate': 0.15507436258911622, 'l2_leaf_reg': 1.9653245121769474, 'border_count': 218, 'random_strength': 6.793651752068169, 'bagging_temperature': 0.735761690949105}. Best is trial 3 with value: 0.9135644444444444.\n",
      "[I 2024-11-28 14:11:16,615] Trial 4 finished with value: 0.9109688888888889 and parameters: {'iterations': 912, 'depth': 1, 'learning_rate': 0.14667827176463705, 'l2_leaf_reg': 2.849696260021571, 'border_count': 99, 'random_strength': 5.680733735179283, 'bagging_temperature': 0.8018286821844963}. Best is trial 3 with value: 0.9135644444444444.\n",
      "[I 2024-11-28 14:11:52,711] Trial 5 finished with value: 0.9129955555555556 and parameters: {'iterations': 923, 'depth': 3, 'learning_rate': 0.0776977811447312, 'l2_leaf_reg': 14.939756313731088, 'border_count': 32, 'random_strength': 3.70040000680862, 'bagging_temperature': 0.5493229822264565}. Best is trial 3 with value: 0.9135644444444444.\n",
      "[I 2024-11-28 14:11:56,746] Trial 6 finished with value: 0.9135644444444444 and parameters: {'iterations': 175, 'depth': 6, 'learning_rate': 0.08783848759182915, 'l2_leaf_reg': 0.542188371016569, 'border_count': 193, 'random_strength': 1.723336494788473, 'bagging_temperature': 0.28120349305995085}. Best is trial 3 with value: 0.9135644444444444.\n",
      "[I 2024-11-28 14:12:10,901] Trial 7 finished with value: 0.91104 and parameters: {'iterations': 533, 'depth': 1, 'learning_rate': 0.2273629550498925, 'l2_leaf_reg': 1.7799383499104415, 'border_count': 100, 'random_strength': 7.366561942142518, 'bagging_temperature': 0.7412528307604004}. Best is trial 3 with value: 0.9135644444444444.\n",
      "[I 2024-11-28 14:12:58,132] Trial 8 finished with value: 0.9129244444444444 and parameters: {'iterations': 857, 'depth': 6, 'learning_rate': 0.18408473790675545, 'l2_leaf_reg': 10.719145085639447, 'border_count': 54, 'random_strength': 2.2179287866428643, 'bagging_temperature': 0.3137108762650411}. Best is trial 3 with value: 0.9135644444444444.\n",
      "[I 2024-11-28 14:13:12,876] Trial 9 finished with value: 0.9132444444444444 and parameters: {'iterations': 270, 'depth': 6, 'learning_rate': 0.16970220290186194, 'l2_leaf_reg': 11.169069801951636, 'border_count': 97, 'random_strength': 9.560907030889782, 'bagging_temperature': 0.6468757601177013}. Best is trial 3 with value: 0.9135644444444444.\n",
      "[I 2024-11-28 14:13:47,325] Trial 10 finished with value: 0.91296 and parameters: {'iterations': 654, 'depth': 5, 'learning_rate': 0.2973220230784791, 'l2_leaf_reg': 0.13274951011666525, 'border_count': 174, 'random_strength': 5.97348149502286, 'bagging_temperature': 0.05084373254768959}. Best is trial 3 with value: 0.9135644444444444.\n",
      "[I 2024-11-28 14:14:11,476] Trial 11 finished with value: 0.9130666666666667 and parameters: {'iterations': 444, 'depth': 5, 'learning_rate': 0.08643864973796468, 'l2_leaf_reg': 0.4689509617187171, 'border_count': 180, 'random_strength': 3.6900038971445, 'bagging_temperature': 0.961792181001653}. Best is trial 3 with value: 0.9135644444444444.\n",
      "[I 2024-11-28 14:14:14,335] Trial 12 finished with value: 0.9135644444444444 and parameters: {'iterations': 154, 'depth': 4, 'learning_rate': 0.11352081683181331, 'l2_leaf_reg': 0.45709882106805316, 'border_count': 187, 'random_strength': 7.735911322230281, 'bagging_temperature': 0.011110194011109131}. Best is trial 3 with value: 0.9135644444444444.\n",
      "[I 2024-11-28 14:14:52,364] Trial 13 finished with value: 0.9135644444444444 and parameters: {'iterations': 732, 'depth': 5, 'learning_rate': 0.11226784411222063, 'l2_leaf_reg': 0.17351612195152638, 'border_count': 152, 'random_strength': 3.959180803046348, 'bagging_temperature': 0.46003105612885004}. Best is trial 3 with value: 0.9135644444444444.\n",
      "[I 2024-11-28 14:15:14,611] Trial 14 finished with value: 0.9129244444444444 and parameters: {'iterations': 383, 'depth': 6, 'learning_rate': 0.05093032852064868, 'l2_leaf_reg': 0.946922456270664, 'border_count': 210, 'random_strength': 7.1852256131927845, 'bagging_temperature': 0.1642385552079373}. Best is trial 3 with value: 0.9135644444444444.\n",
      "[I 2024-11-28 14:15:17,295] Trial 15 finished with value: 0.9135288888888888 and parameters: {'iterations': 134, 'depth': 4, 'learning_rate': 0.1235258264008191, 'l2_leaf_reg': 0.2637871098983316, 'border_count': 143, 'random_strength': 0.2809249683247468, 'bagging_temperature': 0.9988134709654194}. Best is trial 3 with value: 0.9135644444444444.\n",
      "[I 2024-11-28 14:16:07,478] Trial 16 finished with value: 0.9135288888888888 and parameters: {'iterations': 979, 'depth': 5, 'learning_rate': 0.19826525670316458, 'l2_leaf_reg': 4.060154593843863, 'border_count': 201, 'random_strength': 2.8062692964502967, 'bagging_temperature': 0.4477495790551956}. Best is trial 3 with value: 0.9135644444444444.\n",
      "[I 2024-11-28 14:16:53,625] Trial 17 finished with value: 0.9135288888888888 and parameters: {'iterations': 795, 'depth': 6, 'learning_rate': 0.054603169145330005, 'l2_leaf_reg': 1.3114012350650355, 'border_count': 255, 'random_strength': 5.292976499091692, 'bagging_temperature': 0.8581391780495728}. Best is trial 3 with value: 0.9135644444444444.\n",
      "[I 2024-11-28 14:17:23,710] Trial 18 finished with value: 0.9135288888888888 and parameters: {'iterations': 657, 'depth': 4, 'learning_rate': 0.13439436955570416, 'l2_leaf_reg': 0.8144303382287946, 'border_count': 141, 'random_strength': 6.5808749988809545, 'bagging_temperature': 0.2247427119219414}. Best is trial 3 with value: 0.9135644444444444.\n",
      "[I 2024-11-28 14:17:48,508] Trial 19 finished with value: 0.9133866666666667 and parameters: {'iterations': 497, 'depth': 5, 'learning_rate': 0.10174578193877316, 'l2_leaf_reg': 5.815014397291309, 'border_count': 164, 'random_strength': 8.275425451492392, 'bagging_temperature': 0.5910064024205139}. Best is trial 3 with value: 0.9135644444444444.\n",
      "[I 2024-11-28 14:18:03,277] Trial 20 finished with value: 0.9134577777777778 and parameters: {'iterations': 250, 'depth': 6, 'learning_rate': 0.07869867841562303, 'l2_leaf_reg': 0.319147678914986, 'border_count': 122, 'random_strength': 4.783871681697805, 'bagging_temperature': 0.39583784052092263}. Best is trial 3 with value: 0.9135644444444444.\n",
      "[I 2024-11-28 14:18:05,235] Trial 21 finished with value: 0.9117866666666666 and parameters: {'iterations': 100, 'depth': 4, 'learning_rate': 0.10130799434637405, 'l2_leaf_reg': 0.3916578672206869, 'border_count': 196, 'random_strength': 8.605174380074121, 'bagging_temperature': 0.006589223322739502}. Best is trial 3 with value: 0.9135644444444444.\n",
      "[I 2024-11-28 14:18:08,184] Trial 22 finished with value: 0.9135288888888888 and parameters: {'iterations': 157, 'depth': 4, 'learning_rate': 0.13979376968093032, 'l2_leaf_reg': 0.21237545530949647, 'border_count': 227, 'random_strength': 8.029833582428159, 'bagging_temperature': 0.1374024226323789}. Best is trial 3 with value: 0.9135644444444444.\n",
      "[I 2024-11-28 14:18:22,766] Trial 23 finished with value: 0.9135288888888888 and parameters: {'iterations': 364, 'depth': 3, 'learning_rate': 0.16231381989590096, 'l2_leaf_reg': 0.5613514879005849, 'border_count': 189, 'random_strength': 6.4850335943906146, 'bagging_temperature': 0.09352706906731968}. Best is trial 3 with value: 0.9135644444444444.\n",
      "[I 2024-11-28 14:18:34,044] Trial 24 finished with value: 0.9135288888888888 and parameters: {'iterations': 211, 'depth': 5, 'learning_rate': 0.12087840817579275, 'l2_leaf_reg': 1.0914797627526376, 'border_count': 212, 'random_strength': 7.4121839527476805, 'bagging_temperature': 0.22592669783004343}. Best is trial 3 with value: 0.9135644444444444.\n",
      "[I 2024-11-28 14:18:50,653] Trial 25 finished with value: 0.9131022222222223 and parameters: {'iterations': 360, 'depth': 4, 'learning_rate': 0.06787677696955095, 'l2_leaf_reg': 1.7907007209239132, 'border_count': 167, 'random_strength': 4.638319942592523, 'bagging_temperature': 0.7435304838274432}. Best is trial 3 with value: 0.9135644444444444.\n",
      "[I 2024-11-28 14:18:54,600] Trial 26 finished with value: 0.9134577777777778 and parameters: {'iterations': 189, 'depth': 5, 'learning_rate': 0.09897806988024364, 'l2_leaf_reg': 0.6620989878806524, 'border_count': 236, 'random_strength': 8.764046544103532, 'bagging_temperature': 0.1827108080318468}. Best is trial 3 with value: 0.9135644444444444.\n",
      "[I 2024-11-28 14:19:13,160] Trial 27 finished with value: 0.9129244444444444 and parameters: {'iterations': 310, 'depth': 6, 'learning_rate': 0.18544636265077147, 'l2_leaf_reg': 0.11470058519326537, 'border_count': 185, 'random_strength': 6.651378757708785, 'bagging_temperature': 0.3872392742971531}. Best is trial 3 with value: 0.9135644444444444.\n",
      "[I 2024-11-28 14:19:34,923] Trial 28 finished with value: 0.9136355555555555 and parameters: {'iterations': 668, 'depth': 2, 'learning_rate': 0.12766518159275758, 'l2_leaf_reg': 1.391176373496509, 'border_count': 210, 'random_strength': 2.7370240942018116, 'bagging_temperature': 0.5207219340961591}. Best is trial 28 with value: 0.9136355555555555.\n",
      "[I 2024-11-28 14:19:58,206] Trial 29 finished with value: 0.9133511111111111 and parameters: {'iterations': 737, 'depth': 2, 'learning_rate': 0.23540336797163847, 'l2_leaf_reg': 4.218021832895462, 'border_count': 239, 'random_strength': 2.1623835828054263, 'bagging_temperature': 0.5273244323233737}. Best is trial 28 with value: 0.9136355555555555.\n",
      "[I 2024-11-28 14:20:19,198] Trial 30 finished with value: 0.9132444444444444 and parameters: {'iterations': 634, 'depth': 2, 'learning_rate': 0.13449839976342554, 'l2_leaf_reg': 2.5646708677367416, 'border_count': 214, 'random_strength': 1.0417637276305844, 'bagging_temperature': 0.6413935963508671}. Best is trial 28 with value: 0.9136355555555555.\n",
      "[I 2024-11-28 14:20:49,709] Trial 31 finished with value: 0.9133155555555555 and parameters: {'iterations': 780, 'depth': 3, 'learning_rate': 0.11790655564050082, 'l2_leaf_reg': 1.2933417525306672, 'border_count': 197, 'random_strength': 2.864930995128189, 'bagging_temperature': 0.7138409141839324}. Best is trial 28 with value: 0.9136355555555555.\n",
      "[I 2024-11-28 14:21:12,509] Trial 32 finished with value: 0.9132444444444444 and parameters: {'iterations': 711, 'depth': 2, 'learning_rate': 0.15260803130952053, 'l2_leaf_reg': 0.7531960446833351, 'border_count': 243, 'random_strength': 1.6468049235284385, 'bagging_temperature': 0.2449695091574738}. Best is trial 28 with value: 0.9136355555555555.\n",
      "[I 2024-11-28 14:21:50,457] Trial 33 finished with value: 0.9127822222222223 and parameters: {'iterations': 840, 'depth': 4, 'learning_rate': 0.09394351156213633, 'l2_leaf_reg': 0.43893310909648453, 'border_count': 217, 'random_strength': 0.09409413656724341, 'bagging_temperature': 0.866150774382119}. Best is trial 28 with value: 0.9136355555555555.\n",
      "[I 2024-11-28 14:22:05,883] Trial 34 finished with value: 0.9112888888888889 and parameters: {'iterations': 586, 'depth': 1, 'learning_rate': 0.1514817128962323, 'l2_leaf_reg': 1.4782567302282426, 'border_count': 157, 'random_strength': 0.9162181193045513, 'bagging_temperature': 0.38829075840313415}. Best is trial 28 with value: 0.9136355555555555.\n",
      "[I 2024-11-28 14:22:24,373] Trial 35 finished with value: 0.9129955555555556 and parameters: {'iterations': 457, 'depth': 3, 'learning_rate': 0.067060383443262, 'l2_leaf_reg': 2.4399380643474613, 'border_count': 223, 'random_strength': 3.189763653948617, 'bagging_temperature': 0.5912203491175246}. Best is trial 28 with value: 0.9136355555555555.\n",
      "[I 2024-11-28 14:23:08,211] Trial 36 finished with value: 0.9136711111111111 and parameters: {'iterations': 848, 'depth': 5, 'learning_rate': 0.12955481174773295, 'l2_leaf_reg': 0.9451712066345445, 'border_count': 203, 'random_strength': 1.716648890696155, 'bagging_temperature': 0.49042869799776034}. Best is trial 36 with value: 0.9136711111111111.\n",
      "[I 2024-11-28 14:24:00,554] Trial 37 finished with value: 0.91136 and parameters: {'iterations': 876, 'depth': 6, 'learning_rate': 0.20717403255377984, 'l2_leaf_reg': 3.1389303575240852, 'border_count': 204, 'random_strength': 1.7989557166670747, 'bagging_temperature': 0.4769178502278644}. Best is trial 36 with value: 0.9136711111111111.\n",
      "[I 2024-11-28 14:24:51,620] Trial 38 finished with value: 0.9131022222222223 and parameters: {'iterations': 977, 'depth': 5, 'learning_rate': 0.17517823125130927, 'l2_leaf_reg': 0.9371558305426706, 'border_count': 249, 'random_strength': 1.436021251865795, 'bagging_temperature': 0.28712968827712837}. Best is trial 36 with value: 0.9136711111111111.\n",
      "[I 2024-11-28 14:25:38,856] Trial 39 finished with value: 0.91328 and parameters: {'iterations': 794, 'depth': 6, 'learning_rate': 0.12817120144497968, 'l2_leaf_reg': 2.0480679631208565, 'border_count': 132, 'random_strength': 0.6227934881686159, 'bagging_temperature': 0.6967680701403607}. Best is trial 36 with value: 0.9136711111111111.\n",
      "[I 2024-11-28 14:26:04,039] Trial 40 finished with value: 0.9111111111111111 and parameters: {'iterations': 926, 'depth': 1, 'learning_rate': 0.14182844810124395, 'l2_leaf_reg': 5.225932044366032, 'border_count': 231, 'random_strength': 2.4746161232427477, 'bagging_temperature': 0.5869243187563409}. Best is trial 36 with value: 0.9136711111111111.\n",
      "[I 2024-11-28 14:26:39,752] Trial 41 finished with value: 0.9134222222222222 and parameters: {'iterations': 690, 'depth': 5, 'learning_rate': 0.11242619696649166, 'l2_leaf_reg': 0.3412697136736143, 'border_count': 176, 'random_strength': 5.822860324827305, 'bagging_temperature': 0.10966134792681523}. Best is trial 36 with value: 0.9136711111111111.\n",
      "[I 2024-11-28 14:27:17,989] Trial 42 finished with value: 0.9137422222222222 and parameters: {'iterations': 851, 'depth': 4, 'learning_rate': 0.15913828904079694, 'l2_leaf_reg': 0.5718358820499203, 'border_count': 189, 'random_strength': 3.28378996233496, 'bagging_temperature': 0.3360727627172444}. Best is trial 42 with value: 0.9137422222222222.\n",
      "[I 2024-11-28 14:28:01,533] Trial 43 finished with value: 0.9135288888888888 and parameters: {'iterations': 827, 'depth': 5, 'learning_rate': 0.16421006566644575, 'l2_leaf_reg': 0.556456451843887, 'border_count': 195, 'random_strength': 4.215895067003468, 'bagging_temperature': 0.34333068631079533}. Best is trial 42 with value: 0.9137422222222222.\n",
      "[I 2024-11-28 14:28:36,385] Trial 44 finished with value: 0.9130311111111111 and parameters: {'iterations': 892, 'depth': 3, 'learning_rate': 0.18632516982459751, 'l2_leaf_reg': 1.623614617909551, 'border_count': 222, 'random_strength': 3.486412999740604, 'bagging_temperature': 0.42410118066034763}. Best is trial 42 with value: 0.9137422222222222.\n",
      "[I 2024-11-28 14:29:03,708] Trial 45 finished with value: 0.9126755555555556 and parameters: {'iterations': 582, 'depth': 4, 'learning_rate': 0.15327997362027446, 'l2_leaf_reg': 1.08019525082519, 'border_count': 176, 'random_strength': 2.242199955580268, 'bagging_temperature': 0.5131537429729969}. Best is trial 42 with value: 0.9137422222222222.\n",
      "[I 2024-11-28 14:30:00,730] Trial 46 finished with value: 0.9127111111111111 and parameters: {'iterations': 927, 'depth': 6, 'learning_rate': 0.17921707730084777, 'l2_leaf_reg': 0.658131273653292, 'border_count': 207, 'random_strength': 3.2176556645671237, 'bagging_temperature': 0.3425783658709809}. Best is trial 42 with value: 0.9137422222222222.\n",
      "[I 2024-11-28 14:30:40,976] Trial 47 finished with value: 0.9132088888888888 and parameters: {'iterations': 758, 'depth': 5, 'learning_rate': 0.08760450071423129, 'l2_leaf_reg': 1.013173408130108, 'border_count': 84, 'random_strength': 1.8710294352896701, 'bagging_temperature': 0.2668796332207508}. Best is trial 42 with value: 0.9137422222222222.\n",
      "[I 2024-11-28 14:31:18,235] Trial 48 finished with value: 0.9134577777777778 and parameters: {'iterations': 821, 'depth': 4, 'learning_rate': 0.2810253500625963, 'l2_leaf_reg': 2.039176081427748, 'border_count': 190, 'random_strength': 1.3117684182168838, 'bagging_temperature': 0.8377832041217353}. Best is trial 42 with value: 0.9137422222222222.\n",
      "[I 2024-11-28 14:31:52,599] Trial 49 finished with value: 0.9135288888888888 and parameters: {'iterations': 646, 'depth': 5, 'learning_rate': 0.1442545007995386, 'l2_leaf_reg': 0.27130629632839093, 'border_count': 168, 'random_strength': 4.116803274563638, 'bagging_temperature': 0.9323961873432111}. Best is trial 42 with value: 0.9137422222222222.\n"
     ]
    }
   ],
   "source": [
    "import warnings\n",
    "\n",
    "# Ignore all warnings\n",
    "warnings.filterwarnings('ignore')\n",
    "\n",
    "study = optuna.create_study(study_name=\"CatBoost_Model\", direction='maximize')\n",
    "study.optimize(objective_function, n_trials=50, show_progress_bar=True)"
   ]
  },
  {
   "cell_type": "code",
   "execution_count": 70,
   "id": "17b66f4f",
   "metadata": {
    "execution": {
     "iopub.execute_input": "2024-11-28T14:31:52.723115Z",
     "iopub.status.busy": "2024-11-28T14:31:52.722735Z",
     "iopub.status.idle": "2024-11-28T14:31:52.728691Z",
     "shell.execute_reply": "2024-11-28T14:31:52.727622Z"
    },
    "papermill": {
     "duration": 0.048013,
     "end_time": "2024-11-28T14:31:52.731599",
     "exception": false,
     "start_time": "2024-11-28T14:31:52.683586",
     "status": "completed"
    },
    "tags": []
   },
   "outputs": [
    {
     "name": "stdout",
     "output_type": "stream",
     "text": [
      "Best parameters:  {'iterations': 851, 'depth': 4, 'learning_rate': 0.15913828904079694, 'l2_leaf_reg': 0.5718358820499203, 'border_count': 189, 'random_strength': 3.28378996233496, 'bagging_temperature': 0.3360727627172444}\n",
      "Best AUC:  0.9137422222222222\n"
     ]
    }
   ],
   "source": [
    "print(\"Best parameters: \", study.best_params)\n",
    "print(\"Best AUC: \", study.best_value)"
   ]
  },
  {
   "cell_type": "code",
   "execution_count": 71,
   "id": "ad6de88d",
   "metadata": {
    "execution": {
     "iopub.execute_input": "2024-11-28T14:31:52.807385Z",
     "iopub.status.busy": "2024-11-28T14:31:52.806968Z",
     "iopub.status.idle": "2024-11-28T14:32:08.665281Z",
     "shell.execute_reply": "2024-11-28T14:32:08.664078Z"
    },
    "papermill": {
     "duration": 15.898831,
     "end_time": "2024-11-28T14:32:08.667494",
     "exception": false,
     "start_time": "2024-11-28T14:31:52.768663",
     "status": "completed"
    },
    "tags": []
   },
   "outputs": [
    {
     "name": "stdout",
     "output_type": "stream",
     "text": [
      "0:\tlearn: 0.4638605\ttotal: 38.5ms\tremaining: 17.7s\n",
      "1:\tlearn: 0.3735509\ttotal: 75.6ms\tremaining: 17.3s\n",
      "2:\tlearn: 0.3345823\ttotal: 109ms\tremaining: 16.6s\n",
      "3:\tlearn: 0.3192531\ttotal: 143ms\tremaining: 16.3s\n",
      "4:\tlearn: 0.3059512\ttotal: 178ms\tremaining: 16.2s\n",
      "5:\tlearn: 0.2994556\ttotal: 211ms\tremaining: 16s\n",
      "6:\tlearn: 0.2865679\ttotal: 244ms\tremaining: 15.8s\n",
      "7:\tlearn: 0.2777663\ttotal: 278ms\tremaining: 15.7s\n",
      "8:\tlearn: 0.2713616\ttotal: 312ms\tremaining: 15.6s\n",
      "9:\tlearn: 0.2668637\ttotal: 347ms\tremaining: 15.6s\n",
      "10:\tlearn: 0.2627342\ttotal: 381ms\tremaining: 15.6s\n",
      "11:\tlearn: 0.2581723\ttotal: 411ms\tremaining: 15.4s\n",
      "12:\tlearn: 0.2545257\ttotal: 442ms\tremaining: 15.2s\n",
      "13:\tlearn: 0.2523576\ttotal: 475ms\tremaining: 15.1s\n",
      "14:\tlearn: 0.2487603\ttotal: 509ms\tremaining: 15.1s\n",
      "15:\tlearn: 0.2459326\ttotal: 541ms\tremaining: 15s\n",
      "16:\tlearn: 0.2434542\ttotal: 575ms\tremaining: 15s\n",
      "17:\tlearn: 0.2412160\ttotal: 612ms\tremaining: 15s\n",
      "18:\tlearn: 0.2393027\ttotal: 642ms\tremaining: 14.9s\n",
      "19:\tlearn: 0.2384481\ttotal: 674ms\tremaining: 14.8s\n",
      "20:\tlearn: 0.2369182\ttotal: 708ms\tremaining: 14.8s\n",
      "21:\tlearn: 0.2361155\ttotal: 743ms\tremaining: 14.8s\n",
      "22:\tlearn: 0.2349800\ttotal: 775ms\tremaining: 14.7s\n",
      "23:\tlearn: 0.2334761\ttotal: 805ms\tremaining: 14.6s\n",
      "24:\tlearn: 0.2321358\ttotal: 839ms\tremaining: 14.6s\n",
      "25:\tlearn: 0.2317064\ttotal: 871ms\tremaining: 14.5s\n",
      "26:\tlearn: 0.2308607\ttotal: 902ms\tremaining: 14.5s\n",
      "27:\tlearn: 0.2300771\ttotal: 937ms\tremaining: 14.4s\n",
      "28:\tlearn: 0.2291059\ttotal: 973ms\tremaining: 14.5s\n",
      "29:\tlearn: 0.2282919\ttotal: 1s\tremaining: 14.4s\n",
      "30:\tlearn: 0.2278899\ttotal: 1.04s\tremaining: 14.4s\n",
      "31:\tlearn: 0.2256560\ttotal: 1.08s\tremaining: 14.4s\n",
      "32:\tlearn: 0.2249502\ttotal: 1.11s\tremaining: 14.4s\n",
      "33:\tlearn: 0.2245848\ttotal: 1.15s\tremaining: 14.4s\n",
      "34:\tlearn: 0.2241931\ttotal: 1.18s\tremaining: 14.3s\n",
      "35:\tlearn: 0.2239608\ttotal: 1.21s\tremaining: 14.3s\n",
      "36:\tlearn: 0.2227383\ttotal: 1.25s\tremaining: 14.2s\n",
      "37:\tlearn: 0.2223933\ttotal: 1.27s\tremaining: 14.2s\n",
      "38:\tlearn: 0.2221155\ttotal: 1.31s\tremaining: 14.1s\n",
      "39:\tlearn: 0.2215164\ttotal: 1.34s\tremaining: 14.1s\n",
      "40:\tlearn: 0.2213447\ttotal: 1.38s\tremaining: 14.1s\n",
      "41:\tlearn: 0.2208361\ttotal: 1.41s\tremaining: 14.1s\n",
      "42:\tlearn: 0.2205890\ttotal: 1.45s\tremaining: 14s\n",
      "43:\tlearn: 0.2202756\ttotal: 1.48s\tremaining: 14s\n",
      "44:\tlearn: 0.2197885\ttotal: 1.51s\tremaining: 13.9s\n",
      "45:\tlearn: 0.2197338\ttotal: 1.54s\tremaining: 13.8s\n",
      "46:\tlearn: 0.2192777\ttotal: 1.57s\tremaining: 13.8s\n",
      "47:\tlearn: 0.2189824\ttotal: 1.6s\tremaining: 13.7s\n",
      "48:\tlearn: 0.2188013\ttotal: 1.63s\tremaining: 13.7s\n",
      "49:\tlearn: 0.2185805\ttotal: 1.66s\tremaining: 13.6s\n",
      "50:\tlearn: 0.2184001\ttotal: 1.69s\tremaining: 13.5s\n",
      "51:\tlearn: 0.2181811\ttotal: 1.71s\tremaining: 13.4s\n",
      "52:\tlearn: 0.2180128\ttotal: 1.75s\tremaining: 13.4s\n",
      "53:\tlearn: 0.2177952\ttotal: 1.78s\tremaining: 13.4s\n",
      "54:\tlearn: 0.2176365\ttotal: 1.81s\tremaining: 13.3s\n",
      "55:\tlearn: 0.2173798\ttotal: 1.84s\tremaining: 13.3s\n",
      "56:\tlearn: 0.2172184\ttotal: 1.88s\tremaining: 13.3s\n",
      "57:\tlearn: 0.2170098\ttotal: 1.91s\tremaining: 13.3s\n",
      "58:\tlearn: 0.2168684\ttotal: 1.94s\tremaining: 13.2s\n",
      "59:\tlearn: 0.2167449\ttotal: 1.97s\tremaining: 13.1s\n",
      "60:\tlearn: 0.2166352\ttotal: 2.01s\tremaining: 13.1s\n",
      "61:\tlearn: 0.2165596\ttotal: 2.04s\tremaining: 13.1s\n",
      "62:\tlearn: 0.2164573\ttotal: 2.07s\tremaining: 13.1s\n",
      "63:\tlearn: 0.2162948\ttotal: 2.11s\tremaining: 13s\n",
      "64:\tlearn: 0.2162038\ttotal: 2.14s\tremaining: 13s\n",
      "65:\tlearn: 0.2161295\ttotal: 2.17s\tremaining: 13s\n",
      "66:\tlearn: 0.2160583\ttotal: 2.2s\tremaining: 12.9s\n",
      "67:\tlearn: 0.2159721\ttotal: 2.23s\tremaining: 12.9s\n",
      "68:\tlearn: 0.2158737\ttotal: 2.26s\tremaining: 12.8s\n",
      "69:\tlearn: 0.2158219\ttotal: 2.29s\tremaining: 12.8s\n",
      "70:\tlearn: 0.2157503\ttotal: 2.32s\tremaining: 12.7s\n",
      "71:\tlearn: 0.2157025\ttotal: 2.35s\tremaining: 12.7s\n",
      "72:\tlearn: 0.2156201\ttotal: 2.38s\tremaining: 12.6s\n",
      "73:\tlearn: 0.2155782\ttotal: 2.42s\tremaining: 12.6s\n",
      "74:\tlearn: 0.2155314\ttotal: 2.44s\tremaining: 12.6s\n",
      "75:\tlearn: 0.2155314\ttotal: 2.48s\tremaining: 12.5s\n",
      "76:\tlearn: 0.2155048\ttotal: 2.51s\tremaining: 12.5s\n",
      "77:\tlearn: 0.2154444\ttotal: 2.54s\tremaining: 12.5s\n",
      "78:\tlearn: 0.2154058\ttotal: 2.57s\tremaining: 12.4s\n",
      "79:\tlearn: 0.2153658\ttotal: 2.6s\tremaining: 12.4s\n",
      "80:\tlearn: 0.2153461\ttotal: 2.63s\tremaining: 12.3s\n",
      "81:\tlearn: 0.2153147\ttotal: 2.66s\tremaining: 12.3s\n",
      "82:\tlearn: 0.2152524\ttotal: 2.69s\tremaining: 12.2s\n",
      "83:\tlearn: 0.2151975\ttotal: 2.72s\tremaining: 12.2s\n",
      "84:\tlearn: 0.2151524\ttotal: 2.75s\tremaining: 12.2s\n",
      "85:\tlearn: 0.2150946\ttotal: 2.79s\tremaining: 12.1s\n",
      "86:\tlearn: 0.2150819\ttotal: 2.82s\tremaining: 12.1s\n",
      "87:\tlearn: 0.2150557\ttotal: 2.85s\tremaining: 12s\n",
      "88:\tlearn: 0.2149076\ttotal: 2.89s\tremaining: 12.1s\n",
      "89:\tlearn: 0.2149061\ttotal: 2.93s\tremaining: 12s\n",
      "90:\tlearn: 0.2148865\ttotal: 2.96s\tremaining: 12s\n",
      "91:\tlearn: 0.2148576\ttotal: 2.99s\tremaining: 12s\n",
      "92:\tlearn: 0.2148488\ttotal: 3.03s\tremaining: 12s\n",
      "93:\tlearn: 0.2148377\ttotal: 3.08s\tremaining: 12s\n",
      "94:\tlearn: 0.2148369\ttotal: 3.14s\tremaining: 12.1s\n",
      "95:\tlearn: 0.2148151\ttotal: 3.18s\tremaining: 12.1s\n",
      "96:\tlearn: 0.2148053\ttotal: 3.23s\tremaining: 12.1s\n",
      "97:\tlearn: 0.2147888\ttotal: 3.28s\tremaining: 12.1s\n",
      "98:\tlearn: 0.2147533\ttotal: 3.32s\tremaining: 12.1s\n",
      "99:\tlearn: 0.2147163\ttotal: 3.37s\tremaining: 12.1s\n",
      "100:\tlearn: 0.2147017\ttotal: 3.43s\tremaining: 12.2s\n",
      "101:\tlearn: 0.2146979\ttotal: 3.48s\tremaining: 12.2s\n",
      "102:\tlearn: 0.2146595\ttotal: 3.52s\tremaining: 12.2s\n",
      "103:\tlearn: 0.2146306\ttotal: 3.56s\tremaining: 12.2s\n",
      "104:\tlearn: 0.2146305\ttotal: 3.62s\tremaining: 12.2s\n",
      "105:\tlearn: 0.2146148\ttotal: 3.66s\tremaining: 12.2s\n",
      "106:\tlearn: 0.2146142\ttotal: 3.72s\tremaining: 12.3s\n",
      "107:\tlearn: 0.2146057\ttotal: 3.76s\tremaining: 12.3s\n",
      "108:\tlearn: 0.2146053\ttotal: 3.81s\tremaining: 12.3s\n",
      "109:\tlearn: 0.2145623\ttotal: 3.87s\tremaining: 12.3s\n",
      "110:\tlearn: 0.2145547\ttotal: 3.92s\tremaining: 12.3s\n",
      "111:\tlearn: 0.2145197\ttotal: 3.97s\tremaining: 12.3s\n",
      "112:\tlearn: 0.2144980\ttotal: 4.02s\tremaining: 12.3s\n",
      "113:\tlearn: 0.2144932\ttotal: 4.08s\tremaining: 12.4s\n",
      "114:\tlearn: 0.2144916\ttotal: 4.16s\tremaining: 12.5s\n",
      "115:\tlearn: 0.2144915\ttotal: 4.21s\tremaining: 12.5s\n",
      "116:\tlearn: 0.2144695\ttotal: 4.25s\tremaining: 12.5s\n",
      "117:\tlearn: 0.2144668\ttotal: 4.3s\tremaining: 12.5s\n",
      "118:\tlearn: 0.2144526\ttotal: 4.34s\tremaining: 12.4s\n",
      "119:\tlearn: 0.2144490\ttotal: 4.38s\tremaining: 12.4s\n",
      "120:\tlearn: 0.2144300\ttotal: 4.44s\tremaining: 12.5s\n",
      "121:\tlearn: 0.2144240\ttotal: 4.49s\tremaining: 12.4s\n",
      "122:\tlearn: 0.2144212\ttotal: 4.54s\tremaining: 12.4s\n",
      "123:\tlearn: 0.2144041\ttotal: 4.58s\tremaining: 12.4s\n",
      "124:\tlearn: 0.2143950\ttotal: 4.62s\tremaining: 12.4s\n",
      "125:\tlearn: 0.2143864\ttotal: 4.67s\tremaining: 12.4s\n",
      "126:\tlearn: 0.2143863\ttotal: 4.71s\tremaining: 12.4s\n",
      "127:\tlearn: 0.2143573\ttotal: 4.76s\tremaining: 12.3s\n",
      "128:\tlearn: 0.2143459\ttotal: 4.81s\tremaining: 12.3s\n",
      "129:\tlearn: 0.2143301\ttotal: 4.86s\tremaining: 12.3s\n",
      "130:\tlearn: 0.2143219\ttotal: 4.9s\tremaining: 12.3s\n",
      "131:\tlearn: 0.2142962\ttotal: 4.94s\tremaining: 12.3s\n",
      "132:\tlearn: 0.2142655\ttotal: 4.99s\tremaining: 12.3s\n",
      "133:\tlearn: 0.2142595\ttotal: 5.04s\tremaining: 12.3s\n",
      "134:\tlearn: 0.2142322\ttotal: 5.08s\tremaining: 12.2s\n",
      "135:\tlearn: 0.2142014\ttotal: 5.12s\tremaining: 12.2s\n",
      "136:\tlearn: 0.2141884\ttotal: 5.16s\tremaining: 12.2s\n",
      "137:\tlearn: 0.2141299\ttotal: 5.22s\tremaining: 12.2s\n",
      "138:\tlearn: 0.2141150\ttotal: 5.27s\tremaining: 12.2s\n",
      "139:\tlearn: 0.2141073\ttotal: 5.32s\tremaining: 12.2s\n",
      "140:\tlearn: 0.2141024\ttotal: 5.37s\tremaining: 12.2s\n",
      "141:\tlearn: 0.2140918\ttotal: 5.41s\tremaining: 12.1s\n",
      "142:\tlearn: 0.2140917\ttotal: 5.44s\tremaining: 12.1s\n",
      "143:\tlearn: 0.2140878\ttotal: 5.48s\tremaining: 12s\n",
      "144:\tlearn: 0.2140853\ttotal: 5.51s\tremaining: 12s\n",
      "145:\tlearn: 0.2140798\ttotal: 5.54s\tremaining: 11.9s\n",
      "146:\tlearn: 0.2140615\ttotal: 5.58s\tremaining: 11.9s\n",
      "147:\tlearn: 0.2140580\ttotal: 5.61s\tremaining: 11.8s\n",
      "148:\tlearn: 0.2140550\ttotal: 5.64s\tremaining: 11.8s\n",
      "149:\tlearn: 0.2140521\ttotal: 5.68s\tremaining: 11.7s\n",
      "150:\tlearn: 0.2140520\ttotal: 5.71s\tremaining: 11.7s\n",
      "151:\tlearn: 0.2140401\ttotal: 5.74s\tremaining: 11.6s\n",
      "152:\tlearn: 0.2140313\ttotal: 5.77s\tremaining: 11.6s\n",
      "153:\tlearn: 0.2140295\ttotal: 5.8s\tremaining: 11.5s\n",
      "154:\tlearn: 0.2140087\ttotal: 5.83s\tremaining: 11.5s\n",
      "155:\tlearn: 0.2140069\ttotal: 5.86s\tremaining: 11.4s\n",
      "156:\tlearn: 0.2140066\ttotal: 5.9s\tremaining: 11.4s\n",
      "157:\tlearn: 0.2139875\ttotal: 5.93s\tremaining: 11.3s\n",
      "158:\tlearn: 0.2139817\ttotal: 5.95s\tremaining: 11.3s\n",
      "159:\tlearn: 0.2139670\ttotal: 5.99s\tremaining: 11.2s\n",
      "160:\tlearn: 0.2139670\ttotal: 6.02s\tremaining: 11.2s\n",
      "161:\tlearn: 0.2139660\ttotal: 6.05s\tremaining: 11.1s\n",
      "162:\tlearn: 0.2139631\ttotal: 6.09s\tremaining: 11.1s\n",
      "163:\tlearn: 0.2139617\ttotal: 6.12s\tremaining: 11s\n",
      "164:\tlearn: 0.2139603\ttotal: 6.15s\tremaining: 11s\n",
      "165:\tlearn: 0.2139557\ttotal: 6.18s\tremaining: 10.9s\n",
      "166:\tlearn: 0.2139520\ttotal: 6.21s\tremaining: 10.9s\n",
      "167:\tlearn: 0.2139409\ttotal: 6.24s\tremaining: 10.8s\n",
      "168:\tlearn: 0.2139204\ttotal: 6.27s\tremaining: 10.8s\n",
      "169:\tlearn: 0.2139154\ttotal: 6.31s\tremaining: 10.8s\n",
      "170:\tlearn: 0.2139064\ttotal: 6.35s\tremaining: 10.7s\n",
      "171:\tlearn: 0.2138743\ttotal: 6.38s\tremaining: 10.7s\n",
      "172:\tlearn: 0.2138648\ttotal: 6.42s\tremaining: 10.6s\n",
      "173:\tlearn: 0.2138528\ttotal: 6.45s\tremaining: 10.6s\n",
      "174:\tlearn: 0.2138500\ttotal: 6.48s\tremaining: 10.6s\n",
      "175:\tlearn: 0.2138500\ttotal: 6.51s\tremaining: 10.5s\n",
      "176:\tlearn: 0.2138453\ttotal: 6.55s\tremaining: 10.5s\n",
      "177:\tlearn: 0.2138430\ttotal: 6.58s\tremaining: 10.4s\n",
      "178:\tlearn: 0.2138426\ttotal: 6.61s\tremaining: 10.4s\n",
      "179:\tlearn: 0.2138358\ttotal: 6.64s\tremaining: 10.3s\n",
      "180:\tlearn: 0.2138222\ttotal: 6.67s\tremaining: 10.3s\n",
      "181:\tlearn: 0.2138166\ttotal: 6.7s\tremaining: 10.2s\n",
      "182:\tlearn: 0.2138125\ttotal: 6.74s\tremaining: 10.2s\n",
      "183:\tlearn: 0.2138112\ttotal: 6.77s\tremaining: 10.2s\n",
      "184:\tlearn: 0.2138081\ttotal: 6.8s\tremaining: 10.1s\n",
      "185:\tlearn: 0.2138061\ttotal: 6.84s\tremaining: 10.1s\n",
      "186:\tlearn: 0.2138042\ttotal: 6.87s\tremaining: 10s\n",
      "187:\tlearn: 0.2137873\ttotal: 6.89s\tremaining: 9.98s\n",
      "188:\tlearn: 0.2137830\ttotal: 6.92s\tremaining: 9.93s\n",
      "189:\tlearn: 0.2137810\ttotal: 6.96s\tremaining: 9.89s\n",
      "190:\tlearn: 0.2137768\ttotal: 7s\tremaining: 9.85s\n",
      "191:\tlearn: 0.2137690\ttotal: 7.03s\tremaining: 9.81s\n",
      "192:\tlearn: 0.2137593\ttotal: 7.06s\tremaining: 9.77s\n",
      "193:\tlearn: 0.2137578\ttotal: 7.09s\tremaining: 9.72s\n",
      "194:\tlearn: 0.2137546\ttotal: 7.13s\tremaining: 9.69s\n",
      "195:\tlearn: 0.2137546\ttotal: 7.16s\tremaining: 9.64s\n",
      "196:\tlearn: 0.2137515\ttotal: 7.19s\tremaining: 9.6s\n",
      "197:\tlearn: 0.2137506\ttotal: 7.23s\tremaining: 9.56s\n",
      "198:\tlearn: 0.2137418\ttotal: 7.25s\tremaining: 9.52s\n",
      "199:\tlearn: 0.2137298\ttotal: 7.28s\tremaining: 9.47s\n",
      "200:\tlearn: 0.2137268\ttotal: 7.31s\tremaining: 9.42s\n",
      "201:\tlearn: 0.2137183\ttotal: 7.34s\tremaining: 9.38s\n",
      "202:\tlearn: 0.2137135\ttotal: 7.37s\tremaining: 9.33s\n",
      "203:\tlearn: 0.2137060\ttotal: 7.4s\tremaining: 9.29s\n",
      "204:\tlearn: 0.2136805\ttotal: 7.43s\tremaining: 9.25s\n",
      "205:\tlearn: 0.2136732\ttotal: 7.47s\tremaining: 9.21s\n",
      "206:\tlearn: 0.2136707\ttotal: 7.51s\tremaining: 9.18s\n",
      "207:\tlearn: 0.2136403\ttotal: 7.54s\tremaining: 9.14s\n",
      "208:\tlearn: 0.2136369\ttotal: 7.57s\tremaining: 9.1s\n",
      "209:\tlearn: 0.2136368\ttotal: 7.6s\tremaining: 9.05s\n",
      "210:\tlearn: 0.2136347\ttotal: 7.64s\tremaining: 9.02s\n",
      "211:\tlearn: 0.2136323\ttotal: 7.67s\tremaining: 8.98s\n",
      "212:\tlearn: 0.2136257\ttotal: 7.71s\tremaining: 8.94s\n",
      "213:\tlearn: 0.2136179\ttotal: 7.73s\tremaining: 8.89s\n",
      "214:\tlearn: 0.2136174\ttotal: 7.77s\tremaining: 8.85s\n",
      "215:\tlearn: 0.2136035\ttotal: 7.8s\tremaining: 8.81s\n",
      "216:\tlearn: 0.2136008\ttotal: 7.83s\tremaining: 8.77s\n",
      "217:\tlearn: 0.2135843\ttotal: 7.86s\tremaining: 8.73s\n",
      "218:\tlearn: 0.2135782\ttotal: 7.9s\tremaining: 8.69s\n",
      "219:\tlearn: 0.2135691\ttotal: 7.92s\tremaining: 8.64s\n",
      "220:\tlearn: 0.2135567\ttotal: 7.95s\tremaining: 8.6s\n",
      "221:\tlearn: 0.2135426\ttotal: 7.98s\tremaining: 8.56s\n",
      "222:\tlearn: 0.2135362\ttotal: 8.02s\tremaining: 8.52s\n",
      "223:\tlearn: 0.2135242\ttotal: 8.05s\tremaining: 8.48s\n",
      "224:\tlearn: 0.2135157\ttotal: 8.08s\tremaining: 8.44s\n",
      "225:\tlearn: 0.2135138\ttotal: 8.11s\tremaining: 8.4s\n",
      "226:\tlearn: 0.2135108\ttotal: 8.14s\tremaining: 8.36s\n",
      "227:\tlearn: 0.2135084\ttotal: 8.18s\tremaining: 8.32s\n",
      "228:\tlearn: 0.2134999\ttotal: 8.21s\tremaining: 8.28s\n",
      "229:\tlearn: 0.2134915\ttotal: 8.24s\tremaining: 8.24s\n",
      "230:\tlearn: 0.2134788\ttotal: 8.27s\tremaining: 8.2s\n",
      "231:\tlearn: 0.2134772\ttotal: 8.3s\tremaining: 8.16s\n",
      "232:\tlearn: 0.2134682\ttotal: 8.34s\tremaining: 8.12s\n",
      "233:\tlearn: 0.2134488\ttotal: 8.37s\tremaining: 8.08s\n",
      "234:\tlearn: 0.2134466\ttotal: 8.39s\tremaining: 8.04s\n",
      "235:\tlearn: 0.2134406\ttotal: 8.43s\tremaining: 8s\n",
      "236:\tlearn: 0.2134390\ttotal: 8.46s\tremaining: 7.96s\n",
      "237:\tlearn: 0.2134269\ttotal: 8.48s\tremaining: 7.91s\n",
      "238:\tlearn: 0.2134257\ttotal: 8.52s\tremaining: 7.88s\n",
      "239:\tlearn: 0.2134134\ttotal: 8.55s\tremaining: 7.84s\n",
      "240:\tlearn: 0.2133979\ttotal: 8.59s\tremaining: 7.8s\n",
      "241:\tlearn: 0.2133951\ttotal: 8.62s\tremaining: 7.76s\n",
      "242:\tlearn: 0.2133776\ttotal: 8.65s\tremaining: 7.72s\n",
      "243:\tlearn: 0.2133448\ttotal: 8.68s\tremaining: 7.68s\n",
      "244:\tlearn: 0.2133334\ttotal: 8.71s\tremaining: 7.64s\n",
      "245:\tlearn: 0.2133322\ttotal: 8.74s\tremaining: 7.6s\n",
      "246:\tlearn: 0.2133308\ttotal: 8.77s\tremaining: 7.56s\n",
      "247:\tlearn: 0.2133301\ttotal: 8.8s\tremaining: 7.52s\n",
      "248:\tlearn: 0.2133288\ttotal: 8.83s\tremaining: 7.49s\n",
      "249:\tlearn: 0.2133266\ttotal: 8.86s\tremaining: 7.45s\n",
      "250:\tlearn: 0.2133225\ttotal: 8.89s\tremaining: 7.4s\n",
      "251:\tlearn: 0.2133212\ttotal: 8.93s\tremaining: 7.37s\n",
      "252:\tlearn: 0.2133145\ttotal: 8.96s\tremaining: 7.33s\n",
      "253:\tlearn: 0.2133118\ttotal: 8.99s\tremaining: 7.29s\n",
      "254:\tlearn: 0.2133088\ttotal: 9.02s\tremaining: 7.25s\n",
      "255:\tlearn: 0.2133075\ttotal: 9.06s\tremaining: 7.22s\n",
      "256:\tlearn: 0.2133059\ttotal: 9.09s\tremaining: 7.18s\n",
      "257:\tlearn: 0.2132997\ttotal: 9.12s\tremaining: 7.14s\n",
      "258:\tlearn: 0.2132947\ttotal: 9.15s\tremaining: 7.1s\n",
      "259:\tlearn: 0.2132927\ttotal: 9.19s\tremaining: 7.07s\n",
      "260:\tlearn: 0.2132897\ttotal: 9.23s\tremaining: 7.04s\n",
      "261:\tlearn: 0.2132775\ttotal: 9.26s\tremaining: 7s\n",
      "262:\tlearn: 0.2132768\ttotal: 9.29s\tremaining: 6.96s\n",
      "263:\tlearn: 0.2132749\ttotal: 9.33s\tremaining: 6.92s\n",
      "264:\tlearn: 0.2132698\ttotal: 9.36s\tremaining: 6.88s\n",
      "265:\tlearn: 0.2132575\ttotal: 9.39s\tremaining: 6.85s\n",
      "266:\tlearn: 0.2132547\ttotal: 9.43s\tremaining: 6.81s\n",
      "267:\tlearn: 0.2132513\ttotal: 9.46s\tremaining: 6.77s\n",
      "268:\tlearn: 0.2132451\ttotal: 9.49s\tremaining: 6.74s\n",
      "269:\tlearn: 0.2132429\ttotal: 9.52s\tremaining: 6.7s\n",
      "270:\tlearn: 0.2132407\ttotal: 9.55s\tremaining: 6.66s\n",
      "271:\tlearn: 0.2132385\ttotal: 9.59s\tremaining: 6.63s\n",
      "272:\tlearn: 0.2132311\ttotal: 9.62s\tremaining: 6.59s\n",
      "273:\tlearn: 0.2132236\ttotal: 9.65s\tremaining: 6.55s\n",
      "274:\tlearn: 0.2132225\ttotal: 9.68s\tremaining: 6.51s\n",
      "275:\tlearn: 0.2132210\ttotal: 9.72s\tremaining: 6.48s\n",
      "276:\tlearn: 0.2132154\ttotal: 9.75s\tremaining: 6.44s\n",
      "277:\tlearn: 0.2132122\ttotal: 9.77s\tremaining: 6.4s\n",
      "278:\tlearn: 0.2132099\ttotal: 9.81s\tremaining: 6.36s\n",
      "279:\tlearn: 0.2132067\ttotal: 9.84s\tremaining: 6.33s\n",
      "280:\tlearn: 0.2131970\ttotal: 9.87s\tremaining: 6.29s\n",
      "281:\tlearn: 0.2131792\ttotal: 9.9s\tremaining: 6.25s\n",
      "282:\tlearn: 0.2131767\ttotal: 9.94s\tremaining: 6.21s\n",
      "283:\tlearn: 0.2131743\ttotal: 9.97s\tremaining: 6.18s\n",
      "284:\tlearn: 0.2131738\ttotal: 10s\tremaining: 6.14s\n",
      "285:\tlearn: 0.2131470\ttotal: 10s\tremaining: 6.1s\n",
      "286:\tlearn: 0.2131438\ttotal: 10.1s\tremaining: 6.06s\n",
      "287:\tlearn: 0.2131419\ttotal: 10.1s\tremaining: 6.03s\n",
      "288:\tlearn: 0.2131353\ttotal: 10.1s\tremaining: 5.99s\n",
      "289:\tlearn: 0.2131350\ttotal: 10.2s\tremaining: 5.96s\n",
      "290:\tlearn: 0.2131315\ttotal: 10.2s\tremaining: 5.92s\n",
      "291:\tlearn: 0.2131216\ttotal: 10.2s\tremaining: 5.88s\n",
      "292:\tlearn: 0.2131210\ttotal: 10.3s\tremaining: 5.84s\n",
      "293:\tlearn: 0.2131173\ttotal: 10.3s\tremaining: 5.81s\n",
      "294:\tlearn: 0.2131165\ttotal: 10.3s\tremaining: 5.77s\n",
      "295:\tlearn: 0.2131145\ttotal: 10.4s\tremaining: 5.74s\n",
      "296:\tlearn: 0.2131127\ttotal: 10.4s\tremaining: 5.7s\n",
      "297:\tlearn: 0.2131073\ttotal: 10.4s\tremaining: 5.66s\n",
      "298:\tlearn: 0.2131032\ttotal: 10.4s\tremaining: 5.62s\n",
      "299:\tlearn: 0.2130997\ttotal: 10.5s\tremaining: 5.59s\n",
      "300:\tlearn: 0.2130871\ttotal: 10.5s\tremaining: 5.55s\n",
      "301:\tlearn: 0.2130827\ttotal: 10.5s\tremaining: 5.51s\n",
      "302:\tlearn: 0.2130792\ttotal: 10.6s\tremaining: 5.48s\n",
      "303:\tlearn: 0.2130779\ttotal: 10.6s\tremaining: 5.44s\n",
      "304:\tlearn: 0.2130770\ttotal: 10.6s\tremaining: 5.41s\n",
      "305:\tlearn: 0.2130770\ttotal: 10.7s\tremaining: 5.37s\n",
      "306:\tlearn: 0.2130754\ttotal: 10.7s\tremaining: 5.33s\n",
      "307:\tlearn: 0.2130737\ttotal: 10.7s\tremaining: 5.3s\n",
      "308:\tlearn: 0.2130682\ttotal: 10.8s\tremaining: 5.26s\n",
      "309:\tlearn: 0.2130540\ttotal: 10.8s\tremaining: 5.22s\n",
      "310:\tlearn: 0.2130460\ttotal: 10.8s\tremaining: 5.19s\n",
      "311:\tlearn: 0.2130437\ttotal: 10.9s\tremaining: 5.15s\n",
      "312:\tlearn: 0.2130215\ttotal: 10.9s\tremaining: 5.11s\n",
      "313:\tlearn: 0.2130202\ttotal: 10.9s\tremaining: 5.08s\n",
      "314:\tlearn: 0.2130200\ttotal: 10.9s\tremaining: 5.04s\n",
      "315:\tlearn: 0.2130130\ttotal: 11s\tremaining: 5s\n",
      "316:\tlearn: 0.2130063\ttotal: 11s\tremaining: 4.97s\n",
      "317:\tlearn: 0.2130046\ttotal: 11s\tremaining: 4.93s\n",
      "318:\tlearn: 0.2130032\ttotal: 11.1s\tremaining: 4.89s\n",
      "319:\tlearn: 0.2130031\ttotal: 11.1s\tremaining: 4.86s\n",
      "320:\tlearn: 0.2130027\ttotal: 11.1s\tremaining: 4.82s\n",
      "321:\tlearn: 0.2129933\ttotal: 11.2s\tremaining: 4.79s\n",
      "322:\tlearn: 0.2129840\ttotal: 11.2s\tremaining: 4.75s\n",
      "323:\tlearn: 0.2129778\ttotal: 11.2s\tremaining: 4.71s\n",
      "324:\tlearn: 0.2129690\ttotal: 11.3s\tremaining: 4.68s\n",
      "325:\tlearn: 0.2129622\ttotal: 11.3s\tremaining: 4.64s\n",
      "326:\tlearn: 0.2129542\ttotal: 11.3s\tremaining: 4.6s\n",
      "327:\tlearn: 0.2129384\ttotal: 11.3s\tremaining: 4.57s\n",
      "328:\tlearn: 0.2129369\ttotal: 11.4s\tremaining: 4.53s\n",
      "329:\tlearn: 0.2129363\ttotal: 11.4s\tremaining: 4.5s\n",
      "330:\tlearn: 0.2129358\ttotal: 11.4s\tremaining: 4.46s\n",
      "331:\tlearn: 0.2129287\ttotal: 11.5s\tremaining: 4.42s\n",
      "332:\tlearn: 0.2129171\ttotal: 11.5s\tremaining: 4.39s\n",
      "333:\tlearn: 0.2129164\ttotal: 11.5s\tremaining: 4.35s\n",
      "334:\tlearn: 0.2129125\ttotal: 11.6s\tremaining: 4.32s\n",
      "335:\tlearn: 0.2129118\ttotal: 11.6s\tremaining: 4.28s\n",
      "336:\tlearn: 0.2129117\ttotal: 11.6s\tremaining: 4.25s\n",
      "337:\tlearn: 0.2129116\ttotal: 11.7s\tremaining: 4.21s\n",
      "338:\tlearn: 0.2129060\ttotal: 11.7s\tremaining: 4.17s\n",
      "339:\tlearn: 0.2129050\ttotal: 11.7s\tremaining: 4.14s\n",
      "340:\tlearn: 0.2129040\ttotal: 11.8s\tremaining: 4.1s\n",
      "341:\tlearn: 0.2129039\ttotal: 11.8s\tremaining: 4.07s\n",
      "342:\tlearn: 0.2129023\ttotal: 11.8s\tremaining: 4.03s\n",
      "343:\tlearn: 0.2128965\ttotal: 11.9s\tremaining: 4s\n",
      "344:\tlearn: 0.2128955\ttotal: 11.9s\tremaining: 3.96s\n",
      "345:\tlearn: 0.2128910\ttotal: 11.9s\tremaining: 3.92s\n",
      "346:\tlearn: 0.2128873\ttotal: 11.9s\tremaining: 3.89s\n",
      "347:\tlearn: 0.2128810\ttotal: 12s\tremaining: 3.85s\n",
      "348:\tlearn: 0.2128795\ttotal: 12s\tremaining: 3.82s\n",
      "349:\tlearn: 0.2128641\ttotal: 12s\tremaining: 3.78s\n",
      "350:\tlearn: 0.2128637\ttotal: 12.1s\tremaining: 3.75s\n",
      "351:\tlearn: 0.2128628\ttotal: 12.1s\tremaining: 3.71s\n",
      "352:\tlearn: 0.2128560\ttotal: 12.1s\tremaining: 3.68s\n",
      "353:\tlearn: 0.2128520\ttotal: 12.2s\tremaining: 3.65s\n",
      "354:\tlearn: 0.2128488\ttotal: 12.2s\tremaining: 3.61s\n",
      "355:\tlearn: 0.2128477\ttotal: 12.2s\tremaining: 3.57s\n",
      "356:\tlearn: 0.2128325\ttotal: 12.3s\tremaining: 3.54s\n",
      "357:\tlearn: 0.2128315\ttotal: 12.3s\tremaining: 3.5s\n",
      "358:\tlearn: 0.2128314\ttotal: 12.3s\tremaining: 3.47s\n",
      "359:\tlearn: 0.2128297\ttotal: 12.4s\tremaining: 3.43s\n",
      "360:\tlearn: 0.2128288\ttotal: 12.4s\tremaining: 3.4s\n",
      "361:\tlearn: 0.2128281\ttotal: 12.4s\tremaining: 3.36s\n",
      "362:\tlearn: 0.2128273\ttotal: 12.4s\tremaining: 3.33s\n",
      "363:\tlearn: 0.2128253\ttotal: 12.5s\tremaining: 3.29s\n",
      "364:\tlearn: 0.2128240\ttotal: 12.5s\tremaining: 3.26s\n",
      "365:\tlearn: 0.2128201\ttotal: 12.5s\tremaining: 3.22s\n",
      "366:\tlearn: 0.2128167\ttotal: 12.6s\tremaining: 3.19s\n",
      "367:\tlearn: 0.2128154\ttotal: 12.6s\tremaining: 3.15s\n",
      "368:\tlearn: 0.2127978\ttotal: 12.6s\tremaining: 3.11s\n",
      "369:\tlearn: 0.2127922\ttotal: 12.7s\tremaining: 3.08s\n",
      "370:\tlearn: 0.2127921\ttotal: 12.7s\tremaining: 3.04s\n",
      "371:\tlearn: 0.2127879\ttotal: 12.7s\tremaining: 3.01s\n",
      "372:\tlearn: 0.2127866\ttotal: 12.7s\tremaining: 2.97s\n",
      "373:\tlearn: 0.2127865\ttotal: 12.8s\tremaining: 2.94s\n",
      "374:\tlearn: 0.2127855\ttotal: 12.8s\tremaining: 2.9s\n",
      "375:\tlearn: 0.2127819\ttotal: 12.8s\tremaining: 2.87s\n",
      "376:\tlearn: 0.2127801\ttotal: 12.9s\tremaining: 2.83s\n",
      "377:\tlearn: 0.2127760\ttotal: 12.9s\tremaining: 2.8s\n",
      "378:\tlearn: 0.2127759\ttotal: 12.9s\tremaining: 2.76s\n",
      "379:\tlearn: 0.2127742\ttotal: 13s\tremaining: 2.73s\n",
      "380:\tlearn: 0.2127734\ttotal: 13s\tremaining: 2.69s\n",
      "381:\tlearn: 0.2127592\ttotal: 13s\tremaining: 2.66s\n",
      "382:\tlearn: 0.2127586\ttotal: 13s\tremaining: 2.62s\n",
      "383:\tlearn: 0.2127577\ttotal: 13.1s\tremaining: 2.59s\n",
      "384:\tlearn: 0.2127566\ttotal: 13.1s\tremaining: 2.55s\n",
      "385:\tlearn: 0.2127563\ttotal: 13.1s\tremaining: 2.52s\n",
      "386:\tlearn: 0.2127563\ttotal: 13.2s\tremaining: 2.48s\n",
      "387:\tlearn: 0.2127524\ttotal: 13.2s\tremaining: 2.45s\n",
      "388:\tlearn: 0.2127513\ttotal: 13.2s\tremaining: 2.42s\n",
      "389:\tlearn: 0.2127513\ttotal: 13.3s\tremaining: 2.38s\n",
      "390:\tlearn: 0.2127506\ttotal: 13.3s\tremaining: 2.35s\n",
      "391:\tlearn: 0.2127500\ttotal: 13.3s\tremaining: 2.31s\n",
      "392:\tlearn: 0.2127453\ttotal: 13.4s\tremaining: 2.28s\n",
      "393:\tlearn: 0.2127396\ttotal: 13.4s\tremaining: 2.24s\n",
      "394:\tlearn: 0.2127335\ttotal: 13.4s\tremaining: 2.21s\n",
      "395:\tlearn: 0.2127318\ttotal: 13.4s\tremaining: 2.17s\n",
      "396:\tlearn: 0.2127199\ttotal: 13.5s\tremaining: 2.14s\n",
      "397:\tlearn: 0.2127187\ttotal: 13.5s\tremaining: 2.1s\n",
      "398:\tlearn: 0.2127133\ttotal: 13.5s\tremaining: 2.07s\n",
      "399:\tlearn: 0.2127127\ttotal: 13.6s\tremaining: 2.03s\n",
      "400:\tlearn: 0.2127123\ttotal: 13.6s\tremaining: 2s\n",
      "401:\tlearn: 0.2127080\ttotal: 13.6s\tremaining: 1.96s\n",
      "402:\tlearn: 0.2127066\ttotal: 13.6s\tremaining: 1.93s\n",
      "403:\tlearn: 0.2127059\ttotal: 13.7s\tremaining: 1.9s\n",
      "404:\tlearn: 0.2127050\ttotal: 13.7s\tremaining: 1.86s\n",
      "405:\tlearn: 0.2127048\ttotal: 13.7s\tremaining: 1.83s\n",
      "406:\tlearn: 0.2127000\ttotal: 13.8s\tremaining: 1.79s\n",
      "407:\tlearn: 0.2126988\ttotal: 13.8s\tremaining: 1.76s\n",
      "408:\tlearn: 0.2126987\ttotal: 13.8s\tremaining: 1.73s\n",
      "409:\tlearn: 0.2126976\ttotal: 13.9s\tremaining: 1.69s\n",
      "410:\tlearn: 0.2126894\ttotal: 13.9s\tremaining: 1.66s\n",
      "411:\tlearn: 0.2126893\ttotal: 13.9s\tremaining: 1.62s\n",
      "412:\tlearn: 0.2126778\ttotal: 14s\tremaining: 1.59s\n",
      "413:\tlearn: 0.2126768\ttotal: 14s\tremaining: 1.56s\n",
      "414:\tlearn: 0.2126767\ttotal: 14.1s\tremaining: 1.52s\n",
      "415:\tlearn: 0.2126763\ttotal: 14.1s\tremaining: 1.49s\n",
      "416:\tlearn: 0.2126751\ttotal: 14.1s\tremaining: 1.46s\n",
      "417:\tlearn: 0.2126745\ttotal: 14.2s\tremaining: 1.42s\n",
      "418:\tlearn: 0.2126725\ttotal: 14.2s\tremaining: 1.39s\n",
      "419:\tlearn: 0.2126713\ttotal: 14.2s\tremaining: 1.35s\n",
      "420:\tlearn: 0.2126681\ttotal: 14.2s\tremaining: 1.32s\n",
      "421:\tlearn: 0.2126641\ttotal: 14.3s\tremaining: 1.28s\n",
      "422:\tlearn: 0.2126617\ttotal: 14.3s\tremaining: 1.25s\n",
      "423:\tlearn: 0.2126616\ttotal: 14.3s\tremaining: 1.22s\n",
      "424:\tlearn: 0.2126570\ttotal: 14.4s\tremaining: 1.18s\n",
      "425:\tlearn: 0.2126565\ttotal: 14.4s\tremaining: 1.15s\n",
      "426:\tlearn: 0.2126558\ttotal: 14.4s\tremaining: 1.11s\n",
      "427:\tlearn: 0.2126558\ttotal: 14.5s\tremaining: 1.08s\n",
      "428:\tlearn: 0.2126527\ttotal: 14.5s\tremaining: 1.05s\n",
      "429:\tlearn: 0.2126514\ttotal: 14.5s\tremaining: 1.01s\n",
      "430:\tlearn: 0.2126375\ttotal: 14.6s\tremaining: 980ms\n",
      "431:\tlearn: 0.2126374\ttotal: 14.6s\tremaining: 945ms\n",
      "432:\tlearn: 0.2126357\ttotal: 14.6s\tremaining: 912ms\n",
      "433:\tlearn: 0.2126223\ttotal: 14.7s\tremaining: 878ms\n",
      "434:\tlearn: 0.2126218\ttotal: 14.7s\tremaining: 844ms\n",
      "435:\tlearn: 0.2126143\ttotal: 14.7s\tremaining: 810ms\n",
      "436:\tlearn: 0.2126098\ttotal: 14.7s\tremaining: 776ms\n",
      "437:\tlearn: 0.2126084\ttotal: 14.8s\tremaining: 742ms\n",
      "438:\tlearn: 0.2126040\ttotal: 14.8s\tremaining: 708ms\n",
      "439:\tlearn: 0.2126027\ttotal: 14.8s\tremaining: 674ms\n",
      "440:\tlearn: 0.2125930\ttotal: 14.9s\tremaining: 641ms\n",
      "441:\tlearn: 0.2125829\ttotal: 14.9s\tremaining: 607ms\n",
      "442:\tlearn: 0.2125768\ttotal: 14.9s\tremaining: 573ms\n",
      "443:\tlearn: 0.2125744\ttotal: 15s\tremaining: 539ms\n",
      "444:\tlearn: 0.2125738\ttotal: 15s\tremaining: 505ms\n",
      "445:\tlearn: 0.2125733\ttotal: 15s\tremaining: 472ms\n",
      "446:\tlearn: 0.2125727\ttotal: 15.1s\tremaining: 438ms\n",
      "447:\tlearn: 0.2125711\ttotal: 15.1s\tremaining: 404ms\n",
      "448:\tlearn: 0.2125698\ttotal: 15.1s\tremaining: 370ms\n",
      "449:\tlearn: 0.2125693\ttotal: 15.2s\tremaining: 337ms\n",
      "450:\tlearn: 0.2125675\ttotal: 15.2s\tremaining: 303ms\n",
      "451:\tlearn: 0.2125608\ttotal: 15.2s\tremaining: 269ms\n",
      "452:\tlearn: 0.2125504\ttotal: 15.2s\tremaining: 236ms\n",
      "453:\tlearn: 0.2125470\ttotal: 15.3s\tremaining: 202ms\n",
      "454:\tlearn: 0.2125448\ttotal: 15.3s\tremaining: 168ms\n",
      "455:\tlearn: 0.2125441\ttotal: 15.3s\tremaining: 135ms\n",
      "456:\tlearn: 0.2125432\ttotal: 15.4s\tremaining: 101ms\n",
      "457:\tlearn: 0.2125426\ttotal: 15.4s\tremaining: 67.3ms\n",
      "458:\tlearn: 0.2125420\ttotal: 15.4s\tremaining: 33.6ms\n",
      "459:\tlearn: 0.2125392\ttotal: 15.5s\tremaining: 0us\n"
     ]
    },
    {
     "data": {
      "text/plain": [
       "<catboost.core.CatBoostClassifier at 0x7ade41fe3460>"
      ]
     },
     "execution_count": 71,
     "metadata": {},
     "output_type": "execute_result"
    }
   ],
   "source": [
    "best_parameters = {'iterations': 460, 'depth': 2, 'learning_rate': 0.26975995369060474, 'l2_leaf_reg': 2.510415398983973, 'border_count': 129, 'random_strength': 9.082728374813005, 'bagging_temperature': 0.1733721435829481}\n",
    "\n",
    "model = CatBoostClassifier(**best_parameters, cat_features= categorical_columns)\n",
    "\n",
    "model.fit(X_train, y_train)"
   ]
  },
  {
   "cell_type": "code",
   "execution_count": null,
   "id": "ac379024",
   "metadata": {
    "papermill": {
     "duration": 0.041292,
     "end_time": "2024-11-28T14:32:08.752162",
     "exception": false,
     "start_time": "2024-11-28T14:32:08.710870",
     "status": "completed"
    },
    "tags": []
   },
   "outputs": [],
   "source": []
  },
  {
   "cell_type": "markdown",
   "id": "3d099492",
   "metadata": {
    "papermill": {
     "duration": 0.041606,
     "end_time": "2024-11-28T14:32:08.834343",
     "exception": false,
     "start_time": "2024-11-28T14:32:08.792737",
     "status": "completed"
    },
    "tags": []
   },
   "source": [
    "### [7] Testing"
   ]
  },
  {
   "cell_type": "code",
   "execution_count": 72,
   "id": "3a65f413",
   "metadata": {
    "execution": {
     "iopub.execute_input": "2024-11-28T14:32:08.919102Z",
     "iopub.status.busy": "2024-11-28T14:32:08.918337Z",
     "iopub.status.idle": "2024-11-28T14:32:09.271531Z",
     "shell.execute_reply": "2024-11-28T14:32:09.270239Z"
    },
    "papermill": {
     "duration": 0.398618,
     "end_time": "2024-11-28T14:32:09.274185",
     "exception": false,
     "start_time": "2024-11-28T14:32:08.875567",
     "status": "completed"
    },
    "tags": []
   },
   "outputs": [],
   "source": [
    "test_df = pd.read_csv('/kaggle/input/playground-series-s4e11/test.csv')"
   ]
  },
  {
   "cell_type": "code",
   "execution_count": null,
   "id": "e589b250",
   "metadata": {
    "papermill": {
     "duration": 0.043799,
     "end_time": "2024-11-28T14:32:09.358869",
     "exception": false,
     "start_time": "2024-11-28T14:32:09.315070",
     "status": "completed"
    },
    "tags": []
   },
   "outputs": [],
   "source": []
  },
  {
   "cell_type": "code",
   "execution_count": 73,
   "id": "6ecdc58a",
   "metadata": {
    "execution": {
     "iopub.execute_input": "2024-11-28T14:32:09.446169Z",
     "iopub.status.busy": "2024-11-28T14:32:09.445728Z",
     "iopub.status.idle": "2024-11-28T14:32:09.453403Z",
     "shell.execute_reply": "2024-11-28T14:32:09.452230Z"
    },
    "papermill": {
     "duration": 0.05438,
     "end_time": "2024-11-28T14:32:09.455767",
     "exception": false,
     "start_time": "2024-11-28T14:32:09.401387",
     "status": "completed"
    },
    "tags": []
   },
   "outputs": [],
   "source": [
    "def process_df(df):\n",
    "    df = df.drop(['id', 'Name', 'City', 'CGPA', 'Academic Pressure', 'Study Satisfaction'], axis = 1)\n",
    "    \n",
    "    df['Profession'] = df.apply(\n",
    "    lambda row: degree_to_profession.get(row['Degree'], row['Profession']),\n",
    "    axis=1\n",
    "    )\n",
    "    df.fillna({'Profession': 'Unknown'}, inplace = True)\n",
    "\n",
    "    df = clean_dietary_habits(df, drop= False)\n",
    "    \n",
    "    df.fillna({'Work Pressure' : 0}, inplace=True)\n",
    "    df.fillna({'Job Satisfaction': 0}, inplace=True)\n",
    "    \n",
    "\n",
    "    df['Profession Category'] = df['Profession'].apply(categorize_profession)\n",
    "\n",
    "    df['Work/Study Hours Classification'] = classify_work_study_hours(df)\n",
    "\n",
    "    df = df[features]\n",
    "    return df"
   ]
  },
  {
   "cell_type": "code",
   "execution_count": 74,
   "id": "58c1b8e4",
   "metadata": {
    "execution": {
     "iopub.execute_input": "2024-11-28T14:32:09.540364Z",
     "iopub.status.busy": "2024-11-28T14:32:09.539930Z",
     "iopub.status.idle": "2024-11-28T14:32:10.658991Z",
     "shell.execute_reply": "2024-11-28T14:32:10.658025Z"
    },
    "papermill": {
     "duration": 1.164186,
     "end_time": "2024-11-28T14:32:10.661505",
     "exception": false,
     "start_time": "2024-11-28T14:32:09.497319",
     "status": "completed"
    },
    "tags": []
   },
   "outputs": [],
   "source": [
    "processed_test = process_df(test_df) "
   ]
  },
  {
   "cell_type": "code",
   "execution_count": 75,
   "id": "0b67675a",
   "metadata": {
    "execution": {
     "iopub.execute_input": "2024-11-28T14:32:10.746492Z",
     "iopub.status.busy": "2024-11-28T14:32:10.746056Z",
     "iopub.status.idle": "2024-11-28T14:32:10.935643Z",
     "shell.execute_reply": "2024-11-28T14:32:10.934343Z"
    },
    "papermill": {
     "duration": 0.235318,
     "end_time": "2024-11-28T14:32:10.938209",
     "exception": false,
     "start_time": "2024-11-28T14:32:10.702891",
     "status": "completed"
    },
    "tags": []
   },
   "outputs": [],
   "source": [
    "y_pred = model.predict(processed_test)"
   ]
  },
  {
   "cell_type": "code",
   "execution_count": 76,
   "id": "c630d854",
   "metadata": {
    "execution": {
     "iopub.execute_input": "2024-11-28T14:32:11.024361Z",
     "iopub.status.busy": "2024-11-28T14:32:11.023907Z",
     "iopub.status.idle": "2024-11-28T14:32:11.098744Z",
     "shell.execute_reply": "2024-11-28T14:32:11.097455Z"
    },
    "papermill": {
     "duration": 0.120585,
     "end_time": "2024-11-28T14:32:11.101302",
     "exception": false,
     "start_time": "2024-11-28T14:32:10.980717",
     "status": "completed"
    },
    "tags": []
   },
   "outputs": [],
   "source": [
    "output = pd.DataFrame({'id': test_df.id, 'Depression': y_pred})\n",
    "output.to_csv('submissions.csv', index=False)"
   ]
  },
  {
   "cell_type": "code",
   "execution_count": null,
   "id": "27975eca",
   "metadata": {
    "papermill": {
     "duration": 0.041523,
     "end_time": "2024-11-28T14:32:11.184163",
     "exception": false,
     "start_time": "2024-11-28T14:32:11.142640",
     "status": "completed"
    },
    "tags": []
   },
   "outputs": [],
   "source": []
  }
 ],
 "metadata": {
  "interpreter": {
   "hash": "4a5e0ed97d2c0bf1f1fc18081dc592ae0ad464b5e425c43e5b21dd6ada0aab08"
  },
  "kaggle": {
   "accelerator": "none",
   "dataSources": [
    {
     "databundleVersionId": 10008389,
     "sourceId": 84895,
     "sourceType": "competition"
    },
    {
     "datasetId": 6185301,
     "sourceId": 10040889,
     "sourceType": "datasetVersion"
    }
   ],
   "dockerImageVersionId": 30786,
   "isGpuEnabled": false,
   "isInternetEnabled": true,
   "language": "python",
   "sourceType": "notebook"
  },
  "kernelspec": {
   "display_name": "Python 3.9.12 ('base')",
   "language": "python",
   "name": "python3"
  },
  "language_info": {
   "codemirror_mode": {
    "name": "ipython",
    "version": 3
   },
   "file_extension": ".py",
   "mimetype": "text/x-python",
   "name": "python",
   "nbconvert_exporter": "python",
   "pygments_lexer": "ipython3",
   "version": "3.10.14"
  },
  "papermill": {
   "default_parameters": {},
   "duration": 1393.824947,
   "end_time": "2024-11-28T14:32:12.148962",
   "environment_variables": {},
   "exception": null,
   "input_path": "__notebook__.ipynb",
   "output_path": "__notebook__.ipynb",
   "parameters": {},
   "start_time": "2024-11-28T14:08:58.324015",
   "version": "2.6.0"
  },
  "widgets": {
   "application/vnd.jupyter.widget-state+json": {
    "state": {
     "19cfd86be71b414a999c83c706442931": {
      "model_module": "@jupyter-widgets/base",
      "model_module_version": "1.2.0",
      "model_name": "LayoutModel",
      "state": {
       "_model_module": "@jupyter-widgets/base",
       "_model_module_version": "1.2.0",
       "_model_name": "LayoutModel",
       "_view_count": null,
       "_view_module": "@jupyter-widgets/base",
       "_view_module_version": "1.2.0",
       "_view_name": "LayoutView",
       "align_content": null,
       "align_items": null,
       "align_self": null,
       "border": null,
       "bottom": null,
       "display": null,
       "flex": null,
       "flex_flow": null,
       "grid_area": null,
       "grid_auto_columns": null,
       "grid_auto_flow": null,
       "grid_auto_rows": null,
       "grid_column": null,
       "grid_gap": null,
       "grid_row": null,
       "grid_template_areas": null,
       "grid_template_columns": null,
       "grid_template_rows": null,
       "height": null,
       "justify_content": null,
       "justify_items": null,
       "left": null,
       "margin": null,
       "max_height": null,
       "max_width": null,
       "min_height": null,
       "min_width": null,
       "object_fit": null,
       "object_position": null,
       "order": null,
       "overflow": null,
       "overflow_x": null,
       "overflow_y": null,
       "padding": null,
       "right": null,
       "top": null,
       "visibility": null,
       "width": null
      }
     },
     "1bed256540704224bc3571e29384f969": {
      "model_module": "@jupyter-widgets/base",
      "model_module_version": "1.2.0",
      "model_name": "LayoutModel",
      "state": {
       "_model_module": "@jupyter-widgets/base",
       "_model_module_version": "1.2.0",
       "_model_name": "LayoutModel",
       "_view_count": null,
       "_view_module": "@jupyter-widgets/base",
       "_view_module_version": "1.2.0",
       "_view_name": "LayoutView",
       "align_content": null,
       "align_items": null,
       "align_self": null,
       "border": null,
       "bottom": null,
       "display": null,
       "flex": null,
       "flex_flow": null,
       "grid_area": null,
       "grid_auto_columns": null,
       "grid_auto_flow": null,
       "grid_auto_rows": null,
       "grid_column": null,
       "grid_gap": null,
       "grid_row": null,
       "grid_template_areas": null,
       "grid_template_columns": null,
       "grid_template_rows": null,
       "height": null,
       "justify_content": null,
       "justify_items": null,
       "left": null,
       "margin": null,
       "max_height": null,
       "max_width": null,
       "min_height": null,
       "min_width": null,
       "object_fit": null,
       "object_position": null,
       "order": null,
       "overflow": null,
       "overflow_x": null,
       "overflow_y": null,
       "padding": null,
       "right": null,
       "top": null,
       "visibility": null,
       "width": null
      }
     },
     "419686f94c3e401688ee24068db35abc": {
      "model_module": "@jupyter-widgets/base",
      "model_module_version": "1.2.0",
      "model_name": "LayoutModel",
      "state": {
       "_model_module": "@jupyter-widgets/base",
       "_model_module_version": "1.2.0",
       "_model_name": "LayoutModel",
       "_view_count": null,
       "_view_module": "@jupyter-widgets/base",
       "_view_module_version": "1.2.0",
       "_view_name": "LayoutView",
       "align_content": null,
       "align_items": null,
       "align_self": null,
       "border": null,
       "bottom": null,
       "display": null,
       "flex": null,
       "flex_flow": null,
       "grid_area": null,
       "grid_auto_columns": null,
       "grid_auto_flow": null,
       "grid_auto_rows": null,
       "grid_column": null,
       "grid_gap": null,
       "grid_row": null,
       "grid_template_areas": null,
       "grid_template_columns": null,
       "grid_template_rows": null,
       "height": null,
       "justify_content": null,
       "justify_items": null,
       "left": null,
       "margin": null,
       "max_height": null,
       "max_width": null,
       "min_height": null,
       "min_width": null,
       "object_fit": null,
       "object_position": null,
       "order": null,
       "overflow": null,
       "overflow_x": null,
       "overflow_y": null,
       "padding": null,
       "right": null,
       "top": null,
       "visibility": null,
       "width": null
      }
     },
     "55e9a381f5e941d2a35081335ac0e6ba": {
      "model_module": "@jupyter-widgets/controls",
      "model_module_version": "1.5.0",
      "model_name": "DescriptionStyleModel",
      "state": {
       "_model_module": "@jupyter-widgets/controls",
       "_model_module_version": "1.5.0",
       "_model_name": "DescriptionStyleModel",
       "_view_count": null,
       "_view_module": "@jupyter-widgets/base",
       "_view_module_version": "1.2.0",
       "_view_name": "StyleView",
       "description_width": ""
      }
     },
     "6c56c0874de343329713412d25c1c01d": {
      "model_module": "@jupyter-widgets/controls",
      "model_module_version": "1.5.0",
      "model_name": "HTMLModel",
      "state": {
       "_dom_classes": [],
       "_model_module": "@jupyter-widgets/controls",
       "_model_module_version": "1.5.0",
       "_model_name": "HTMLModel",
       "_view_count": null,
       "_view_module": "@jupyter-widgets/controls",
       "_view_module_version": "1.5.0",
       "_view_name": "HTMLView",
       "description": "",
       "description_tooltip": null,
       "layout": "IPY_MODEL_19cfd86be71b414a999c83c706442931",
       "placeholder": "​",
       "style": "IPY_MODEL_c81ce201c8ef409d81aad29183cb60d5",
       "value": " 50/50 [22:32&lt;00:00, 38.24s/it]"
      }
     },
     "81e8d830a0f244c8b15ab6da8c9240bb": {
      "model_module": "@jupyter-widgets/base",
      "model_module_version": "1.2.0",
      "model_name": "LayoutModel",
      "state": {
       "_model_module": "@jupyter-widgets/base",
       "_model_module_version": "1.2.0",
       "_model_name": "LayoutModel",
       "_view_count": null,
       "_view_module": "@jupyter-widgets/base",
       "_view_module_version": "1.2.0",
       "_view_name": "LayoutView",
       "align_content": null,
       "align_items": null,
       "align_self": null,
       "border": null,
       "bottom": null,
       "display": null,
       "flex": null,
       "flex_flow": null,
       "grid_area": null,
       "grid_auto_columns": null,
       "grid_auto_flow": null,
       "grid_auto_rows": null,
       "grid_column": null,
       "grid_gap": null,
       "grid_row": null,
       "grid_template_areas": null,
       "grid_template_columns": null,
       "grid_template_rows": null,
       "height": null,
       "justify_content": null,
       "justify_items": null,
       "left": null,
       "margin": null,
       "max_height": null,
       "max_width": null,
       "min_height": null,
       "min_width": null,
       "object_fit": null,
       "object_position": null,
       "order": null,
       "overflow": null,
       "overflow_x": null,
       "overflow_y": null,
       "padding": null,
       "right": null,
       "top": null,
       "visibility": null,
       "width": null
      }
     },
     "946a2362bb7c406191554b726f74ae5e": {
      "model_module": "@jupyter-widgets/controls",
      "model_module_version": "1.5.0",
      "model_name": "HTMLModel",
      "state": {
       "_dom_classes": [],
       "_model_module": "@jupyter-widgets/controls",
       "_model_module_version": "1.5.0",
       "_model_name": "HTMLModel",
       "_view_count": null,
       "_view_module": "@jupyter-widgets/controls",
       "_view_module_version": "1.5.0",
       "_view_name": "HTMLView",
       "description": "",
       "description_tooltip": null,
       "layout": "IPY_MODEL_1bed256540704224bc3571e29384f969",
       "placeholder": "​",
       "style": "IPY_MODEL_55e9a381f5e941d2a35081335ac0e6ba",
       "value": "Best trial: 42. Best value: 0.913742: 100%"
      }
     },
     "9dac823ea89f46b9be4d9fab4d8f67fa": {
      "model_module": "@jupyter-widgets/controls",
      "model_module_version": "1.5.0",
      "model_name": "HBoxModel",
      "state": {
       "_dom_classes": [],
       "_model_module": "@jupyter-widgets/controls",
       "_model_module_version": "1.5.0",
       "_model_name": "HBoxModel",
       "_view_count": null,
       "_view_module": "@jupyter-widgets/controls",
       "_view_module_version": "1.5.0",
       "_view_name": "HBoxView",
       "box_style": "",
       "children": [
        "IPY_MODEL_946a2362bb7c406191554b726f74ae5e",
        "IPY_MODEL_cb5160352ddc46dba702bc0199767ab6",
        "IPY_MODEL_6c56c0874de343329713412d25c1c01d"
       ],
       "layout": "IPY_MODEL_419686f94c3e401688ee24068db35abc"
      }
     },
     "b0b72678350d48da81678a41e6968b90": {
      "model_module": "@jupyter-widgets/controls",
      "model_module_version": "1.5.0",
      "model_name": "ProgressStyleModel",
      "state": {
       "_model_module": "@jupyter-widgets/controls",
       "_model_module_version": "1.5.0",
       "_model_name": "ProgressStyleModel",
       "_view_count": null,
       "_view_module": "@jupyter-widgets/base",
       "_view_module_version": "1.2.0",
       "_view_name": "StyleView",
       "bar_color": null,
       "description_width": ""
      }
     },
     "c81ce201c8ef409d81aad29183cb60d5": {
      "model_module": "@jupyter-widgets/controls",
      "model_module_version": "1.5.0",
      "model_name": "DescriptionStyleModel",
      "state": {
       "_model_module": "@jupyter-widgets/controls",
       "_model_module_version": "1.5.0",
       "_model_name": "DescriptionStyleModel",
       "_view_count": null,
       "_view_module": "@jupyter-widgets/base",
       "_view_module_version": "1.2.0",
       "_view_name": "StyleView",
       "description_width": ""
      }
     },
     "cb5160352ddc46dba702bc0199767ab6": {
      "model_module": "@jupyter-widgets/controls",
      "model_module_version": "1.5.0",
      "model_name": "FloatProgressModel",
      "state": {
       "_dom_classes": [],
       "_model_module": "@jupyter-widgets/controls",
       "_model_module_version": "1.5.0",
       "_model_name": "FloatProgressModel",
       "_view_count": null,
       "_view_module": "@jupyter-widgets/controls",
       "_view_module_version": "1.5.0",
       "_view_name": "ProgressView",
       "bar_style": "success",
       "description": "",
       "description_tooltip": null,
       "layout": "IPY_MODEL_81e8d830a0f244c8b15ab6da8c9240bb",
       "max": 50,
       "min": 0,
       "orientation": "horizontal",
       "style": "IPY_MODEL_b0b72678350d48da81678a41e6968b90",
       "value": 50
      }
     }
    },
    "version_major": 2,
    "version_minor": 0
   }
  }
 },
 "nbformat": 4,
 "nbformat_minor": 5
}
